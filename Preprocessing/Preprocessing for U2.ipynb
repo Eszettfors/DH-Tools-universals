{
 "cells": [
  {
   "cell_type": "markdown",
   "id": "d620f904-e662-436a-8152-30040df62c35",
   "metadata": {
    "tags": []
   },
   "source": [
    "# preprocessing"
   ]
  },
  {
   "cell_type": "code",
   "execution_count": 27,
   "id": "aa2833af-1491-448f-9bb1-de49143d71a1",
   "metadata": {
    "tags": []
   },
   "outputs": [],
   "source": [
    "import pandas as pd"
   ]
  },
  {
   "cell_type": "markdown",
   "id": "c2ded7c3-33f5-41c4-a5af-d9807534ee91",
   "metadata": {},
   "source": [
    "### Mapping\n"
   ]
  },
  {
   "cell_type": "code",
   "execution_count": 28,
   "id": "00da60f8-fe65-45c2-b86d-890a19bc6d42",
   "metadata": {
    "tags": []
   },
   "outputs": [
    {
     "name": "stderr",
     "output_type": "stream",
     "text": [
      "/var/folders/pt/26yk257s5nd579ngn9gyw3k40000gn/T/ipykernel_2432/2320090373.py:15: FutureWarning: Series.__getitem__ treating keys as positions is deprecated. In a future version, integer keys will always be treated as labels (consistent with DataFrame behavior). To access a value by position, use `ser.iloc[pos]`\n",
      "  abbv, family, name = fam.iloc[i][0], fam.iloc[i][2], fam.iloc[i][1]\n"
     ]
    }
   ],
   "source": [
    "fam = pd.read_csv('../data/languagesMSD.csv')\n",
    "\n",
    "fam = fam.drop(['NameOLD', 'MacroareaOLD', 'MacroareaNEW',\n",
    "       'LatitudeOLD', 'LatitudeNEW', 'LongitudeOLD', 'LongitudeNEW',\n",
    "       'GlottocodeOLD', 'GlottocodeNEW', 'ISO639P3code',\n",
    "       'FamilyNEW', 'SubfamilyOLD', 'SubfamilyNEW', 'GenusOLD', 'GenusNEW',\n",
    "       'GenusIcon', 'ISO_codesOLD', 'ISO_codesNEW', 'Samples_100',\n",
    "       'Samples_200', 'Country_IDOLD', 'Country_IDNEW', 'Source'], axis = 1)\n",
    "fam.columns = ['Language_ID','Name', 'Familiy']\n",
    "\n",
    "fams = {}\n",
    "names = {}\n",
    "i = 0\n",
    "for i in range(len(fam.index)):\n",
    "    abbv, family, name = fam.iloc[i][0], fam.iloc[i][2], fam.iloc[i][1]\n",
    "    fams[abbv] = family\n",
    "    names[abbv] = name"
   ]
  },
  {
   "cell_type": "markdown",
   "id": "96e536c9-86bb-462c-b261-813c6d637f8a",
   "metadata": {},
   "source": [
    "### Loading data set"
   ]
  },
  {
   "cell_type": "code",
   "execution_count": 29,
   "id": "0a2980fa-f3a4-41d7-863f-b3d67f836194",
   "metadata": {
    "tags": []
   },
   "outputs": [],
   "source": [
    "df = pd.read_csv('../data/values.csv')"
   ]
  },
  {
   "cell_type": "code",
   "execution_count": 30,
   "id": "5426fc6b-78f6-47f3-bc7b-8ae3729b7fde",
   "metadata": {
    "tags": []
   },
   "outputs": [],
   "source": [
    "df['Name'] = df['Language_ID']\n",
    "df['Family'] = df['Language_ID']"
   ]
  },
  {
   "cell_type": "code",
   "execution_count": 31,
   "id": "9b64cddf-f942-4ba6-b623-72731504022c",
   "metadata": {
    "tags": []
   },
   "outputs": [],
   "source": [
    "df['Name'] = df['Name'].map(names)\n",
    "df['Family'] = df['Family'].map(fams)"
   ]
  },
  {
   "cell_type": "code",
   "execution_count": 32,
   "id": "a1bc5249-22d7-400a-9dbf-24c30e285e56",
   "metadata": {
    "tags": []
   },
   "outputs": [],
   "source": [
    "df = df.drop(['ID','Code_ID', 'Comment', 'Source', 'Example_ID' ],axis=1)"
   ]
  },
  {
   "cell_type": "code",
   "execution_count": 33,
   "id": "8a701ceb-979c-4ee6-ab5a-8fd118817948",
   "metadata": {
    "tags": []
   },
   "outputs": [
    {
     "data": {
      "text/html": [
       "<div>\n",
       "<style scoped>\n",
       "    .dataframe tbody tr th:only-of-type {\n",
       "        vertical-align: middle;\n",
       "    }\n",
       "\n",
       "    .dataframe tbody tr th {\n",
       "        vertical-align: top;\n",
       "    }\n",
       "\n",
       "    .dataframe thead th {\n",
       "        text-align: right;\n",
       "    }\n",
       "</style>\n",
       "<table border=\"1\" class=\"dataframe\">\n",
       "  <thead>\n",
       "    <tr style=\"text-align: right;\">\n",
       "      <th></th>\n",
       "      <th>Language_ID</th>\n",
       "      <th>Parameter_ID</th>\n",
       "      <th>Value</th>\n",
       "      <th>Name</th>\n",
       "      <th>Family</th>\n",
       "    </tr>\n",
       "  </thead>\n",
       "  <tbody>\n",
       "    <tr>\n",
       "      <th>0</th>\n",
       "      <td>aab</td>\n",
       "      <td>81A</td>\n",
       "      <td>2</td>\n",
       "      <td>Arapesh (Abu)</td>\n",
       "      <td>Torricelli</td>\n",
       "    </tr>\n",
       "    <tr>\n",
       "      <th>1</th>\n",
       "      <td>aab</td>\n",
       "      <td>82A</td>\n",
       "      <td>1</td>\n",
       "      <td>Arapesh (Abu)</td>\n",
       "      <td>Torricelli</td>\n",
       "    </tr>\n",
       "    <tr>\n",
       "      <th>2</th>\n",
       "      <td>aab</td>\n",
       "      <td>83A</td>\n",
       "      <td>2</td>\n",
       "      <td>Arapesh (Abu)</td>\n",
       "      <td>Torricelli</td>\n",
       "    </tr>\n",
       "    <tr>\n",
       "      <th>3</th>\n",
       "      <td>aab</td>\n",
       "      <td>87A</td>\n",
       "      <td>2</td>\n",
       "      <td>Arapesh (Abu)</td>\n",
       "      <td>Torricelli</td>\n",
       "    </tr>\n",
       "    <tr>\n",
       "      <th>4</th>\n",
       "      <td>aab</td>\n",
       "      <td>88A</td>\n",
       "      <td>2</td>\n",
       "      <td>Arapesh (Abu)</td>\n",
       "      <td>Torricelli</td>\n",
       "    </tr>\n",
       "    <tr>\n",
       "      <th>...</th>\n",
       "      <td>...</td>\n",
       "      <td>...</td>\n",
       "      <td>...</td>\n",
       "      <td>...</td>\n",
       "      <td>...</td>\n",
       "    </tr>\n",
       "    <tr>\n",
       "      <th>76470</th>\n",
       "      <td>zzo</td>\n",
       "      <td>144B</td>\n",
       "      <td>3</td>\n",
       "      <td>Zapotec (Zoogocho)</td>\n",
       "      <td>Oto-Manguean</td>\n",
       "    </tr>\n",
       "    <tr>\n",
       "      <th>76471</th>\n",
       "      <td>zzo</td>\n",
       "      <td>144T</td>\n",
       "      <td>1</td>\n",
       "      <td>Zapotec (Zoogocho)</td>\n",
       "      <td>Oto-Manguean</td>\n",
       "    </tr>\n",
       "    <tr>\n",
       "      <th>76472</th>\n",
       "      <td>zzo</td>\n",
       "      <td>144V</td>\n",
       "      <td>1</td>\n",
       "      <td>Zapotec (Zoogocho)</td>\n",
       "      <td>Oto-Manguean</td>\n",
       "    </tr>\n",
       "    <tr>\n",
       "      <th>76473</th>\n",
       "      <td>zzo</td>\n",
       "      <td>144W</td>\n",
       "      <td>6</td>\n",
       "      <td>Zapotec (Zoogocho)</td>\n",
       "      <td>Oto-Manguean</td>\n",
       "    </tr>\n",
       "    <tr>\n",
       "      <th>76474</th>\n",
       "      <td>zzo</td>\n",
       "      <td>144X</td>\n",
       "      <td>4</td>\n",
       "      <td>Zapotec (Zoogocho)</td>\n",
       "      <td>Oto-Manguean</td>\n",
       "    </tr>\n",
       "  </tbody>\n",
       "</table>\n",
       "<p>72698 rows × 5 columns</p>\n",
       "</div>"
      ],
      "text/plain": [
       "      Language_ID Parameter_ID  Value                Name        Family\n",
       "0             aab          81A      2       Arapesh (Abu)    Torricelli\n",
       "1             aab          82A      1       Arapesh (Abu)    Torricelli\n",
       "2             aab          83A      2       Arapesh (Abu)    Torricelli\n",
       "3             aab          87A      2       Arapesh (Abu)    Torricelli\n",
       "4             aab          88A      2       Arapesh (Abu)    Torricelli\n",
       "...           ...          ...    ...                 ...           ...\n",
       "76470         zzo         144B      3  Zapotec (Zoogocho)  Oto-Manguean\n",
       "76471         zzo         144T      1  Zapotec (Zoogocho)  Oto-Manguean\n",
       "76472         zzo         144V      1  Zapotec (Zoogocho)  Oto-Manguean\n",
       "76473         zzo         144W      6  Zapotec (Zoogocho)  Oto-Manguean\n",
       "76474         zzo         144X      4  Zapotec (Zoogocho)  Oto-Manguean\n",
       "\n",
       "[72698 rows x 5 columns]"
      ]
     },
     "execution_count": 33,
     "metadata": {},
     "output_type": "execute_result"
    }
   ],
   "source": [
    "df.dropna()"
   ]
  },
  {
   "cell_type": "markdown",
   "id": "668832a5-1da4-46b4-8559-5e0a3acfc135",
   "metadata": {},
   "source": [
    "### preprocessing for U2\n",
    "\n",
    "86A Order of Genitive and Noun\n",
    "85A Order of Adposition and Noun Phrase"
   ]
  },
  {
   "cell_type": "code",
   "execution_count": 34,
   "id": "91e019ce-7ea0-42ce-be7c-1c1162429ca9",
   "metadata": {
    "tags": []
   },
   "outputs": [],
   "source": [
    "A86 = df[df['Parameter_ID'] == '86A']\n",
    "A85 = df[df['Parameter_ID'] == '85A']"
   ]
  },
  {
   "cell_type": "code",
   "execution_count": 35,
   "id": "8de0c8c3-6731-4e1b-858a-a1cdd013b48b",
   "metadata": {
    "tags": []
   },
   "outputs": [
    {
     "data": {
      "text/html": [
       "<div>\n",
       "<style scoped>\n",
       "    .dataframe tbody tr th:only-of-type {\n",
       "        vertical-align: middle;\n",
       "    }\n",
       "\n",
       "    .dataframe tbody tr th {\n",
       "        vertical-align: top;\n",
       "    }\n",
       "\n",
       "    .dataframe thead th {\n",
       "        text-align: right;\n",
       "    }\n",
       "</style>\n",
       "<table border=\"1\" class=\"dataframe\">\n",
       "  <thead>\n",
       "    <tr style=\"text-align: right;\">\n",
       "      <th></th>\n",
       "      <th>Language_ID</th>\n",
       "      <th>Parameter_ID</th>\n",
       "      <th>Value</th>\n",
       "      <th>Name</th>\n",
       "      <th>Family</th>\n",
       "    </tr>\n",
       "  </thead>\n",
       "  <tbody>\n",
       "    <tr>\n",
       "      <th>32</th>\n",
       "      <td>aar</td>\n",
       "      <td>86A</td>\n",
       "      <td>1</td>\n",
       "      <td>Aari</td>\n",
       "      <td>Afro-Asiatic</td>\n",
       "    </tr>\n",
       "    <tr>\n",
       "      <th>55</th>\n",
       "      <td>aba</td>\n",
       "      <td>86A</td>\n",
       "      <td>1</td>\n",
       "      <td>Abau</td>\n",
       "      <td>Sepik</td>\n",
       "    </tr>\n",
       "    <tr>\n",
       "      <th>123</th>\n",
       "      <td>abi</td>\n",
       "      <td>86A</td>\n",
       "      <td>3</td>\n",
       "      <td>Abipón</td>\n",
       "      <td>Guaicuruan</td>\n",
       "    </tr>\n",
       "    <tr>\n",
       "      <th>241</th>\n",
       "      <td>abk</td>\n",
       "      <td>86A</td>\n",
       "      <td>1</td>\n",
       "      <td>Abkhaz</td>\n",
       "      <td>Northwest Caucasian</td>\n",
       "    </tr>\n",
       "    <tr>\n",
       "      <th>349</th>\n",
       "      <td>abn</td>\n",
       "      <td>86A</td>\n",
       "      <td>3</td>\n",
       "      <td>Arabana</td>\n",
       "      <td>Pama-Nyungan</td>\n",
       "    </tr>\n",
       "    <tr>\n",
       "      <th>372</th>\n",
       "      <td>abo</td>\n",
       "      <td>86A</td>\n",
       "      <td>2</td>\n",
       "      <td>Arbore</td>\n",
       "      <td>Afro-Asiatic</td>\n",
       "    </tr>\n",
       "    <tr>\n",
       "      <th>400</th>\n",
       "      <td>abu</td>\n",
       "      <td>86A</td>\n",
       "      <td>1</td>\n",
       "      <td>Abun</td>\n",
       "      <td>West Papuan</td>\n",
       "    </tr>\n",
       "    <tr>\n",
       "      <th>450</th>\n",
       "      <td>abv</td>\n",
       "      <td>86A</td>\n",
       "      <td>1</td>\n",
       "      <td>Abui</td>\n",
       "      <td>Timor-Alor-Pantar</td>\n",
       "    </tr>\n",
       "    <tr>\n",
       "      <th>515</th>\n",
       "      <td>ace</td>\n",
       "      <td>86A</td>\n",
       "      <td>2</td>\n",
       "      <td>Acehnese</td>\n",
       "      <td>Austronesian</td>\n",
       "    </tr>\n",
       "    <tr>\n",
       "      <th>570</th>\n",
       "      <td>acg</td>\n",
       "      <td>86A</td>\n",
       "      <td>1</td>\n",
       "      <td>Achagua</td>\n",
       "      <td>Arawakan</td>\n",
       "    </tr>\n",
       "  </tbody>\n",
       "</table>\n",
       "</div>"
      ],
      "text/plain": [
       "    Language_ID Parameter_ID  Value      Name               Family\n",
       "32          aar          86A      1      Aari         Afro-Asiatic\n",
       "55          aba          86A      1      Abau                Sepik\n",
       "123         abi          86A      3    Abipón           Guaicuruan\n",
       "241         abk          86A      1    Abkhaz  Northwest Caucasian\n",
       "349         abn          86A      3   Arabana         Pama-Nyungan\n",
       "372         abo          86A      2    Arbore         Afro-Asiatic\n",
       "400         abu          86A      1      Abun          West Papuan\n",
       "450         abv          86A      1      Abui    Timor-Alor-Pantar\n",
       "515         ace          86A      2  Acehnese         Austronesian\n",
       "570         acg          86A      1   Achagua             Arawakan"
      ]
     },
     "execution_count": 35,
     "metadata": {},
     "output_type": "execute_result"
    }
   ],
   "source": [
    "A86.head(10)"
   ]
  },
  {
   "cell_type": "markdown",
   "id": "88eb62ac-b266-4531-9275-7fe09176099f",
   "metadata": {},
   "source": [
    "#### 86A:\n",
    "- Value 1 = Genitive-Noun\n",
    "- Value 2 = Noun-Genitive\n",
    "- Value 3 = No dominant order"
   ]
  },
  {
   "cell_type": "code",
   "execution_count": 36,
   "id": "211f4ca9-0d77-4e24-81c7-6d0d5b894a87",
   "metadata": {
    "tags": []
   },
   "outputs": [
    {
     "name": "stderr",
     "output_type": "stream",
     "text": [
      "/var/folders/pt/26yk257s5nd579ngn9gyw3k40000gn/T/ipykernel_2432/1340195027.py:1: SettingWithCopyWarning: \n",
      "A value is trying to be set on a copy of a slice from a DataFrame.\n",
      "Try using .loc[row_indexer,col_indexer] = value instead\n",
      "\n",
      "See the caveats in the documentation: https://pandas.pydata.org/pandas-docs/stable/user_guide/indexing.html#returning-a-view-versus-a-copy\n",
      "  A86.Value = A86.Value.map({1:'Genitive-Noun', 2:'Noun-Genitive', 3:'No_dominant_genitive_noun_order'})\n"
     ]
    }
   ],
   "source": [
    "A86.Value = A86.Value.map({1:'Genitive-Noun', 2:'Noun-Genitive', 3:'No_dominant_genitive_noun_order'})"
   ]
  },
  {
   "cell_type": "code",
   "execution_count": 37,
   "id": "150cda10-4375-4a14-91ad-18b4973faa65",
   "metadata": {
    "tags": []
   },
   "outputs": [
    {
     "data": {
      "text/plain": [
       "Value\n",
       "Genitive-Noun                      685\n",
       "Noun-Genitive                      468\n",
       "No_dominant_genitive_noun_order     96\n",
       "Name: count, dtype: int64"
      ]
     },
     "execution_count": 37,
     "metadata": {},
     "output_type": "execute_result"
    }
   ],
   "source": [
    "A86.Value.value_counts()"
   ]
  },
  {
   "cell_type": "code",
   "execution_count": 38,
   "id": "23c39d00-5551-4224-8099-744db0334e76",
   "metadata": {
    "tags": []
   },
   "outputs": [],
   "source": [
    "A86 = A86.dropna(axis=0)"
   ]
  },
  {
   "cell_type": "code",
   "execution_count": 39,
   "id": "14a10287-fda7-4168-bb78-0bef5732d468",
   "metadata": {
    "tags": []
   },
   "outputs": [
    {
     "data": {
      "text/plain": [
       "Value\n",
       "Genitive-Noun                      648\n",
       "Noun-Genitive                      460\n",
       "No_dominant_genitive_noun_order     92\n",
       "Name: count, dtype: int64"
      ]
     },
     "execution_count": 39,
     "metadata": {},
     "output_type": "execute_result"
    }
   ],
   "source": [
    "A86.Value.value_counts()"
   ]
  },
  {
   "cell_type": "code",
   "execution_count": 40,
   "id": "d38430c0-b813-4294-b3c3-107ccc1843f7",
   "metadata": {
    "tags": []
   },
   "outputs": [
    {
     "name": "stdout",
     "output_type": "stream",
     "text": [
      "<class 'pandas.core.frame.DataFrame'>\n",
      "Index: 1200 entries, 32 to 76434\n",
      "Data columns (total 5 columns):\n",
      " #   Column        Non-Null Count  Dtype \n",
      "---  ------        --------------  ----- \n",
      " 0   Language_ID   1200 non-null   object\n",
      " 1   Parameter_ID  1200 non-null   object\n",
      " 2   Value         1200 non-null   object\n",
      " 3   Name          1200 non-null   object\n",
      " 4   Family        1200 non-null   object\n",
      "dtypes: object(5)\n",
      "memory usage: 56.2+ KB\n"
     ]
    }
   ],
   "source": [
    "A86.info()"
   ]
  },
  {
   "cell_type": "code",
   "execution_count": 41,
   "id": "afbeb972-ef86-42e6-a9c1-1a6336b54674",
   "metadata": {
    "tags": []
   },
   "outputs": [],
   "source": [
    "A86.Parameter_ID = 'A86'\n"
   ]
  },
  {
   "cell_type": "code",
   "execution_count": 42,
   "id": "fc0cc0bd-f7c3-47a4-b5b9-4c86ed879161",
   "metadata": {
    "tags": []
   },
   "outputs": [],
   "source": [
    "import os\n",
    "A86.to_csv('../Processed/86A.csv', index = False)"
   ]
  },
  {
   "cell_type": "markdown",
   "id": "31bb9a71-1cbc-4f3e-aeb7-dc1ed06d3492",
   "metadata": {},
   "source": [
    "#### A85:\n",
    "- Value 1 = postpositions\n",
    "- Value 2 = prepositions\n",
    "- Value 3 = inpositions\n",
    "- Value 4 = no dominant order\n",
    "- Value 5 = no adpositions"
   ]
  },
  {
   "cell_type": "code",
   "execution_count": 43,
   "id": "d326cc64-b4f6-4fb3-9cb8-ba9a6f7f1dd9",
   "metadata": {
    "tags": []
   },
   "outputs": [
    {
     "data": {
      "text/html": [
       "<div>\n",
       "<style scoped>\n",
       "    .dataframe tbody tr th:only-of-type {\n",
       "        vertical-align: middle;\n",
       "    }\n",
       "\n",
       "    .dataframe tbody tr th {\n",
       "        vertical-align: top;\n",
       "    }\n",
       "\n",
       "    .dataframe thead th {\n",
       "        text-align: right;\n",
       "    }\n",
       "</style>\n",
       "<table border=\"1\" class=\"dataframe\">\n",
       "  <thead>\n",
       "    <tr style=\"text-align: right;\">\n",
       "      <th></th>\n",
       "      <th>Language_ID</th>\n",
       "      <th>Parameter_ID</th>\n",
       "      <th>Value</th>\n",
       "      <th>Name</th>\n",
       "      <th>Family</th>\n",
       "    </tr>\n",
       "  </thead>\n",
       "  <tbody>\n",
       "    <tr>\n",
       "      <th>31</th>\n",
       "      <td>aar</td>\n",
       "      <td>85A</td>\n",
       "      <td>1</td>\n",
       "      <td>Aari</td>\n",
       "      <td>Afro-Asiatic</td>\n",
       "    </tr>\n",
       "    <tr>\n",
       "      <th>54</th>\n",
       "      <td>aba</td>\n",
       "      <td>85A</td>\n",
       "      <td>1</td>\n",
       "      <td>Abau</td>\n",
       "      <td>Sepik</td>\n",
       "    </tr>\n",
       "    <tr>\n",
       "      <th>122</th>\n",
       "      <td>abi</td>\n",
       "      <td>85A</td>\n",
       "      <td>2</td>\n",
       "      <td>Abipón</td>\n",
       "      <td>Guaicuruan</td>\n",
       "    </tr>\n",
       "    <tr>\n",
       "      <th>240</th>\n",
       "      <td>abk</td>\n",
       "      <td>85A</td>\n",
       "      <td>1</td>\n",
       "      <td>Abkhaz</td>\n",
       "      <td>Northwest Caucasian</td>\n",
       "    </tr>\n",
       "    <tr>\n",
       "      <th>399</th>\n",
       "      <td>abu</td>\n",
       "      <td>85A</td>\n",
       "      <td>2</td>\n",
       "      <td>Abun</td>\n",
       "      <td>West Papuan</td>\n",
       "    </tr>\n",
       "    <tr>\n",
       "      <th>449</th>\n",
       "      <td>abv</td>\n",
       "      <td>85A</td>\n",
       "      <td>5</td>\n",
       "      <td>Abui</td>\n",
       "      <td>Timor-Alor-Pantar</td>\n",
       "    </tr>\n",
       "    <tr>\n",
       "      <th>514</th>\n",
       "      <td>ace</td>\n",
       "      <td>85A</td>\n",
       "      <td>2</td>\n",
       "      <td>Acehnese</td>\n",
       "      <td>Austronesian</td>\n",
       "    </tr>\n",
       "    <tr>\n",
       "      <th>569</th>\n",
       "      <td>acg</td>\n",
       "      <td>85A</td>\n",
       "      <td>1</td>\n",
       "      <td>Achagua</td>\n",
       "      <td>Arawakan</td>\n",
       "    </tr>\n",
       "    <tr>\n",
       "      <th>620</th>\n",
       "      <td>acl</td>\n",
       "      <td>85A</td>\n",
       "      <td>2</td>\n",
       "      <td>Acholi</td>\n",
       "      <td>Eastern Sudanic</td>\n",
       "    </tr>\n",
       "    <tr>\n",
       "      <th>665</th>\n",
       "      <td>acm</td>\n",
       "      <td>85A</td>\n",
       "      <td>2</td>\n",
       "      <td>Achumawi</td>\n",
       "      <td>Hokan</td>\n",
       "    </tr>\n",
       "  </tbody>\n",
       "</table>\n",
       "</div>"
      ],
      "text/plain": [
       "    Language_ID Parameter_ID  Value      Name               Family\n",
       "31          aar          85A      1      Aari         Afro-Asiatic\n",
       "54          aba          85A      1      Abau                Sepik\n",
       "122         abi          85A      2    Abipón           Guaicuruan\n",
       "240         abk          85A      1    Abkhaz  Northwest Caucasian\n",
       "399         abu          85A      2      Abun          West Papuan\n",
       "449         abv          85A      5      Abui    Timor-Alor-Pantar\n",
       "514         ace          85A      2  Acehnese         Austronesian\n",
       "569         acg          85A      1   Achagua             Arawakan\n",
       "620         acl          85A      2    Acholi      Eastern Sudanic\n",
       "665         acm          85A      2  Achumawi                Hokan"
      ]
     },
     "execution_count": 43,
     "metadata": {},
     "output_type": "execute_result"
    }
   ],
   "source": [
    "A85.head(10)"
   ]
  },
  {
   "cell_type": "code",
   "execution_count": 44,
   "id": "a83ccb6d-1511-4973-84bd-12702a9287ae",
   "metadata": {
    "tags": []
   },
   "outputs": [
    {
     "data": {
      "text/plain": [
       "Value\n",
       "1    577\n",
       "2    511\n",
       "4     58\n",
       "5     30\n",
       "3      8\n",
       "Name: count, dtype: int64"
      ]
     },
     "execution_count": 44,
     "metadata": {},
     "output_type": "execute_result"
    }
   ],
   "source": [
    "A85.Value.value_counts()"
   ]
  },
  {
   "cell_type": "code",
   "execution_count": 45,
   "id": "33466117-4fa4-419c-88a4-3f01dbf29c26",
   "metadata": {
    "tags": []
   },
   "outputs": [
    {
     "name": "stderr",
     "output_type": "stream",
     "text": [
      "/var/folders/pt/26yk257s5nd579ngn9gyw3k40000gn/T/ipykernel_2432/2895767538.py:1: SettingWithCopyWarning: \n",
      "A value is trying to be set on a copy of a slice from a DataFrame.\n",
      "Try using .loc[row_indexer,col_indexer] = value instead\n",
      "\n",
      "See the caveats in the documentation: https://pandas.pydata.org/pandas-docs/stable/user_guide/indexing.html#returning-a-view-versus-a-copy\n",
      "  A85.Value = A85.Value.map({1:'Postpositions', 2:'Prepositions', 3:'Inpositions', 4: 'No dominant adposition order', 5:'No adpositions'})\n"
     ]
    }
   ],
   "source": [
    "A85.Value = A85.Value.map({1:'Postpositions', 2:'Prepositions', 3:'Inpositions', 4: 'No dominant adposition order', 5:'No adpositions'})"
   ]
  },
  {
   "cell_type": "code",
   "execution_count": 46,
   "id": "221f768f-83ea-42ef-ad78-8b302aa56a24",
   "metadata": {
    "tags": []
   },
   "outputs": [
    {
     "data": {
      "text/plain": [
       "Value\n",
       "Postpositions                   577\n",
       "Prepositions                    511\n",
       "No dominant adposition order     58\n",
       "No adpositions                   30\n",
       "Inpositions                       8\n",
       "Name: count, dtype: int64"
      ]
     },
     "execution_count": 46,
     "metadata": {},
     "output_type": "execute_result"
    }
   ],
   "source": [
    "A85.Value.value_counts()"
   ]
  },
  {
   "cell_type": "code",
   "execution_count": 47,
   "id": "c5e22205-d4fe-4ffb-9c6a-2eee459f6c36",
   "metadata": {
    "tags": []
   },
   "outputs": [],
   "source": [
    "A85 = A85.dropna(axis=0)"
   ]
  },
  {
   "cell_type": "code",
   "execution_count": 48,
   "id": "8ebc4330-416c-4bc2-bd04-9e523be8f5db",
   "metadata": {
    "tags": []
   },
   "outputs": [],
   "source": [
    "A85.Parameter_ID = 'A85'"
   ]
  },
  {
   "cell_type": "code",
   "execution_count": 49,
   "id": "0e4ccd23-f36d-486b-9095-98450ac3c0e2",
   "metadata": {
    "tags": []
   },
   "outputs": [],
   "source": [
    "A85.to_csv('../Processed/85A.csv', index = False)"
   ]
  }
 ],
 "metadata": {
  "kernelspec": {
   "display_name": "Python 3 (ipykernel)",
   "language": "python",
   "name": "python3"
  },
  "language_info": {
   "codemirror_mode": {
    "name": "ipython",
    "version": 3
   },
   "file_extension": ".py",
   "mimetype": "text/x-python",
   "name": "python",
   "nbconvert_exporter": "python",
   "pygments_lexer": "ipython3",
   "version": "3.9.13"
  }
 },
 "nbformat": 4,
 "nbformat_minor": 5
}
