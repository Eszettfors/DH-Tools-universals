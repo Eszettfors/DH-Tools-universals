{
 "cells": [
  {
   "cell_type": "markdown",
   "id": "eb8ca305-8946-40a0-b1a3-7031704015da",
   "metadata": {
    "tags": []
   },
   "source": [
    "# preprocessing"
   ]
  },
  {
   "cell_type": "code",
   "execution_count": 1,
   "id": "cdd4ec10-4442-4dc4-b8e5-998dde679d05",
   "metadata": {
    "tags": []
   },
   "outputs": [],
   "source": [
    "import pandas as pd"
   ]
  },
  {
   "cell_type": "markdown",
   "id": "2f816720-4d87-44ee-93f7-9191c783822d",
   "metadata": {},
   "source": [
    "### Lang_ID to Lang name map"
   ]
  },
  {
   "cell_type": "code",
   "execution_count": 2,
   "id": "16499bd4-ecad-4166-939f-89c77e4d26a8",
   "metadata": {
    "tags": []
   },
   "outputs": [],
   "source": [
    "mp = pd.read_csv('../data/language_names.csv')"
   ]
  },
  {
   "cell_type": "code",
   "execution_count": 3,
   "id": "64c7704e-06b1-4a4c-a66a-42b51210bb10",
   "metadata": {
    "tags": []
   },
   "outputs": [
    {
     "data": {
      "text/html": [
       "<div>\n",
       "<style scoped>\n",
       "    .dataframe tbody tr th:only-of-type {\n",
       "        vertical-align: middle;\n",
       "    }\n",
       "\n",
       "    .dataframe tbody tr th {\n",
       "        vertical-align: top;\n",
       "    }\n",
       "\n",
       "    .dataframe thead th {\n",
       "        text-align: right;\n",
       "    }\n",
       "</style>\n",
       "<table border=\"1\" class=\"dataframe\">\n",
       "  <thead>\n",
       "    <tr style=\"text-align: right;\">\n",
       "      <th></th>\n",
       "      <th>ID</th>\n",
       "      <th>Language_ID</th>\n",
       "      <th>Name</th>\n",
       "      <th>Provider</th>\n",
       "    </tr>\n",
       "  </thead>\n",
       "  <tbody>\n",
       "    <tr>\n",
       "      <th>0</th>\n",
       "      <td>1</td>\n",
       "      <td>xoo</td>\n",
       "      <td>!Xóõ</td>\n",
       "      <td>ethnologue</td>\n",
       "    </tr>\n",
       "    <tr>\n",
       "      <th>1</th>\n",
       "      <td>2</td>\n",
       "      <td>arx</td>\n",
       "      <td>'Are'are</td>\n",
       "      <td>ethnologue</td>\n",
       "    </tr>\n",
       "    <tr>\n",
       "      <th>2</th>\n",
       "      <td>3</td>\n",
       "      <td>apk gan</td>\n",
       "      <td>A-Pucikwar</td>\n",
       "      <td>ethnologue</td>\n",
       "    </tr>\n",
       "    <tr>\n",
       "      <th>3</th>\n",
       "      <td>4</td>\n",
       "      <td>aar</td>\n",
       "      <td>Aari</td>\n",
       "      <td>ethnologue</td>\n",
       "    </tr>\n",
       "    <tr>\n",
       "      <th>4</th>\n",
       "      <td>5</td>\n",
       "      <td>aba</td>\n",
       "      <td>Abau</td>\n",
       "      <td>ethnologue</td>\n",
       "    </tr>\n",
       "  </tbody>\n",
       "</table>\n",
       "</div>"
      ],
      "text/plain": [
       "   ID Language_ID        Name    Provider\n",
       "0   1         xoo        !Xóõ  ethnologue\n",
       "1   2         arx    'Are'are  ethnologue\n",
       "2   3     apk gan  A-Pucikwar  ethnologue\n",
       "3   4         aar        Aari  ethnologue\n",
       "4   5         aba        Abau  ethnologue"
      ]
     },
     "execution_count": 3,
     "metadata": {},
     "output_type": "execute_result"
    }
   ],
   "source": [
    "mp.head(5)"
   ]
  },
  {
   "cell_type": "code",
   "execution_count": 4,
   "id": "20eb788a-b0dc-4b85-ade0-08217948af47",
   "metadata": {
    "tags": []
   },
   "outputs": [],
   "source": [
    "mp.drop(['ID', 'Provider'], axis = 1)\n",
    "langs = {}\n",
    "i = 0\n",
    "for i in range(len(mp.index)):\n",
    "    abbv, name = mp.iloc[i][1], mp.iloc[i][2]\n",
    "    langs[abbv] = name"
   ]
  },
  {
   "cell_type": "markdown",
   "id": "3d86ed5c-6078-4baa-a459-6a3c5e19a13b",
   "metadata": {},
   "source": [
    "### langID to family"
   ]
  },
  {
   "cell_type": "code",
   "execution_count": 5,
   "id": "7a3bab0e-f68f-41d4-8a2d-a54f7cbf5ca1",
   "metadata": {
    "tags": []
   },
   "outputs": [],
   "source": [
    "fam = pd.read_csv('../data/languagesMSD.csv')"
   ]
  },
  {
   "cell_type": "code",
   "execution_count": 6,
   "id": "7f1721f1-51bc-4527-bf8c-f966a8c57b1b",
   "metadata": {
    "tags": []
   },
   "outputs": [],
   "source": [
    "fam = fam.drop(['NameOLD', 'NameNEW', 'MacroareaOLD', 'MacroareaNEW',\n",
    "       'LatitudeOLD', 'LatitudeNEW', 'LongitudeOLD', 'LongitudeNEW',\n",
    "       'GlottocodeOLD', 'GlottocodeNEW', 'ISO639P3code',\n",
    "       'FamilyNEW', 'SubfamilyOLD', 'SubfamilyNEW', 'GenusOLD', 'GenusNEW',\n",
    "       'GenusIcon', 'ISO_codesOLD', 'ISO_codesNEW', 'Samples_100',\n",
    "       'Samples_200', 'Country_IDOLD', 'Country_IDNEW', 'Source'], axis = 1)"
   ]
  },
  {
   "cell_type": "code",
   "execution_count": 7,
   "id": "c52d06d1-d7b0-4d1a-962f-60f12f10bc13",
   "metadata": {
    "tags": []
   },
   "outputs": [],
   "source": [
    "fam.columns = ['Language_ID', 'Familiy']"
   ]
  },
  {
   "cell_type": "code",
   "execution_count": 8,
   "id": "bc45d8d9-02f5-4cb5-b500-5c4d3ec9ba42",
   "metadata": {
    "tags": []
   },
   "outputs": [],
   "source": [
    "fams = {}\n",
    "i = 0\n",
    "for i in range(len(fam.index)):\n",
    "    abbv, family = fam.iloc[i][0], fam.iloc[i][1]\n",
    "    fams[abbv] = family"
   ]
  },
  {
   "cell_type": "markdown",
   "id": "72545e42-9f44-4397-9e6b-90a0d0111d33",
   "metadata": {},
   "source": [
    "### Loading data set"
   ]
  },
  {
   "cell_type": "code",
   "execution_count": 9,
   "id": "a627fc63-cda1-4552-bd61-6f4ad81d1644",
   "metadata": {
    "tags": []
   },
   "outputs": [],
   "source": [
    "df = pd.read_csv('../data/values.csv')"
   ]
  },
  {
   "cell_type": "code",
   "execution_count": 10,
   "id": "b4216845-f2c6-4302-84f3-ce9ff2b599be",
   "metadata": {
    "tags": []
   },
   "outputs": [],
   "source": [
    "df['Name'] = df['Language_ID']\n",
    "df['Family'] = df['Language_ID']"
   ]
  },
  {
   "cell_type": "code",
   "execution_count": 11,
   "id": "703a31e0-ef0e-4000-86ec-abad61c67753",
   "metadata": {
    "tags": []
   },
   "outputs": [],
   "source": [
    "df['Name'] = df['Name'].map(langs)\n",
    "df['Family'] = df['Family'].map(fams)"
   ]
  },
  {
   "cell_type": "code",
   "execution_count": 12,
   "id": "3747ac58-7bbd-4e2b-85cb-3d29c7610e19",
   "metadata": {
    "tags": []
   },
   "outputs": [],
   "source": [
    "df = df.drop(['ID','Code_ID', 'Comment', 'Source', 'Example_ID' ],axis=1)"
   ]
  },
  {
   "cell_type": "code",
   "execution_count": 13,
   "id": "426344af-ee58-4c9f-8c70-436519bb5d1b",
   "metadata": {
    "tags": []
   },
   "outputs": [
    {
     "data": {
      "text/html": [
       "<div>\n",
       "<style scoped>\n",
       "    .dataframe tbody tr th:only-of-type {\n",
       "        vertical-align: middle;\n",
       "    }\n",
       "\n",
       "    .dataframe tbody tr th {\n",
       "        vertical-align: top;\n",
       "    }\n",
       "\n",
       "    .dataframe thead th {\n",
       "        text-align: right;\n",
       "    }\n",
       "</style>\n",
       "<table border=\"1\" class=\"dataframe\">\n",
       "  <thead>\n",
       "    <tr style=\"text-align: right;\">\n",
       "      <th></th>\n",
       "      <th>Language_ID</th>\n",
       "      <th>Parameter_ID</th>\n",
       "      <th>Value</th>\n",
       "      <th>Name</th>\n",
       "      <th>Family</th>\n",
       "    </tr>\n",
       "  </thead>\n",
       "  <tbody>\n",
       "    <tr>\n",
       "      <th>22</th>\n",
       "      <td>aar</td>\n",
       "      <td>26A</td>\n",
       "      <td>2</td>\n",
       "      <td>Ari</td>\n",
       "      <td>Afro-Asiatic</td>\n",
       "    </tr>\n",
       "    <tr>\n",
       "      <th>23</th>\n",
       "      <td>aar</td>\n",
       "      <td>33A</td>\n",
       "      <td>9</td>\n",
       "      <td>Ari</td>\n",
       "      <td>Afro-Asiatic</td>\n",
       "    </tr>\n",
       "    <tr>\n",
       "      <th>24</th>\n",
       "      <td>aar</td>\n",
       "      <td>37A</td>\n",
       "      <td>3</td>\n",
       "      <td>Ari</td>\n",
       "      <td>Afro-Asiatic</td>\n",
       "    </tr>\n",
       "    <tr>\n",
       "      <th>25</th>\n",
       "      <td>aar</td>\n",
       "      <td>38A</td>\n",
       "      <td>4</td>\n",
       "      <td>Ari</td>\n",
       "      <td>Afro-Asiatic</td>\n",
       "    </tr>\n",
       "    <tr>\n",
       "      <th>26</th>\n",
       "      <td>aar</td>\n",
       "      <td>51A</td>\n",
       "      <td>1</td>\n",
       "      <td>Ari</td>\n",
       "      <td>Afro-Asiatic</td>\n",
       "    </tr>\n",
       "    <tr>\n",
       "      <th>...</th>\n",
       "      <td>...</td>\n",
       "      <td>...</td>\n",
       "      <td>...</td>\n",
       "      <td>...</td>\n",
       "      <td>...</td>\n",
       "    </tr>\n",
       "    <tr>\n",
       "      <th>76470</th>\n",
       "      <td>zzo</td>\n",
       "      <td>144B</td>\n",
       "      <td>3</td>\n",
       "      <td>Zapotec, Zoogocho</td>\n",
       "      <td>Oto-Manguean</td>\n",
       "    </tr>\n",
       "    <tr>\n",
       "      <th>76471</th>\n",
       "      <td>zzo</td>\n",
       "      <td>144T</td>\n",
       "      <td>1</td>\n",
       "      <td>Zapotec, Zoogocho</td>\n",
       "      <td>Oto-Manguean</td>\n",
       "    </tr>\n",
       "    <tr>\n",
       "      <th>76472</th>\n",
       "      <td>zzo</td>\n",
       "      <td>144V</td>\n",
       "      <td>1</td>\n",
       "      <td>Zapotec, Zoogocho</td>\n",
       "      <td>Oto-Manguean</td>\n",
       "    </tr>\n",
       "    <tr>\n",
       "      <th>76473</th>\n",
       "      <td>zzo</td>\n",
       "      <td>144W</td>\n",
       "      <td>6</td>\n",
       "      <td>Zapotec, Zoogocho</td>\n",
       "      <td>Oto-Manguean</td>\n",
       "    </tr>\n",
       "    <tr>\n",
       "      <th>76474</th>\n",
       "      <td>zzo</td>\n",
       "      <td>144X</td>\n",
       "      <td>4</td>\n",
       "      <td>Zapotec, Zoogocho</td>\n",
       "      <td>Oto-Manguean</td>\n",
       "    </tr>\n",
       "  </tbody>\n",
       "</table>\n",
       "<p>70427 rows × 5 columns</p>\n",
       "</div>"
      ],
      "text/plain": [
       "      Language_ID Parameter_ID  Value               Name        Family\n",
       "22            aar          26A      2                Ari  Afro-Asiatic\n",
       "23            aar          33A      9                Ari  Afro-Asiatic\n",
       "24            aar          37A      3                Ari  Afro-Asiatic\n",
       "25            aar          38A      4                Ari  Afro-Asiatic\n",
       "26            aar          51A      1                Ari  Afro-Asiatic\n",
       "...           ...          ...    ...                ...           ...\n",
       "76470         zzo         144B      3  Zapotec, Zoogocho  Oto-Manguean\n",
       "76471         zzo         144T      1  Zapotec, Zoogocho  Oto-Manguean\n",
       "76472         zzo         144V      1  Zapotec, Zoogocho  Oto-Manguean\n",
       "76473         zzo         144W      6  Zapotec, Zoogocho  Oto-Manguean\n",
       "76474         zzo         144X      4  Zapotec, Zoogocho  Oto-Manguean\n",
       "\n",
       "[70427 rows x 5 columns]"
      ]
     },
     "execution_count": 13,
     "metadata": {},
     "output_type": "execute_result"
    }
   ],
   "source": [
    "df.dropna()"
   ]
  },
  {
   "cell_type": "markdown",
   "id": "7147f2e3-856e-4086-b96a-31cd14b1fe19",
   "metadata": {},
   "source": [
    "### Preprocessing for U30\n",
    "\n",
    "29A Syncretism in Verbal Person/Number Marking, 30A Number of Genders, 21B Exponence of Tense-Aspect-Mood Inflection, 69A Position of Tense-Aspect Affixes"
   ]
  },
  {
   "cell_type": "code",
   "execution_count": 14,
   "id": "d2fe3b9a-6082-47d1-9d80-73b8b0f88379",
   "metadata": {
    "tags": []
   },
   "outputs": [],
   "source": [
    "A29 = df[df['Parameter_ID'] == '29A']\n",
    "A30 = df[df['Parameter_ID'] == '30A']\n",
    "B21 = df[df['Parameter_ID'] == '21B']\n",
    "A69 = df[df['Parameter_ID'] == '69A']"
   ]
  },
  {
   "cell_type": "code",
   "execution_count": 15,
   "id": "998201ce-7b94-49cd-b127-85c5c1aa1c16",
   "metadata": {
    "tags": []
   },
   "outputs": [
    {
     "data": {
      "text/html": [
       "<div>\n",
       "<style scoped>\n",
       "    .dataframe tbody tr th:only-of-type {\n",
       "        vertical-align: middle;\n",
       "    }\n",
       "\n",
       "    .dataframe tbody tr th {\n",
       "        vertical-align: top;\n",
       "    }\n",
       "\n",
       "    .dataframe thead th {\n",
       "        text-align: right;\n",
       "    }\n",
       "</style>\n",
       "<table border=\"1\" class=\"dataframe\">\n",
       "  <thead>\n",
       "    <tr style=\"text-align: right;\">\n",
       "      <th></th>\n",
       "      <th>Language_ID</th>\n",
       "      <th>Parameter_ID</th>\n",
       "      <th>Value</th>\n",
       "      <th>Name</th>\n",
       "      <th>Family</th>\n",
       "    </tr>\n",
       "  </thead>\n",
       "  <tbody>\n",
       "    <tr>\n",
       "      <th>100</th>\n",
       "      <td>abi</td>\n",
       "      <td>29A</td>\n",
       "      <td>2</td>\n",
       "      <td>Abipon</td>\n",
       "      <td>Guaicuruan</td>\n",
       "    </tr>\n",
       "    <tr>\n",
       "      <th>185</th>\n",
       "      <td>abk</td>\n",
       "      <td>29A</td>\n",
       "      <td>3</td>\n",
       "      <td>Abkhaz</td>\n",
       "      <td>Northwest Caucasian</td>\n",
       "    </tr>\n",
       "    <tr>\n",
       "      <th>728</th>\n",
       "      <td>aco</td>\n",
       "      <td>29A</td>\n",
       "      <td>3</td>\n",
       "      <td>Keres (Western)</td>\n",
       "      <td>Keresan</td>\n",
       "    </tr>\n",
       "  </tbody>\n",
       "</table>\n",
       "</div>"
      ],
      "text/plain": [
       "    Language_ID Parameter_ID  Value             Name               Family\n",
       "100         abi          29A      2           Abipon           Guaicuruan\n",
       "185         abk          29A      3           Abkhaz  Northwest Caucasian\n",
       "728         aco          29A      3  Keres (Western)              Keresan"
      ]
     },
     "execution_count": 15,
     "metadata": {},
     "output_type": "execute_result"
    }
   ],
   "source": [
    "A29.head(3)"
   ]
  },
  {
   "cell_type": "markdown",
   "id": "0bd47109-96ab-4a58-a72d-0e28fb56ef6d",
   "metadata": {},
   "source": [
    "29A:\n",
    "- Value 1 = No subject person/number marking\n",
    "- Value 2 = Syncretic\n",
    "- Value 3 = Not syncretic"
   ]
  },
  {
   "cell_type": "code",
   "execution_count": 17,
   "id": "de9d4694-f9f9-4967-93b8-a9a04b80e6fc",
   "metadata": {
    "tags": []
   },
   "outputs": [
    {
     "name": "stderr",
     "output_type": "stream",
     "text": [
      "C:\\Users\\hannn\\AppData\\Local\\Temp\\ipykernel_12832\\3287770586.py:1: SettingWithCopyWarning: \n",
      "A value is trying to be set on a copy of a slice from a DataFrame.\n",
      "Try using .loc[row_indexer,col_indexer] = value instead\n",
      "\n",
      "See the caveats in the documentation: https://pandas.pydata.org/pandas-docs/stable/user_guide/indexing.html#returning-a-view-versus-a-copy\n",
      "  A29.Value = A29.Value.map({1:'No subject person/number marking', 2:'Syncretic', 3:'Not syncretic'})\n"
     ]
    }
   ],
   "source": [
    "A29.Value = A29.Value.map({1:'No subject person/number marking', 2:'Syncretic', 3:'Not syncretic'})"
   ]
  },
  {
   "cell_type": "code",
   "execution_count": 18,
   "id": "b75c65ef-b3a8-4069-9688-798da6b0816b",
   "metadata": {
    "tags": []
   },
   "outputs": [
    {
     "data": {
      "text/plain": [
       "Value\n",
       "Not syncretic                       81\n",
       "Syncretic                           60\n",
       "No subject person/number marking    57\n",
       "Name: count, dtype: int64"
      ]
     },
     "execution_count": 18,
     "metadata": {},
     "output_type": "execute_result"
    }
   ],
   "source": [
    "A29.Value.value_counts()"
   ]
  },
  {
   "cell_type": "code",
   "execution_count": 19,
   "id": "4df0f6d4-9298-45ea-b9d0-082b32182123",
   "metadata": {
    "tags": []
   },
   "outputs": [],
   "source": [
    "A29 = A29.dropna(axis=0)"
   ]
  },
  {
   "cell_type": "code",
   "execution_count": 20,
   "id": "e6a8f143-d7d7-4200-ad3e-76c378f26818",
   "metadata": {
    "tags": []
   },
   "outputs": [
    {
     "name": "stdout",
     "output_type": "stream",
     "text": [
      "<class 'pandas.core.frame.DataFrame'>\n",
      "Index: 177 entries, 100 to 76222\n",
      "Data columns (total 5 columns):\n",
      " #   Column        Non-Null Count  Dtype \n",
      "---  ------        --------------  ----- \n",
      " 0   Language_ID   177 non-null    object\n",
      " 1   Parameter_ID  177 non-null    object\n",
      " 2   Value         177 non-null    object\n",
      " 3   Name          177 non-null    object\n",
      " 4   Family        177 non-null    object\n",
      "dtypes: object(5)\n",
      "memory usage: 8.3+ KB\n"
     ]
    }
   ],
   "source": [
    "A29.info()"
   ]
  },
  {
   "cell_type": "code",
   "execution_count": 21,
   "id": "a72539f1-ea09-4db0-aacc-8d33cef14332",
   "metadata": {
    "tags": []
   },
   "outputs": [],
   "source": [
    "import os\n",
    "A29.to_csv('../Processed/29A.csv', index = False)"
   ]
  },
  {
   "cell_type": "code",
   "execution_count": 22,
   "id": "cd55cfda-2f26-4509-8013-039bfcedb7e1",
   "metadata": {
    "tags": []
   },
   "outputs": [
    {
     "data": {
      "text/html": [
       "<div>\n",
       "<style scoped>\n",
       "    .dataframe tbody tr th:only-of-type {\n",
       "        vertical-align: middle;\n",
       "    }\n",
       "\n",
       "    .dataframe tbody tr th {\n",
       "        vertical-align: top;\n",
       "    }\n",
       "\n",
       "    .dataframe thead th {\n",
       "        text-align: right;\n",
       "    }\n",
       "</style>\n",
       "<table border=\"1\" class=\"dataframe\">\n",
       "  <thead>\n",
       "    <tr style=\"text-align: right;\">\n",
       "      <th></th>\n",
       "      <th>Language_ID</th>\n",
       "      <th>Parameter_ID</th>\n",
       "      <th>Value</th>\n",
       "      <th>Name</th>\n",
       "      <th>Family</th>\n",
       "    </tr>\n",
       "  </thead>\n",
       "  <tbody>\n",
       "    <tr>\n",
       "      <th>186</th>\n",
       "      <td>abk</td>\n",
       "      <td>30A</td>\n",
       "      <td>3</td>\n",
       "      <td>Abkhaz</td>\n",
       "      <td>Northwest Caucasian</td>\n",
       "    </tr>\n",
       "    <tr>\n",
       "      <th>330</th>\n",
       "      <td>abn</td>\n",
       "      <td>30A</td>\n",
       "      <td>1</td>\n",
       "      <td>Arabana</td>\n",
       "      <td>Pama-Nyungan</td>\n",
       "    </tr>\n",
       "    <tr>\n",
       "      <th>365</th>\n",
       "      <td>abo</td>\n",
       "      <td>30A</td>\n",
       "      <td>2</td>\n",
       "      <td>Arbore</td>\n",
       "      <td>Afro-Asiatic</td>\n",
       "    </tr>\n",
       "  </tbody>\n",
       "</table>\n",
       "</div>"
      ],
      "text/plain": [
       "    Language_ID Parameter_ID  Value     Name               Family\n",
       "186         abk          30A      3   Abkhaz  Northwest Caucasian\n",
       "330         abn          30A      1  Arabana         Pama-Nyungan\n",
       "365         abo          30A      2   Arbore         Afro-Asiatic"
      ]
     },
     "execution_count": 22,
     "metadata": {},
     "output_type": "execute_result"
    }
   ],
   "source": [
    "A30.head(3)"
   ]
  },
  {
   "cell_type": "markdown",
   "id": "deaeb18d-fd15-43a2-b2ee-2b4d484f4fb4",
   "metadata": {
    "tags": []
   },
   "source": [
    "30A:\n",
    "- Value 1 = None\n",
    "- Value 2 = Two\n",
    "- Value 3 = Three\n",
    "- Value 4 = Four\n",
    "- Value 5 = Five or more\n"
   ]
  },
  {
   "cell_type": "code",
   "execution_count": 24,
   "id": "2c095075-93ba-40eb-8d35-f11e6f2a659a",
   "metadata": {
    "tags": []
   },
   "outputs": [
    {
     "name": "stderr",
     "output_type": "stream",
     "text": [
      "C:\\Users\\hannn\\AppData\\Local\\Temp\\ipykernel_12832\\705836422.py:1: SettingWithCopyWarning: \n",
      "A value is trying to be set on a copy of a slice from a DataFrame.\n",
      "Try using .loc[row_indexer,col_indexer] = value instead\n",
      "\n",
      "See the caveats in the documentation: https://pandas.pydata.org/pandas-docs/stable/user_guide/indexing.html#returning-a-view-versus-a-copy\n",
      "  A30.Value = A30.Value.map({1:'None', 2:'Two', 3:'Three', 4:'Four', 5: 'Five or more'})\n"
     ]
    }
   ],
   "source": [
    "A30.Value = A30.Value.map({1:'None', 2:'Two', 3:'Three', 4:'Four', 5: 'Five or more'})"
   ]
  },
  {
   "cell_type": "code",
   "execution_count": 25,
   "id": "4a63f3ce-c707-4a4f-a399-e60743225737",
   "metadata": {
    "tags": []
   },
   "outputs": [
    {
     "data": {
      "text/plain": [
       "Value\n",
       "None            145\n",
       "Two              50\n",
       "Three            26\n",
       "Five or more     24\n",
       "Four             12\n",
       "Name: count, dtype: int64"
      ]
     },
     "execution_count": 25,
     "metadata": {},
     "output_type": "execute_result"
    }
   ],
   "source": [
    "A30.Value.value_counts()"
   ]
  },
  {
   "cell_type": "code",
   "execution_count": 26,
   "id": "70636cda-4f46-4800-86f8-95928dc0963b",
   "metadata": {
    "tags": []
   },
   "outputs": [],
   "source": [
    "A30 = A30.dropna(axis=0)"
   ]
  },
  {
   "cell_type": "code",
   "execution_count": 27,
   "id": "77215b7e-1b7f-4dca-9f00-a2febde7a7ab",
   "metadata": {
    "tags": []
   },
   "outputs": [
    {
     "name": "stdout",
     "output_type": "stream",
     "text": [
      "<class 'pandas.core.frame.DataFrame'>\n",
      "Index: 237 entries, 186 to 76223\n",
      "Data columns (total 5 columns):\n",
      " #   Column        Non-Null Count  Dtype \n",
      "---  ------        --------------  ----- \n",
      " 0   Language_ID   237 non-null    object\n",
      " 1   Parameter_ID  237 non-null    object\n",
      " 2   Value         237 non-null    object\n",
      " 3   Name          237 non-null    object\n",
      " 4   Family        237 non-null    object\n",
      "dtypes: object(5)\n",
      "memory usage: 11.1+ KB\n"
     ]
    }
   ],
   "source": [
    "A30.info()"
   ]
  },
  {
   "cell_type": "code",
   "execution_count": 28,
   "id": "4d4ad6d8-69ac-49f1-af8f-6f04a4fb4744",
   "metadata": {
    "tags": []
   },
   "outputs": [],
   "source": [
    "import os\n",
    "A30.to_csv('../Processed/30A.csv', index = False)"
   ]
  },
  {
   "cell_type": "code",
   "execution_count": 29,
   "id": "e749deea-5dbf-48ae-b0a9-464b986575de",
   "metadata": {
    "tags": []
   },
   "outputs": [
    {
     "data": {
      "text/html": [
       "<div>\n",
       "<style scoped>\n",
       "    .dataframe tbody tr th:only-of-type {\n",
       "        vertical-align: middle;\n",
       "    }\n",
       "\n",
       "    .dataframe tbody tr th {\n",
       "        vertical-align: top;\n",
       "    }\n",
       "\n",
       "    .dataframe thead th {\n",
       "        text-align: right;\n",
       "    }\n",
       "</style>\n",
       "<table border=\"1\" class=\"dataframe\">\n",
       "  <thead>\n",
       "    <tr style=\"text-align: right;\">\n",
       "      <th></th>\n",
       "      <th>Language_ID</th>\n",
       "      <th>Parameter_ID</th>\n",
       "      <th>Value</th>\n",
       "      <th>Name</th>\n",
       "      <th>Family</th>\n",
       "    </tr>\n",
       "  </thead>\n",
       "  <tbody>\n",
       "    <tr>\n",
       "      <th>97</th>\n",
       "      <td>abi</td>\n",
       "      <td>21B</td>\n",
       "      <td>1</td>\n",
       "      <td>Abipon</td>\n",
       "      <td>Guaicuruan</td>\n",
       "    </tr>\n",
       "    <tr>\n",
       "      <th>176</th>\n",
       "      <td>abk</td>\n",
       "      <td>21B</td>\n",
       "      <td>1</td>\n",
       "      <td>Abkhaz</td>\n",
       "      <td>Northwest Caucasian</td>\n",
       "    </tr>\n",
       "    <tr>\n",
       "      <th>720</th>\n",
       "      <td>aco</td>\n",
       "      <td>21B</td>\n",
       "      <td>2</td>\n",
       "      <td>Keres (Western)</td>\n",
       "      <td>Keresan</td>\n",
       "    </tr>\n",
       "  </tbody>\n",
       "</table>\n",
       "</div>"
      ],
      "text/plain": [
       "    Language_ID Parameter_ID  Value             Name               Family\n",
       "97          abi          21B      1           Abipon           Guaicuruan\n",
       "176         abk          21B      1           Abkhaz  Northwest Caucasian\n",
       "720         aco          21B      2  Keres (Western)              Keresan"
      ]
     },
     "execution_count": 29,
     "metadata": {},
     "output_type": "execute_result"
    }
   ],
   "source": [
    "B21.head(3)"
   ]
  },
  {
   "cell_type": "markdown",
   "id": "4bf57e1c-db51-4bd2-89d8-415bd578573e",
   "metadata": {},
   "source": [
    "21B:\n",
    "- Value 1 = monoexponential TAM\n",
    "- Value 2 = TAM+agreement\n",
    "- Value 3 = TAM+agreement+diathesis\n",
    "- Value 4 = TAM+agreement+construct\n",
    "- Value 5 = TAM+polarity\n",
    "- Value 6 = no TAM"
   ]
  },
  {
   "cell_type": "code",
   "execution_count": 31,
   "id": "4148bf1b-37b9-4f9d-8003-3c0edac1fb04",
   "metadata": {
    "tags": []
   },
   "outputs": [
    {
     "name": "stderr",
     "output_type": "stream",
     "text": [
      "C:\\Users\\hannn\\AppData\\Local\\Temp\\ipykernel_12832\\92059751.py:1: SettingWithCopyWarning: \n",
      "A value is trying to be set on a copy of a slice from a DataFrame.\n",
      "Try using .loc[row_indexer,col_indexer] = value instead\n",
      "\n",
      "See the caveats in the documentation: https://pandas.pydata.org/pandas-docs/stable/user_guide/indexing.html#returning-a-view-versus-a-copy\n",
      "  B21.Value = B21.Value.map({1:'monoexponential TAM', 2:'TAM+agreement', 3:'TAM+agreement+diathesis', 4:'TAM+agreement+construct', 5: 'TAM+polarity', 6: 'no TAM'})\n"
     ]
    }
   ],
   "source": [
    "B21.Value = B21.Value.map({1:'monoexponential TAM', 2:'TAM+agreement', 3:'TAM+agreement+diathesis', 4:'TAM+agreement+construct', 5: 'TAM+polarity', 6: 'no TAM'})"
   ]
  },
  {
   "cell_type": "code",
   "execution_count": 32,
   "id": "27b3c1f5-4d49-48a0-a61b-77a52708fa2a",
   "metadata": {
    "tags": []
   },
   "outputs": [
    {
     "data": {
      "text/plain": [
       "Value\n",
       "monoexponential TAM        127\n",
       "TAM+agreement               19\n",
       "TAM+polarity                 5\n",
       "TAM+agreement+diathesis      4\n",
       "no TAM                       4\n",
       "TAM+agreement+construct      1\n",
       "Name: count, dtype: int64"
      ]
     },
     "execution_count": 32,
     "metadata": {},
     "output_type": "execute_result"
    }
   ],
   "source": [
    "B21.Value.value_counts()"
   ]
  },
  {
   "cell_type": "code",
   "execution_count": 33,
   "id": "64305d9e-b6d6-49c5-aa75-e41ebd2cb6a8",
   "metadata": {
    "tags": []
   },
   "outputs": [],
   "source": [
    "B21 = B21.dropna(axis=0)"
   ]
  },
  {
   "cell_type": "code",
   "execution_count": 34,
   "id": "06b18142-233b-4867-b54d-971bea8d0bf8",
   "metadata": {
    "tags": []
   },
   "outputs": [
    {
     "name": "stdout",
     "output_type": "stream",
     "text": [
      "<class 'pandas.core.frame.DataFrame'>\n",
      "Index: 141 entries, 97 to 76213\n",
      "Data columns (total 5 columns):\n",
      " #   Column        Non-Null Count  Dtype \n",
      "---  ------        --------------  ----- \n",
      " 0   Language_ID   141 non-null    object\n",
      " 1   Parameter_ID  141 non-null    object\n",
      " 2   Value         141 non-null    object\n",
      " 3   Name          141 non-null    object\n",
      " 4   Family        141 non-null    object\n",
      "dtypes: object(5)\n",
      "memory usage: 6.6+ KB\n"
     ]
    }
   ],
   "source": [
    "B21.info()"
   ]
  },
  {
   "cell_type": "code",
   "execution_count": 35,
   "id": "d65f4294-762e-4098-bf9a-2dfc910b4463",
   "metadata": {
    "tags": []
   },
   "outputs": [],
   "source": [
    "import os\n",
    "B21.to_csv('../Processed/21B.csv', index = False)"
   ]
  },
  {
   "cell_type": "code",
   "execution_count": 36,
   "id": "9a8cbfb6-c2b0-4298-9145-c0ba7c9a1bab",
   "metadata": {
    "tags": []
   },
   "outputs": [
    {
     "data": {
      "text/html": [
       "<div>\n",
       "<style scoped>\n",
       "    .dataframe tbody tr th:only-of-type {\n",
       "        vertical-align: middle;\n",
       "    }\n",
       "\n",
       "    .dataframe tbody tr th {\n",
       "        vertical-align: top;\n",
       "    }\n",
       "\n",
       "    .dataframe thead th {\n",
       "        text-align: right;\n",
       "    }\n",
       "</style>\n",
       "<table border=\"1\" class=\"dataframe\">\n",
       "  <thead>\n",
       "    <tr style=\"text-align: right;\">\n",
       "      <th></th>\n",
       "      <th>Language_ID</th>\n",
       "      <th>Parameter_ID</th>\n",
       "      <th>Value</th>\n",
       "      <th>Name</th>\n",
       "      <th>Family</th>\n",
       "    </tr>\n",
       "  </thead>\n",
       "  <tbody>\n",
       "    <tr>\n",
       "      <th>28</th>\n",
       "      <td>aar</td>\n",
       "      <td>69A</td>\n",
       "      <td>2</td>\n",
       "      <td>Ari</td>\n",
       "      <td>Afro-Asiatic</td>\n",
       "    </tr>\n",
       "    <tr>\n",
       "      <th>115</th>\n",
       "      <td>abi</td>\n",
       "      <td>69A</td>\n",
       "      <td>2</td>\n",
       "      <td>Abipon</td>\n",
       "      <td>Guaicuruan</td>\n",
       "    </tr>\n",
       "    <tr>\n",
       "      <th>223</th>\n",
       "      <td>abk</td>\n",
       "      <td>69A</td>\n",
       "      <td>2</td>\n",
       "      <td>Abkhaz</td>\n",
       "      <td>Northwest Caucasian</td>\n",
       "    </tr>\n",
       "  </tbody>\n",
       "</table>\n",
       "</div>"
      ],
      "text/plain": [
       "    Language_ID Parameter_ID  Value    Name               Family\n",
       "28          aar          69A      2     Ari         Afro-Asiatic\n",
       "115         abi          69A      2  Abipon           Guaicuruan\n",
       "223         abk          69A      2  Abkhaz  Northwest Caucasian"
      ]
     },
     "execution_count": 36,
     "metadata": {},
     "output_type": "execute_result"
    }
   ],
   "source": [
    "A69.head(3)"
   ]
  },
  {
   "cell_type": "markdown",
   "id": "4aa0bbce-d145-42b5-9e96-4265953d1204",
   "metadata": {
    "tags": []
   },
   "source": [
    "69A:\n",
    "- Value 1 = Tense-aspect prefixes\n",
    "- Value 2 = Tense-aspect suffixes\n",
    "- Value 3 = Tense-aspect tone\n",
    "- Value 4 = Mixed type\n",
    "- Value 5 = No tense-aspect inflection"
   ]
  },
  {
   "cell_type": "code",
   "execution_count": 38,
   "id": "11003853-6769-4ac5-bc7e-dcfec186dbb5",
   "metadata": {
    "tags": []
   },
   "outputs": [
    {
     "name": "stderr",
     "output_type": "stream",
     "text": [
      "C:\\Users\\hannn\\AppData\\Local\\Temp\\ipykernel_12832\\1931364395.py:1: SettingWithCopyWarning: \n",
      "A value is trying to be set on a copy of a slice from a DataFrame.\n",
      "Try using .loc[row_indexer,col_indexer] = value instead\n",
      "\n",
      "See the caveats in the documentation: https://pandas.pydata.org/pandas-docs/stable/user_guide/indexing.html#returning-a-view-versus-a-copy\n",
      "  A69.Value = A69.Value.map({1:'Tense-aspect prefixes', 2:'Tense-aspect suffixes', 3:'Tense-aspect tone', 4:'Mixed type', 5: 'No tense-aspect inflection'})\n"
     ]
    }
   ],
   "source": [
    "A69.Value = A69.Value.map({1:'Tense-aspect prefixes', 2:'Tense-aspect suffixes', 3:'Tense-aspect tone', 4:'Mixed type', 5: 'No tense-aspect inflection'})"
   ]
  },
  {
   "cell_type": "code",
   "execution_count": 39,
   "id": "d54cb8dd-0bf5-45b0-92ff-7de346513206",
   "metadata": {
    "tags": []
   },
   "outputs": [
    {
     "data": {
      "text/plain": [
       "Value\n",
       "Tense-aspect suffixes         667\n",
       "Tense-aspect prefixes         153\n",
       "No tense-aspect inflection    152\n",
       "Mixed type                    146\n",
       "Tense-aspect tone              13\n",
       "Name: count, dtype: int64"
      ]
     },
     "execution_count": 39,
     "metadata": {},
     "output_type": "execute_result"
    }
   ],
   "source": [
    "A69.Value.value_counts()"
   ]
  },
  {
   "cell_type": "code",
   "execution_count": 40,
   "id": "c2ba90bb-65d5-42aa-9d4f-8d587fd9b832",
   "metadata": {
    "tags": []
   },
   "outputs": [],
   "source": [
    "A69 = A69.dropna(axis=0)"
   ]
  },
  {
   "cell_type": "code",
   "execution_count": 41,
   "id": "83d705d5-6cc0-4a7c-987e-d85d2783c6ba",
   "metadata": {
    "tags": []
   },
   "outputs": [
    {
     "name": "stdout",
     "output_type": "stream",
     "text": [
      "<class 'pandas.core.frame.DataFrame'>\n",
      "Index: 1054 entries, 28 to 76447\n",
      "Data columns (total 5 columns):\n",
      " #   Column        Non-Null Count  Dtype \n",
      "---  ------        --------------  ----- \n",
      " 0   Language_ID   1054 non-null   object\n",
      " 1   Parameter_ID  1054 non-null   object\n",
      " 2   Value         1054 non-null   object\n",
      " 3   Name          1054 non-null   object\n",
      " 4   Family        1054 non-null   object\n",
      "dtypes: object(5)\n",
      "memory usage: 49.4+ KB\n"
     ]
    }
   ],
   "source": [
    "A69.info()"
   ]
  },
  {
   "cell_type": "code",
   "execution_count": 42,
   "id": "9194c177-fdff-4ba7-9c90-617524102139",
   "metadata": {
    "tags": []
   },
   "outputs": [],
   "source": [
    "import os\n",
    "A69.to_csv('../Processed/69A.csv', index = False)"
   ]
  },
  {
   "cell_type": "code",
   "execution_count": null,
   "id": "3f54f191-885f-4dd7-a14b-a70c265a3f32",
   "metadata": {},
   "outputs": [],
   "source": []
  }
 ],
 "metadata": {
  "kernelspec": {
   "display_name": "Python 3 (ipykernel)",
   "language": "python",
   "name": "python3"
  },
  "language_info": {
   "codemirror_mode": {
    "name": "ipython",
    "version": 3
   },
   "file_extension": ".py",
   "mimetype": "text/x-python",
   "name": "python",
   "nbconvert_exporter": "python",
   "pygments_lexer": "ipython3",
   "version": "3.11.5"
  }
 },
 "nbformat": 4,
 "nbformat_minor": 5
}
