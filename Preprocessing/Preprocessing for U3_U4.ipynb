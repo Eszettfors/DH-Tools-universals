{
 "cells": [
  {
   "cell_type": "markdown",
   "id": "d620f904-e662-436a-8152-30040df62c35",
   "metadata": {
    "tags": []
   },
   "source": [
    "# preprocessing"
   ]
  },
  {
   "cell_type": "code",
   "execution_count": 1,
   "id": "aa2833af-1491-448f-9bb1-de49143d71a1",
   "metadata": {
    "tags": []
   },
   "outputs": [],
   "source": [
    "import pandas as pd"
   ]
  },
  {
   "cell_type": "markdown",
   "id": "5dbe5ea6-3d2e-4064-86f0-3b7b2d403a56",
   "metadata": {
    "tags": []
   },
   "source": [
    "### Mapping"
   ]
  },
  {
   "cell_type": "code",
   "execution_count": 2,
   "id": "1670fc7b",
   "metadata": {},
   "outputs": [
    {
     "name": "stderr",
     "output_type": "stream",
     "text": [
      "/var/folders/pt/26yk257s5nd579ngn9gyw3k40000gn/T/ipykernel_1448/2320090373.py:15: FutureWarning: Series.__getitem__ treating keys as positions is deprecated. In a future version, integer keys will always be treated as labels (consistent with DataFrame behavior). To access a value by position, use `ser.iloc[pos]`\n",
      "  abbv, family, name = fam.iloc[i][0], fam.iloc[i][2], fam.iloc[i][1]\n"
     ]
    }
   ],
   "source": [
    "fam = pd.read_csv('../data/languagesMSD.csv')\n",
    "\n",
    "fam = fam.drop(['NameOLD', 'MacroareaOLD', 'MacroareaNEW',\n",
    "       'LatitudeOLD', 'LatitudeNEW', 'LongitudeOLD', 'LongitudeNEW',\n",
    "       'GlottocodeOLD', 'GlottocodeNEW', 'ISO639P3code',\n",
    "       'FamilyNEW', 'SubfamilyOLD', 'SubfamilyNEW', 'GenusOLD', 'GenusNEW',\n",
    "       'GenusIcon', 'ISO_codesOLD', 'ISO_codesNEW', 'Samples_100',\n",
    "       'Samples_200', 'Country_IDOLD', 'Country_IDNEW', 'Source'], axis = 1)\n",
    "fam.columns = ['Language_ID','Name', 'Familiy']\n",
    "\n",
    "fams = {}\n",
    "names = {}\n",
    "i = 0\n",
    "for i in range(len(fam.index)):\n",
    "    abbv, family, name = fam.iloc[i][0], fam.iloc[i][2], fam.iloc[i][1]\n",
    "    fams[abbv] = family\n",
    "    names[abbv] = name"
   ]
  },
  {
   "cell_type": "markdown",
   "id": "96e536c9-86bb-462c-b261-813c6d637f8a",
   "metadata": {},
   "source": [
    "### Loading data set"
   ]
  },
  {
   "cell_type": "code",
   "execution_count": 3,
   "id": "0a2980fa-f3a4-41d7-863f-b3d67f836194",
   "metadata": {
    "tags": []
   },
   "outputs": [],
   "source": [
    "df = pd.read_csv('../data/values.csv')"
   ]
  },
  {
   "cell_type": "code",
   "execution_count": 4,
   "id": "5426fc6b-78f6-47f3-bc7b-8ae3729b7fde",
   "metadata": {
    "tags": []
   },
   "outputs": [],
   "source": [
    "df['Name'] = df['Language_ID']\n",
    "df['Family'] = df['Language_ID']"
   ]
  },
  {
   "cell_type": "code",
   "execution_count": 5,
   "id": "9b64cddf-f942-4ba6-b623-72731504022c",
   "metadata": {
    "tags": []
   },
   "outputs": [],
   "source": [
    "df['Name'] = df['Name'].map(names)\n",
    "df['Family'] = df['Family'].map(fams)"
   ]
  },
  {
   "cell_type": "code",
   "execution_count": 6,
   "id": "a1bc5249-22d7-400a-9dbf-24c30e285e56",
   "metadata": {
    "tags": []
   },
   "outputs": [],
   "source": [
    "df = df.drop(['ID','Code_ID', 'Comment', 'Source', 'Example_ID' ],axis=1)"
   ]
  },
  {
   "cell_type": "code",
   "execution_count": 7,
   "id": "8a701ceb-979c-4ee6-ab5a-8fd118817948",
   "metadata": {
    "tags": []
   },
   "outputs": [
    {
     "data": {
      "text/html": [
       "<div>\n",
       "<style scoped>\n",
       "    .dataframe tbody tr th:only-of-type {\n",
       "        vertical-align: middle;\n",
       "    }\n",
       "\n",
       "    .dataframe tbody tr th {\n",
       "        vertical-align: top;\n",
       "    }\n",
       "\n",
       "    .dataframe thead th {\n",
       "        text-align: right;\n",
       "    }\n",
       "</style>\n",
       "<table border=\"1\" class=\"dataframe\">\n",
       "  <thead>\n",
       "    <tr style=\"text-align: right;\">\n",
       "      <th></th>\n",
       "      <th>Language_ID</th>\n",
       "      <th>Parameter_ID</th>\n",
       "      <th>Value</th>\n",
       "      <th>Name</th>\n",
       "      <th>Family</th>\n",
       "    </tr>\n",
       "  </thead>\n",
       "  <tbody>\n",
       "    <tr>\n",
       "      <th>0</th>\n",
       "      <td>aab</td>\n",
       "      <td>81A</td>\n",
       "      <td>2</td>\n",
       "      <td>Arapesh (Abu)</td>\n",
       "      <td>Torricelli</td>\n",
       "    </tr>\n",
       "    <tr>\n",
       "      <th>1</th>\n",
       "      <td>aab</td>\n",
       "      <td>82A</td>\n",
       "      <td>1</td>\n",
       "      <td>Arapesh (Abu)</td>\n",
       "      <td>Torricelli</td>\n",
       "    </tr>\n",
       "    <tr>\n",
       "      <th>2</th>\n",
       "      <td>aab</td>\n",
       "      <td>83A</td>\n",
       "      <td>2</td>\n",
       "      <td>Arapesh (Abu)</td>\n",
       "      <td>Torricelli</td>\n",
       "    </tr>\n",
       "    <tr>\n",
       "      <th>3</th>\n",
       "      <td>aab</td>\n",
       "      <td>87A</td>\n",
       "      <td>2</td>\n",
       "      <td>Arapesh (Abu)</td>\n",
       "      <td>Torricelli</td>\n",
       "    </tr>\n",
       "    <tr>\n",
       "      <th>4</th>\n",
       "      <td>aab</td>\n",
       "      <td>88A</td>\n",
       "      <td>2</td>\n",
       "      <td>Arapesh (Abu)</td>\n",
       "      <td>Torricelli</td>\n",
       "    </tr>\n",
       "    <tr>\n",
       "      <th>...</th>\n",
       "      <td>...</td>\n",
       "      <td>...</td>\n",
       "      <td>...</td>\n",
       "      <td>...</td>\n",
       "      <td>...</td>\n",
       "    </tr>\n",
       "    <tr>\n",
       "      <th>76470</th>\n",
       "      <td>zzo</td>\n",
       "      <td>144B</td>\n",
       "      <td>3</td>\n",
       "      <td>Zapotec (Zoogocho)</td>\n",
       "      <td>Oto-Manguean</td>\n",
       "    </tr>\n",
       "    <tr>\n",
       "      <th>76471</th>\n",
       "      <td>zzo</td>\n",
       "      <td>144T</td>\n",
       "      <td>1</td>\n",
       "      <td>Zapotec (Zoogocho)</td>\n",
       "      <td>Oto-Manguean</td>\n",
       "    </tr>\n",
       "    <tr>\n",
       "      <th>76472</th>\n",
       "      <td>zzo</td>\n",
       "      <td>144V</td>\n",
       "      <td>1</td>\n",
       "      <td>Zapotec (Zoogocho)</td>\n",
       "      <td>Oto-Manguean</td>\n",
       "    </tr>\n",
       "    <tr>\n",
       "      <th>76473</th>\n",
       "      <td>zzo</td>\n",
       "      <td>144W</td>\n",
       "      <td>6</td>\n",
       "      <td>Zapotec (Zoogocho)</td>\n",
       "      <td>Oto-Manguean</td>\n",
       "    </tr>\n",
       "    <tr>\n",
       "      <th>76474</th>\n",
       "      <td>zzo</td>\n",
       "      <td>144X</td>\n",
       "      <td>4</td>\n",
       "      <td>Zapotec (Zoogocho)</td>\n",
       "      <td>Oto-Manguean</td>\n",
       "    </tr>\n",
       "  </tbody>\n",
       "</table>\n",
       "<p>72698 rows × 5 columns</p>\n",
       "</div>"
      ],
      "text/plain": [
       "      Language_ID Parameter_ID  Value                Name        Family\n",
       "0             aab          81A      2       Arapesh (Abu)    Torricelli\n",
       "1             aab          82A      1       Arapesh (Abu)    Torricelli\n",
       "2             aab          83A      2       Arapesh (Abu)    Torricelli\n",
       "3             aab          87A      2       Arapesh (Abu)    Torricelli\n",
       "4             aab          88A      2       Arapesh (Abu)    Torricelli\n",
       "...           ...          ...    ...                 ...           ...\n",
       "76470         zzo         144B      3  Zapotec (Zoogocho)  Oto-Manguean\n",
       "76471         zzo         144T      1  Zapotec (Zoogocho)  Oto-Manguean\n",
       "76472         zzo         144V      1  Zapotec (Zoogocho)  Oto-Manguean\n",
       "76473         zzo         144W      6  Zapotec (Zoogocho)  Oto-Manguean\n",
       "76474         zzo         144X      4  Zapotec (Zoogocho)  Oto-Manguean\n",
       "\n",
       "[72698 rows x 5 columns]"
      ]
     },
     "execution_count": 7,
     "metadata": {},
     "output_type": "execute_result"
    }
   ],
   "source": [
    "df.dropna()"
   ]
  },
  {
   "cell_type": "markdown",
   "id": "668832a5-1da4-46b4-8559-5e0a3acfc135",
   "metadata": {},
   "source": [
    "### preprocessing for U3\n",
    "\n",
    "81A: Order of Subject, Object and Verb"
   ]
  },
  {
   "cell_type": "code",
   "execution_count": 8,
   "id": "91e019ce-7ea0-42ce-be7c-1c1162429ca9",
   "metadata": {
    "tags": []
   },
   "outputs": [],
   "source": [
    "A81 = df[df['Parameter_ID'] == '81A']"
   ]
  },
  {
   "cell_type": "code",
   "execution_count": 9,
   "id": "8de0c8c3-6731-4e1b-858a-a1cdd013b48b",
   "metadata": {
    "tags": []
   },
   "outputs": [
    {
     "data": {
      "text/html": [
       "<div>\n",
       "<style scoped>\n",
       "    .dataframe tbody tr th:only-of-type {\n",
       "        vertical-align: middle;\n",
       "    }\n",
       "\n",
       "    .dataframe tbody tr th {\n",
       "        vertical-align: top;\n",
       "    }\n",
       "\n",
       "    .dataframe thead th {\n",
       "        text-align: right;\n",
       "    }\n",
       "</style>\n",
       "<table border=\"1\" class=\"dataframe\">\n",
       "  <thead>\n",
       "    <tr style=\"text-align: right;\">\n",
       "      <th></th>\n",
       "      <th>Language_ID</th>\n",
       "      <th>Parameter_ID</th>\n",
       "      <th>Value</th>\n",
       "      <th>Name</th>\n",
       "      <th>Family</th>\n",
       "    </tr>\n",
       "  </thead>\n",
       "  <tbody>\n",
       "    <tr>\n",
       "      <th>0</th>\n",
       "      <td>aab</td>\n",
       "      <td>81A</td>\n",
       "      <td>2</td>\n",
       "      <td>Arapesh (Abu)</td>\n",
       "      <td>Torricelli</td>\n",
       "    </tr>\n",
       "    <tr>\n",
       "      <th>51</th>\n",
       "      <td>aba</td>\n",
       "      <td>81A</td>\n",
       "      <td>1</td>\n",
       "      <td>Abau</td>\n",
       "      <td>Sepik</td>\n",
       "    </tr>\n",
       "    <tr>\n",
       "      <th>118</th>\n",
       "      <td>abi</td>\n",
       "      <td>81A</td>\n",
       "      <td>2</td>\n",
       "      <td>Abipón</td>\n",
       "      <td>Guaicuruan</td>\n",
       "    </tr>\n",
       "    <tr>\n",
       "      <th>236</th>\n",
       "      <td>abk</td>\n",
       "      <td>81A</td>\n",
       "      <td>1</td>\n",
       "      <td>Abkhaz</td>\n",
       "      <td>Northwest Caucasian</td>\n",
       "    </tr>\n",
       "    <tr>\n",
       "      <th>346</th>\n",
       "      <td>abn</td>\n",
       "      <td>81A</td>\n",
       "      <td>1</td>\n",
       "      <td>Arabana</td>\n",
       "      <td>Pama-Nyungan</td>\n",
       "    </tr>\n",
       "    <tr>\n",
       "      <th>369</th>\n",
       "      <td>abo</td>\n",
       "      <td>81A</td>\n",
       "      <td>1</td>\n",
       "      <td>Arbore</td>\n",
       "      <td>Afro-Asiatic</td>\n",
       "    </tr>\n",
       "    <tr>\n",
       "      <th>395</th>\n",
       "      <td>abu</td>\n",
       "      <td>81A</td>\n",
       "      <td>2</td>\n",
       "      <td>Abun</td>\n",
       "      <td>West Papuan</td>\n",
       "    </tr>\n",
       "    <tr>\n",
       "      <th>446</th>\n",
       "      <td>abv</td>\n",
       "      <td>81A</td>\n",
       "      <td>1</td>\n",
       "      <td>Abui</td>\n",
       "      <td>Timor-Alor-Pantar</td>\n",
       "    </tr>\n",
       "    <tr>\n",
       "      <th>510</th>\n",
       "      <td>ace</td>\n",
       "      <td>81A</td>\n",
       "      <td>7</td>\n",
       "      <td>Acehnese</td>\n",
       "      <td>Austronesian</td>\n",
       "    </tr>\n",
       "    <tr>\n",
       "      <th>566</th>\n",
       "      <td>acg</td>\n",
       "      <td>81A</td>\n",
       "      <td>2</td>\n",
       "      <td>Achagua</td>\n",
       "      <td>Arawakan</td>\n",
       "    </tr>\n",
       "  </tbody>\n",
       "</table>\n",
       "</div>"
      ],
      "text/plain": [
       "    Language_ID Parameter_ID  Value           Name               Family\n",
       "0           aab          81A      2  Arapesh (Abu)           Torricelli\n",
       "51          aba          81A      1           Abau                Sepik\n",
       "118         abi          81A      2         Abipón           Guaicuruan\n",
       "236         abk          81A      1         Abkhaz  Northwest Caucasian\n",
       "346         abn          81A      1        Arabana         Pama-Nyungan\n",
       "369         abo          81A      1         Arbore         Afro-Asiatic\n",
       "395         abu          81A      2           Abun          West Papuan\n",
       "446         abv          81A      1           Abui    Timor-Alor-Pantar\n",
       "510         ace          81A      7       Acehnese         Austronesian\n",
       "566         acg          81A      2        Achagua             Arawakan"
      ]
     },
     "execution_count": 9,
     "metadata": {},
     "output_type": "execute_result"
    }
   ],
   "source": [
    "A81.head(10)"
   ]
  },
  {
   "cell_type": "markdown",
   "id": "88eb62ac-b266-4531-9275-7fe09176099f",
   "metadata": {},
   "source": [
    "#### 81A:\n",
    "- Value 1 = SOV\n",
    "- Value 2 = SVO\n",
    "- Value 3 = VSO\n",
    "- Value 4 = VOS\n",
    "- Value 5 = OVS\n",
    "- Value 6 = OSV\n",
    "- Value 7 = No_dominant_word_order"
   ]
  },
  {
   "cell_type": "code",
   "execution_count": 10,
   "id": "211f4ca9-0d77-4e24-81c7-6d0d5b894a87",
   "metadata": {
    "tags": []
   },
   "outputs": [
    {
     "name": "stderr",
     "output_type": "stream",
     "text": [
      "/var/folders/pt/26yk257s5nd579ngn9gyw3k40000gn/T/ipykernel_1448/3695182782.py:1: SettingWithCopyWarning: \n",
      "A value is trying to be set on a copy of a slice from a DataFrame.\n",
      "Try using .loc[row_indexer,col_indexer] = value instead\n",
      "\n",
      "See the caveats in the documentation: https://pandas.pydata.org/pandas-docs/stable/user_guide/indexing.html#returning-a-view-versus-a-copy\n",
      "  A81.Value = A81.Value.map({1:'SOV', 2:'SVO', 3:'VSO', 4:'VOS', 5: 'OVS', 6:'OSV', 7:'No_dominant_word_order'})\n"
     ]
    }
   ],
   "source": [
    "A81.Value = A81.Value.map({1:'SOV', 2:'SVO', 3:'VSO', 4:'VOS', 5: 'OVS', 6:'OSV', 7:'No_dominant_word_order'})"
   ]
  },
  {
   "cell_type": "code",
   "execution_count": 11,
   "id": "150cda10-4375-4a14-91ad-18b4973faa65",
   "metadata": {
    "tags": []
   },
   "outputs": [
    {
     "data": {
      "text/plain": [
       "Value\n",
       "SOV                       564\n",
       "SVO                       488\n",
       "No_dominant_word_order    189\n",
       "VSO                        95\n",
       "VOS                        25\n",
       "OVS                        11\n",
       "OSV                         4\n",
       "Name: count, dtype: int64"
      ]
     },
     "execution_count": 11,
     "metadata": {},
     "output_type": "execute_result"
    }
   ],
   "source": [
    "A81.Value.value_counts()"
   ]
  },
  {
   "cell_type": "code",
   "execution_count": 12,
   "id": "23c39d00-5551-4224-8099-744db0334e76",
   "metadata": {
    "tags": []
   },
   "outputs": [],
   "source": [
    "A81 = A81.dropna(axis=0)"
   ]
  },
  {
   "cell_type": "code",
   "execution_count": 13,
   "id": "14a10287-fda7-4168-bb78-0bef5732d468",
   "metadata": {
    "tags": []
   },
   "outputs": [
    {
     "data": {
      "text/plain": [
       "Value\n",
       "SOV                       532\n",
       "SVO                       481\n",
       "No_dominant_word_order    179\n",
       "VSO                        90\n",
       "VOS                        24\n",
       "OVS                        10\n",
       "OSV                         4\n",
       "Name: count, dtype: int64"
      ]
     },
     "execution_count": 13,
     "metadata": {},
     "output_type": "execute_result"
    }
   ],
   "source": [
    "A81.Value.value_counts()"
   ]
  },
  {
   "cell_type": "code",
   "execution_count": 14,
   "id": "d38430c0-b813-4294-b3c3-107ccc1843f7",
   "metadata": {
    "tags": []
   },
   "outputs": [
    {
     "name": "stdout",
     "output_type": "stream",
     "text": [
      "<class 'pandas.core.frame.DataFrame'>\n",
      "Index: 1320 entries, 0 to 76448\n",
      "Data columns (total 5 columns):\n",
      " #   Column        Non-Null Count  Dtype \n",
      "---  ------        --------------  ----- \n",
      " 0   Language_ID   1320 non-null   object\n",
      " 1   Parameter_ID  1320 non-null   object\n",
      " 2   Value         1320 non-null   object\n",
      " 3   Name          1320 non-null   object\n",
      " 4   Family        1320 non-null   object\n",
      "dtypes: object(5)\n",
      "memory usage: 61.9+ KB\n"
     ]
    }
   ],
   "source": [
    "A81.info()"
   ]
  },
  {
   "cell_type": "code",
   "execution_count": 15,
   "id": "afbeb972-ef86-42e6-a9c1-1a6336b54674",
   "metadata": {
    "tags": []
   },
   "outputs": [],
   "source": [
    "A81.Parameter_ID = 'A81'"
   ]
  },
  {
   "cell_type": "code",
   "execution_count": 16,
   "id": "fc0cc0bd-f7c3-47a4-b5b9-4c86ed879161",
   "metadata": {
    "tags": []
   },
   "outputs": [],
   "source": [
    "import os\n",
    "A81.to_csv('../Processed/81A.csv', index = False)"
   ]
  }
 ],
 "metadata": {
  "kernelspec": {
   "display_name": "Python 3 (ipykernel)",
   "language": "python",
   "name": "python3"
  },
  "language_info": {
   "codemirror_mode": {
    "name": "ipython",
    "version": 3
   },
   "file_extension": ".py",
   "mimetype": "text/x-python",
   "name": "python",
   "nbconvert_exporter": "python",
   "pygments_lexer": "ipython3",
   "version": "3.9.13"
  }
 },
 "nbformat": 4,
 "nbformat_minor": 5
}
