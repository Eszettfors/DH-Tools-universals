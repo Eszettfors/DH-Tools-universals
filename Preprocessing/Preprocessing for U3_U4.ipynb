{
 "cells": [
  {
   "cell_type": "markdown",
   "id": "d620f904-e662-436a-8152-30040df62c35",
   "metadata": {
    "tags": []
   },
   "source": [
    "# preprocessing"
   ]
  },
  {
   "cell_type": "code",
   "execution_count": 22,
   "id": "aa2833af-1491-448f-9bb1-de49143d71a1",
   "metadata": {
    "tags": []
   },
   "outputs": [],
   "source": [
    "import pandas as pd"
   ]
  },
  {
   "cell_type": "markdown",
   "id": "8231c5ed-6058-4890-97f9-35530a5e8b70",
   "metadata": {},
   "source": [
    "### Lang_ID to Lang name map"
   ]
  },
  {
   "cell_type": "code",
   "execution_count": 23,
   "id": "643ab73b-6625-4d9b-8ac3-2b106a9e3e21",
   "metadata": {
    "tags": []
   },
   "outputs": [],
   "source": [
    "mp = pd.read_csv('../data/language_names.csv')"
   ]
  },
  {
   "cell_type": "code",
   "execution_count": 24,
   "id": "3c09c19f-60de-4fea-9174-78950c00617f",
   "metadata": {
    "tags": []
   },
   "outputs": [
    {
     "data": {
      "text/html": [
       "<div>\n",
       "<style scoped>\n",
       "    .dataframe tbody tr th:only-of-type {\n",
       "        vertical-align: middle;\n",
       "    }\n",
       "\n",
       "    .dataframe tbody tr th {\n",
       "        vertical-align: top;\n",
       "    }\n",
       "\n",
       "    .dataframe thead th {\n",
       "        text-align: right;\n",
       "    }\n",
       "</style>\n",
       "<table border=\"1\" class=\"dataframe\">\n",
       "  <thead>\n",
       "    <tr style=\"text-align: right;\">\n",
       "      <th></th>\n",
       "      <th>ID</th>\n",
       "      <th>Language_ID</th>\n",
       "      <th>Name</th>\n",
       "      <th>Provider</th>\n",
       "    </tr>\n",
       "  </thead>\n",
       "  <tbody>\n",
       "    <tr>\n",
       "      <th>0</th>\n",
       "      <td>1</td>\n",
       "      <td>xoo</td>\n",
       "      <td>!Xóõ</td>\n",
       "      <td>ethnologue</td>\n",
       "    </tr>\n",
       "    <tr>\n",
       "      <th>1</th>\n",
       "      <td>2</td>\n",
       "      <td>arx</td>\n",
       "      <td>'Are'are</td>\n",
       "      <td>ethnologue</td>\n",
       "    </tr>\n",
       "    <tr>\n",
       "      <th>2</th>\n",
       "      <td>3</td>\n",
       "      <td>apk gan</td>\n",
       "      <td>A-Pucikwar</td>\n",
       "      <td>ethnologue</td>\n",
       "    </tr>\n",
       "    <tr>\n",
       "      <th>3</th>\n",
       "      <td>4</td>\n",
       "      <td>aar</td>\n",
       "      <td>Aari</td>\n",
       "      <td>ethnologue</td>\n",
       "    </tr>\n",
       "    <tr>\n",
       "      <th>4</th>\n",
       "      <td>5</td>\n",
       "      <td>aba</td>\n",
       "      <td>Abau</td>\n",
       "      <td>ethnologue</td>\n",
       "    </tr>\n",
       "  </tbody>\n",
       "</table>\n",
       "</div>"
      ],
      "text/plain": [
       "   ID Language_ID        Name    Provider\n",
       "0   1         xoo        !Xóõ  ethnologue\n",
       "1   2         arx    'Are'are  ethnologue\n",
       "2   3     apk gan  A-Pucikwar  ethnologue\n",
       "3   4         aar        Aari  ethnologue\n",
       "4   5         aba        Abau  ethnologue"
      ]
     },
     "execution_count": 24,
     "metadata": {},
     "output_type": "execute_result"
    }
   ],
   "source": [
    "mp.head(5)"
   ]
  },
  {
   "cell_type": "code",
   "execution_count": 25,
   "id": "aeaf4c63-37e1-4fa4-835e-e3cab9773ff4",
   "metadata": {
    "tags": []
   },
   "outputs": [
    {
     "name": "stderr",
     "output_type": "stream",
     "text": [
      "/var/folders/pt/26yk257s5nd579ngn9gyw3k40000gn/T/ipykernel_58371/3939394533.py:5: FutureWarning: Series.__getitem__ treating keys as positions is deprecated. In a future version, integer keys will always be treated as labels (consistent with DataFrame behavior). To access a value by position, use `ser.iloc[pos]`\n",
      "  abbv, name = mp.iloc[i][1], mp.iloc[i][2]\n"
     ]
    }
   ],
   "source": [
    "mp.drop(['ID', 'Provider'], axis = 1)\n",
    "langs = {}\n",
    "i = 0\n",
    "for i in range(len(mp.index)):\n",
    "    abbv, name = mp.iloc[i][1], mp.iloc[i][2]\n",
    "    langs[abbv] = name"
   ]
  },
  {
   "cell_type": "markdown",
   "id": "c2ded7c3-33f5-41c4-a5af-d9807534ee91",
   "metadata": {},
   "source": [
    "### langID to family"
   ]
  },
  {
   "cell_type": "code",
   "execution_count": 26,
   "id": "00da60f8-fe65-45c2-b86d-890a19bc6d42",
   "metadata": {
    "tags": []
   },
   "outputs": [],
   "source": [
    "fam = pd.read_csv('../data/languagesMSD.csv')"
   ]
  },
  {
   "cell_type": "code",
   "execution_count": 27,
   "id": "64e7ee22-da43-4c80-9546-179219af146b",
   "metadata": {
    "tags": []
   },
   "outputs": [],
   "source": [
    "fam = fam.drop(['NameOLD', 'NameNEW', 'MacroareaOLD', 'MacroareaNEW',\n",
    "       'LatitudeOLD', 'LatitudeNEW', 'LongitudeOLD', 'LongitudeNEW',\n",
    "       'GlottocodeOLD', 'GlottocodeNEW', 'ISO639P3code',\n",
    "       'FamilyNEW', 'SubfamilyOLD', 'SubfamilyNEW', 'GenusOLD', 'GenusNEW',\n",
    "       'GenusIcon', 'ISO_codesOLD', 'ISO_codesNEW', 'Samples_100',\n",
    "       'Samples_200', 'Country_IDOLD', 'Country_IDNEW', 'Source'], axis = 1)"
   ]
  },
  {
   "cell_type": "code",
   "execution_count": 28,
   "id": "46385ebd-8179-4139-9015-d767247ca20d",
   "metadata": {
    "tags": []
   },
   "outputs": [],
   "source": [
    "fam.columns = ['Language_ID', 'Familiy']"
   ]
  },
  {
   "cell_type": "code",
   "execution_count": 29,
   "id": "5dbe5ea6-3d2e-4064-86f0-3b7b2d403a56",
   "metadata": {
    "tags": []
   },
   "outputs": [
    {
     "name": "stderr",
     "output_type": "stream",
     "text": [
      "/var/folders/pt/26yk257s5nd579ngn9gyw3k40000gn/T/ipykernel_58371/2108170927.py:4: FutureWarning: Series.__getitem__ treating keys as positions is deprecated. In a future version, integer keys will always be treated as labels (consistent with DataFrame behavior). To access a value by position, use `ser.iloc[pos]`\n",
      "  abbv, family = fam.iloc[i][0], fam.iloc[i][1]\n"
     ]
    }
   ],
   "source": [
    "fams = {}\n",
    "i = 0\n",
    "for i in range(len(fam.index)):\n",
    "    abbv, family = fam.iloc[i][0], fam.iloc[i][1]\n",
    "    fams[abbv] = family"
   ]
  },
  {
   "cell_type": "markdown",
   "id": "96e536c9-86bb-462c-b261-813c6d637f8a",
   "metadata": {},
   "source": [
    "### Loading data set"
   ]
  },
  {
   "cell_type": "code",
   "execution_count": 30,
   "id": "0a2980fa-f3a4-41d7-863f-b3d67f836194",
   "metadata": {
    "tags": []
   },
   "outputs": [],
   "source": [
    "df = pd.read_csv('../data/values.csv')"
   ]
  },
  {
   "cell_type": "code",
   "execution_count": 31,
   "id": "5426fc6b-78f6-47f3-bc7b-8ae3729b7fde",
   "metadata": {
    "tags": []
   },
   "outputs": [],
   "source": [
    "df['Name'] = df['Language_ID']\n",
    "df['Family'] = df['Language_ID']"
   ]
  },
  {
   "cell_type": "code",
   "execution_count": 32,
   "id": "9b64cddf-f942-4ba6-b623-72731504022c",
   "metadata": {
    "tags": []
   },
   "outputs": [],
   "source": [
    "df['Name'] = df['Name'].map(langs)\n",
    "df['Family'] = df['Family'].map(fams)"
   ]
  },
  {
   "cell_type": "code",
   "execution_count": 33,
   "id": "a1bc5249-22d7-400a-9dbf-24c30e285e56",
   "metadata": {
    "tags": []
   },
   "outputs": [],
   "source": [
    "df = df.drop(['ID','Code_ID', 'Comment', 'Source', 'Example_ID' ],axis=1)"
   ]
  },
  {
   "cell_type": "code",
   "execution_count": 34,
   "id": "8a701ceb-979c-4ee6-ab5a-8fd118817948",
   "metadata": {
    "tags": []
   },
   "outputs": [
    {
     "data": {
      "text/html": [
       "<div>\n",
       "<style scoped>\n",
       "    .dataframe tbody tr th:only-of-type {\n",
       "        vertical-align: middle;\n",
       "    }\n",
       "\n",
       "    .dataframe tbody tr th {\n",
       "        vertical-align: top;\n",
       "    }\n",
       "\n",
       "    .dataframe thead th {\n",
       "        text-align: right;\n",
       "    }\n",
       "</style>\n",
       "<table border=\"1\" class=\"dataframe\">\n",
       "  <thead>\n",
       "    <tr style=\"text-align: right;\">\n",
       "      <th></th>\n",
       "      <th>Language_ID</th>\n",
       "      <th>Parameter_ID</th>\n",
       "      <th>Value</th>\n",
       "      <th>Name</th>\n",
       "      <th>Family</th>\n",
       "    </tr>\n",
       "  </thead>\n",
       "  <tbody>\n",
       "    <tr>\n",
       "      <th>22</th>\n",
       "      <td>aar</td>\n",
       "      <td>26A</td>\n",
       "      <td>2</td>\n",
       "      <td>Ari</td>\n",
       "      <td>Afro-Asiatic</td>\n",
       "    </tr>\n",
       "    <tr>\n",
       "      <th>23</th>\n",
       "      <td>aar</td>\n",
       "      <td>33A</td>\n",
       "      <td>9</td>\n",
       "      <td>Ari</td>\n",
       "      <td>Afro-Asiatic</td>\n",
       "    </tr>\n",
       "    <tr>\n",
       "      <th>24</th>\n",
       "      <td>aar</td>\n",
       "      <td>37A</td>\n",
       "      <td>3</td>\n",
       "      <td>Ari</td>\n",
       "      <td>Afro-Asiatic</td>\n",
       "    </tr>\n",
       "    <tr>\n",
       "      <th>25</th>\n",
       "      <td>aar</td>\n",
       "      <td>38A</td>\n",
       "      <td>4</td>\n",
       "      <td>Ari</td>\n",
       "      <td>Afro-Asiatic</td>\n",
       "    </tr>\n",
       "    <tr>\n",
       "      <th>26</th>\n",
       "      <td>aar</td>\n",
       "      <td>51A</td>\n",
       "      <td>1</td>\n",
       "      <td>Ari</td>\n",
       "      <td>Afro-Asiatic</td>\n",
       "    </tr>\n",
       "    <tr>\n",
       "      <th>...</th>\n",
       "      <td>...</td>\n",
       "      <td>...</td>\n",
       "      <td>...</td>\n",
       "      <td>...</td>\n",
       "      <td>...</td>\n",
       "    </tr>\n",
       "    <tr>\n",
       "      <th>76470</th>\n",
       "      <td>zzo</td>\n",
       "      <td>144B</td>\n",
       "      <td>3</td>\n",
       "      <td>Zapotec, Zoogocho</td>\n",
       "      <td>Oto-Manguean</td>\n",
       "    </tr>\n",
       "    <tr>\n",
       "      <th>76471</th>\n",
       "      <td>zzo</td>\n",
       "      <td>144T</td>\n",
       "      <td>1</td>\n",
       "      <td>Zapotec, Zoogocho</td>\n",
       "      <td>Oto-Manguean</td>\n",
       "    </tr>\n",
       "    <tr>\n",
       "      <th>76472</th>\n",
       "      <td>zzo</td>\n",
       "      <td>144V</td>\n",
       "      <td>1</td>\n",
       "      <td>Zapotec, Zoogocho</td>\n",
       "      <td>Oto-Manguean</td>\n",
       "    </tr>\n",
       "    <tr>\n",
       "      <th>76473</th>\n",
       "      <td>zzo</td>\n",
       "      <td>144W</td>\n",
       "      <td>6</td>\n",
       "      <td>Zapotec, Zoogocho</td>\n",
       "      <td>Oto-Manguean</td>\n",
       "    </tr>\n",
       "    <tr>\n",
       "      <th>76474</th>\n",
       "      <td>zzo</td>\n",
       "      <td>144X</td>\n",
       "      <td>4</td>\n",
       "      <td>Zapotec, Zoogocho</td>\n",
       "      <td>Oto-Manguean</td>\n",
       "    </tr>\n",
       "  </tbody>\n",
       "</table>\n",
       "<p>70427 rows × 5 columns</p>\n",
       "</div>"
      ],
      "text/plain": [
       "      Language_ID Parameter_ID  Value               Name        Family\n",
       "22            aar          26A      2                Ari  Afro-Asiatic\n",
       "23            aar          33A      9                Ari  Afro-Asiatic\n",
       "24            aar          37A      3                Ari  Afro-Asiatic\n",
       "25            aar          38A      4                Ari  Afro-Asiatic\n",
       "26            aar          51A      1                Ari  Afro-Asiatic\n",
       "...           ...          ...    ...                ...           ...\n",
       "76470         zzo         144B      3  Zapotec, Zoogocho  Oto-Manguean\n",
       "76471         zzo         144T      1  Zapotec, Zoogocho  Oto-Manguean\n",
       "76472         zzo         144V      1  Zapotec, Zoogocho  Oto-Manguean\n",
       "76473         zzo         144W      6  Zapotec, Zoogocho  Oto-Manguean\n",
       "76474         zzo         144X      4  Zapotec, Zoogocho  Oto-Manguean\n",
       "\n",
       "[70427 rows x 5 columns]"
      ]
     },
     "execution_count": 34,
     "metadata": {},
     "output_type": "execute_result"
    }
   ],
   "source": [
    "df.dropna()"
   ]
  },
  {
   "cell_type": "markdown",
   "id": "668832a5-1da4-46b4-8559-5e0a3acfc135",
   "metadata": {},
   "source": [
    "### preprocessing for U3\n",
    "\n",
    "81A: Order of Subject, Object and Verb"
   ]
  },
  {
   "cell_type": "code",
   "execution_count": 35,
   "id": "91e019ce-7ea0-42ce-be7c-1c1162429ca9",
   "metadata": {
    "tags": []
   },
   "outputs": [],
   "source": [
    "A81 = df[df['Parameter_ID'] == '81A']"
   ]
  },
  {
   "cell_type": "code",
   "execution_count": 36,
   "id": "8de0c8c3-6731-4e1b-858a-a1cdd013b48b",
   "metadata": {
    "tags": []
   },
   "outputs": [
    {
     "data": {
      "text/html": [
       "<div>\n",
       "<style scoped>\n",
       "    .dataframe tbody tr th:only-of-type {\n",
       "        vertical-align: middle;\n",
       "    }\n",
       "\n",
       "    .dataframe tbody tr th {\n",
       "        vertical-align: top;\n",
       "    }\n",
       "\n",
       "    .dataframe thead th {\n",
       "        text-align: right;\n",
       "    }\n",
       "</style>\n",
       "<table border=\"1\" class=\"dataframe\">\n",
       "  <thead>\n",
       "    <tr style=\"text-align: right;\">\n",
       "      <th></th>\n",
       "      <th>Language_ID</th>\n",
       "      <th>Parameter_ID</th>\n",
       "      <th>Value</th>\n",
       "      <th>Name</th>\n",
       "      <th>Family</th>\n",
       "    </tr>\n",
       "  </thead>\n",
       "  <tbody>\n",
       "    <tr>\n",
       "      <th>0</th>\n",
       "      <td>aab</td>\n",
       "      <td>81A</td>\n",
       "      <td>2</td>\n",
       "      <td>NaN</td>\n",
       "      <td>Torricelli</td>\n",
       "    </tr>\n",
       "    <tr>\n",
       "      <th>51</th>\n",
       "      <td>aba</td>\n",
       "      <td>81A</td>\n",
       "      <td>1</td>\n",
       "      <td>Abau</td>\n",
       "      <td>Sepik</td>\n",
       "    </tr>\n",
       "    <tr>\n",
       "      <th>118</th>\n",
       "      <td>abi</td>\n",
       "      <td>81A</td>\n",
       "      <td>2</td>\n",
       "      <td>Abipon</td>\n",
       "      <td>Guaicuruan</td>\n",
       "    </tr>\n",
       "    <tr>\n",
       "      <th>236</th>\n",
       "      <td>abk</td>\n",
       "      <td>81A</td>\n",
       "      <td>1</td>\n",
       "      <td>Abkhaz</td>\n",
       "      <td>Northwest Caucasian</td>\n",
       "    </tr>\n",
       "    <tr>\n",
       "      <th>346</th>\n",
       "      <td>abn</td>\n",
       "      <td>81A</td>\n",
       "      <td>1</td>\n",
       "      <td>Arabana</td>\n",
       "      <td>Pama-Nyungan</td>\n",
       "    </tr>\n",
       "    <tr>\n",
       "      <th>369</th>\n",
       "      <td>abo</td>\n",
       "      <td>81A</td>\n",
       "      <td>1</td>\n",
       "      <td>Arbore</td>\n",
       "      <td>Afro-Asiatic</td>\n",
       "    </tr>\n",
       "    <tr>\n",
       "      <th>395</th>\n",
       "      <td>abu</td>\n",
       "      <td>81A</td>\n",
       "      <td>2</td>\n",
       "      <td>Yimbun</td>\n",
       "      <td>West Papuan</td>\n",
       "    </tr>\n",
       "    <tr>\n",
       "      <th>446</th>\n",
       "      <td>abv</td>\n",
       "      <td>81A</td>\n",
       "      <td>1</td>\n",
       "      <td>Abui</td>\n",
       "      <td>Timor-Alor-Pantar</td>\n",
       "    </tr>\n",
       "    <tr>\n",
       "      <th>510</th>\n",
       "      <td>ace</td>\n",
       "      <td>81A</td>\n",
       "      <td>7</td>\n",
       "      <td>Achinese</td>\n",
       "      <td>Austronesian</td>\n",
       "    </tr>\n",
       "    <tr>\n",
       "      <th>566</th>\n",
       "      <td>acg</td>\n",
       "      <td>81A</td>\n",
       "      <td>2</td>\n",
       "      <td>Achagua</td>\n",
       "      <td>Arawakan</td>\n",
       "    </tr>\n",
       "  </tbody>\n",
       "</table>\n",
       "</div>"
      ],
      "text/plain": [
       "    Language_ID Parameter_ID  Value      Name               Family\n",
       "0           aab          81A      2       NaN           Torricelli\n",
       "51          aba          81A      1      Abau                Sepik\n",
       "118         abi          81A      2    Abipon           Guaicuruan\n",
       "236         abk          81A      1    Abkhaz  Northwest Caucasian\n",
       "346         abn          81A      1   Arabana         Pama-Nyungan\n",
       "369         abo          81A      1    Arbore         Afro-Asiatic\n",
       "395         abu          81A      2    Yimbun          West Papuan\n",
       "446         abv          81A      1      Abui    Timor-Alor-Pantar\n",
       "510         ace          81A      7  Achinese         Austronesian\n",
       "566         acg          81A      2   Achagua             Arawakan"
      ]
     },
     "execution_count": 36,
     "metadata": {},
     "output_type": "execute_result"
    }
   ],
   "source": [
    "A81.head(10)"
   ]
  },
  {
   "cell_type": "markdown",
   "id": "88eb62ac-b266-4531-9275-7fe09176099f",
   "metadata": {},
   "source": [
    "#### 81A:\n",
    "- Value 1 = SOV\n",
    "- Value 2 = SVO\n",
    "- Value 3 = VSO\n",
    "- Value 4 = VOS\n",
    "- Value 5 = OVS\n",
    "- Value 6 = OSV\n",
    "- Value 7 = No_dominant_word_order"
   ]
  },
  {
   "cell_type": "code",
   "execution_count": 37,
   "id": "211f4ca9-0d77-4e24-81c7-6d0d5b894a87",
   "metadata": {
    "tags": []
   },
   "outputs": [
    {
     "name": "stderr",
     "output_type": "stream",
     "text": [
      "/var/folders/pt/26yk257s5nd579ngn9gyw3k40000gn/T/ipykernel_58371/3695182782.py:1: SettingWithCopyWarning: \n",
      "A value is trying to be set on a copy of a slice from a DataFrame.\n",
      "Try using .loc[row_indexer,col_indexer] = value instead\n",
      "\n",
      "See the caveats in the documentation: https://pandas.pydata.org/pandas-docs/stable/user_guide/indexing.html#returning-a-view-versus-a-copy\n",
      "  A81.Value = A81.Value.map({1:'SOV', 2:'SVO', 3:'VSO', 4:'VOS', 5: 'OVS', 6:'OSV', 7:'No_dominant_word_order'})\n"
     ]
    }
   ],
   "source": [
    "A81.Value = A81.Value.map({1:'SOV', 2:'SVO', 3:'VSO', 4:'VOS', 5: 'OVS', 6:'OSV', 7:'No_dominant_word_order'})"
   ]
  },
  {
   "cell_type": "code",
   "execution_count": 38,
   "id": "150cda10-4375-4a14-91ad-18b4973faa65",
   "metadata": {
    "tags": []
   },
   "outputs": [
    {
     "data": {
      "text/plain": [
       "Value\n",
       "SOV                       564\n",
       "SVO                       488\n",
       "No_dominant_word_order    189\n",
       "VSO                        95\n",
       "VOS                        25\n",
       "OVS                        11\n",
       "OSV                         4\n",
       "Name: count, dtype: int64"
      ]
     },
     "execution_count": 38,
     "metadata": {},
     "output_type": "execute_result"
    }
   ],
   "source": [
    "A81.Value.value_counts()"
   ]
  },
  {
   "cell_type": "code",
   "execution_count": 39,
   "id": "23c39d00-5551-4224-8099-744db0334e76",
   "metadata": {
    "tags": []
   },
   "outputs": [],
   "source": [
    "A81 = A81.dropna(axis=0)"
   ]
  },
  {
   "cell_type": "code",
   "execution_count": 40,
   "id": "14a10287-fda7-4168-bb78-0bef5732d468",
   "metadata": {
    "tags": []
   },
   "outputs": [
    {
     "data": {
      "text/plain": [
       "Value\n",
       "SOV                       511\n",
       "SVO                       468\n",
       "No_dominant_word_order    172\n",
       "VSO                        86\n",
       "VOS                        24\n",
       "OVS                        10\n",
       "OSV                         4\n",
       "Name: count, dtype: int64"
      ]
     },
     "execution_count": 40,
     "metadata": {},
     "output_type": "execute_result"
    }
   ],
   "source": [
    "A81.Value.value_counts()"
   ]
  },
  {
   "cell_type": "code",
   "execution_count": 41,
   "id": "d38430c0-b813-4294-b3c3-107ccc1843f7",
   "metadata": {
    "tags": []
   },
   "outputs": [
    {
     "name": "stdout",
     "output_type": "stream",
     "text": [
      "<class 'pandas.core.frame.DataFrame'>\n",
      "Index: 1275 entries, 51 to 76448\n",
      "Data columns (total 5 columns):\n",
      " #   Column        Non-Null Count  Dtype \n",
      "---  ------        --------------  ----- \n",
      " 0   Language_ID   1275 non-null   object\n",
      " 1   Parameter_ID  1275 non-null   object\n",
      " 2   Value         1275 non-null   object\n",
      " 3   Name          1275 non-null   object\n",
      " 4   Family        1275 non-null   object\n",
      "dtypes: object(5)\n",
      "memory usage: 59.8+ KB\n"
     ]
    }
   ],
   "source": [
    "A81.info()"
   ]
  },
  {
   "cell_type": "code",
   "execution_count": 42,
   "id": "afbeb972-ef86-42e6-a9c1-1a6336b54674",
   "metadata": {
    "tags": []
   },
   "outputs": [],
   "source": [
    "A81.Parameter_ID = 'A81'"
   ]
  },
  {
   "cell_type": "code",
   "execution_count": 43,
   "id": "fc0cc0bd-f7c3-47a4-b5b9-4c86ed879161",
   "metadata": {
    "tags": []
   },
   "outputs": [],
   "source": [
    "import os\n",
    "A81.to_csv('../Processed/81A.csv', index = False)"
   ]
  }
 ],
 "metadata": {
  "kernelspec": {
   "display_name": "Python 3 (ipykernel)",
   "language": "python",
   "name": "python3"
  },
  "language_info": {
   "codemirror_mode": {
    "name": "ipython",
    "version": 3
   },
   "file_extension": ".py",
   "mimetype": "text/x-python",
   "name": "python",
   "nbconvert_exporter": "python",
   "pygments_lexer": "ipython3",
   "version": "3.9.13"
  }
 },
 "nbformat": 4,
 "nbformat_minor": 5
}
