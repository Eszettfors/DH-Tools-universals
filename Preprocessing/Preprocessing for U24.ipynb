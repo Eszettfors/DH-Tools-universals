{
 "cells": [
  {
   "cell_type": "markdown",
   "id": "a6ad2eec-eee8-4581-8f3a-9c27316d860d",
   "metadata": {
    "tags": []
   },
   "source": [
    "# preprocessing"
   ]
  },
  {
   "cell_type": "code",
   "execution_count": 2,
   "id": "6b2f8725-ebe2-4083-b40c-a20a57580b02",
   "metadata": {
    "tags": []
   },
   "outputs": [],
   "source": [
    "import pandas as pd"
   ]
  },
  {
   "cell_type": "markdown",
   "id": "42bc72fe-6a63-4bdf-90f5-ff9a33c1607a",
   "metadata": {},
   "source": [
    "### Lang_ID to Lang name map"
   ]
  },
  {
   "cell_type": "code",
   "execution_count": 3,
   "id": "25cb95ce-159e-434b-8ce0-7aacea56d610",
   "metadata": {
    "tags": []
   },
   "outputs": [],
   "source": [
    "mp = pd.read_csv('../data/language_names.csv')"
   ]
  },
  {
   "cell_type": "code",
   "execution_count": 4,
   "id": "9254e063-0b99-4dd4-82f1-93d531d22898",
   "metadata": {
    "tags": []
   },
   "outputs": [
    {
     "data": {
      "text/html": [
       "<div>\n",
       "<style scoped>\n",
       "    .dataframe tbody tr th:only-of-type {\n",
       "        vertical-align: middle;\n",
       "    }\n",
       "\n",
       "    .dataframe tbody tr th {\n",
       "        vertical-align: top;\n",
       "    }\n",
       "\n",
       "    .dataframe thead th {\n",
       "        text-align: right;\n",
       "    }\n",
       "</style>\n",
       "<table border=\"1\" class=\"dataframe\">\n",
       "  <thead>\n",
       "    <tr style=\"text-align: right;\">\n",
       "      <th></th>\n",
       "      <th>ID</th>\n",
       "      <th>Language_ID</th>\n",
       "      <th>Name</th>\n",
       "      <th>Provider</th>\n",
       "    </tr>\n",
       "  </thead>\n",
       "  <tbody>\n",
       "    <tr>\n",
       "      <th>0</th>\n",
       "      <td>1</td>\n",
       "      <td>xoo</td>\n",
       "      <td>!Xóõ</td>\n",
       "      <td>ethnologue</td>\n",
       "    </tr>\n",
       "    <tr>\n",
       "      <th>1</th>\n",
       "      <td>2</td>\n",
       "      <td>arx</td>\n",
       "      <td>'Are'are</td>\n",
       "      <td>ethnologue</td>\n",
       "    </tr>\n",
       "    <tr>\n",
       "      <th>2</th>\n",
       "      <td>3</td>\n",
       "      <td>apk gan</td>\n",
       "      <td>A-Pucikwar</td>\n",
       "      <td>ethnologue</td>\n",
       "    </tr>\n",
       "    <tr>\n",
       "      <th>3</th>\n",
       "      <td>4</td>\n",
       "      <td>aar</td>\n",
       "      <td>Aari</td>\n",
       "      <td>ethnologue</td>\n",
       "    </tr>\n",
       "    <tr>\n",
       "      <th>4</th>\n",
       "      <td>5</td>\n",
       "      <td>aba</td>\n",
       "      <td>Abau</td>\n",
       "      <td>ethnologue</td>\n",
       "    </tr>\n",
       "  </tbody>\n",
       "</table>\n",
       "</div>"
      ],
      "text/plain": [
       "   ID Language_ID        Name    Provider\n",
       "0   1         xoo        !Xóõ  ethnologue\n",
       "1   2         arx    'Are'are  ethnologue\n",
       "2   3     apk gan  A-Pucikwar  ethnologue\n",
       "3   4         aar        Aari  ethnologue\n",
       "4   5         aba        Abau  ethnologue"
      ]
     },
     "execution_count": 4,
     "metadata": {},
     "output_type": "execute_result"
    }
   ],
   "source": [
    "mp.head(5)"
   ]
  },
  {
   "cell_type": "code",
   "execution_count": 5,
   "id": "b32fcc15-46db-4958-beb4-d049497e910d",
   "metadata": {
    "tags": []
   },
   "outputs": [],
   "source": [
    "mp.drop(['ID', 'Provider'], axis = 1)\n",
    "langs = {}\n",
    "i = 0\n",
    "for i in range(len(mp.index)):\n",
    "    abbv, name = mp.iloc[i][1], mp.iloc[i][2]\n",
    "    langs[abbv] = name"
   ]
  },
  {
   "cell_type": "markdown",
   "id": "402ad891-93fc-41d3-9a1f-c2d2f9282815",
   "metadata": {},
   "source": [
    "### langID to family"
   ]
  },
  {
   "cell_type": "code",
   "execution_count": 6,
   "id": "dba6d479-de68-445e-874c-5bc30dfbf867",
   "metadata": {
    "tags": []
   },
   "outputs": [],
   "source": [
    "fam = pd.read_csv('../data/languagesMSD.csv')"
   ]
  },
  {
   "cell_type": "code",
   "execution_count": 7,
   "id": "5b1f0556-cef7-49b9-9306-c9481aafa35e",
   "metadata": {
    "tags": []
   },
   "outputs": [],
   "source": [
    "fam = fam.drop(['NameOLD', 'NameNEW', 'MacroareaOLD', 'MacroareaNEW',\n",
    "       'LatitudeOLD', 'LatitudeNEW', 'LongitudeOLD', 'LongitudeNEW',\n",
    "       'GlottocodeOLD', 'GlottocodeNEW', 'ISO639P3code',\n",
    "       'FamilyNEW', 'SubfamilyOLD', 'SubfamilyNEW', 'GenusOLD', 'GenusNEW',\n",
    "       'GenusIcon', 'ISO_codesOLD', 'ISO_codesNEW', 'Samples_100',\n",
    "       'Samples_200', 'Country_IDOLD', 'Country_IDNEW', 'Source'], axis = 1)"
   ]
  },
  {
   "cell_type": "code",
   "execution_count": 8,
   "id": "08703d13-d1fd-4d76-8517-c00268d4d94a",
   "metadata": {
    "tags": []
   },
   "outputs": [],
   "source": [
    "fam.columns = ['Language_ID', 'Familiy']"
   ]
  },
  {
   "cell_type": "code",
   "execution_count": 9,
   "id": "220be04b-7d95-47db-bc93-947ccd402c65",
   "metadata": {
    "tags": []
   },
   "outputs": [],
   "source": [
    "fams = {}\n",
    "i = 0\n",
    "for i in range(len(fam.index)):\n",
    "    abbv, family = fam.iloc[i][0], fam.iloc[i][1]\n",
    "    fams[abbv] = family"
   ]
  },
  {
   "cell_type": "markdown",
   "id": "4247b03a-30de-4062-8383-a8d71fc08359",
   "metadata": {},
   "source": [
    "### Loading data set"
   ]
  },
  {
   "cell_type": "code",
   "execution_count": 10,
   "id": "0a640599-e8dc-4dbd-9a4f-856d7f41e764",
   "metadata": {
    "tags": []
   },
   "outputs": [],
   "source": [
    "df = pd.read_csv('../data/values.csv')"
   ]
  },
  {
   "cell_type": "code",
   "execution_count": 11,
   "id": "aaa4af13-ad48-4d23-a313-ee44b7739cbe",
   "metadata": {
    "tags": []
   },
   "outputs": [],
   "source": [
    "df['Name'] = df['Language_ID']\n",
    "df['Family'] = df['Language_ID']"
   ]
  },
  {
   "cell_type": "code",
   "execution_count": 12,
   "id": "4c8c4239-91f5-482b-aef0-0e2621678f15",
   "metadata": {
    "tags": []
   },
   "outputs": [],
   "source": [
    "df['Name'] = df['Name'].map(langs)\n",
    "df['Family'] = df['Family'].map(fams)"
   ]
  },
  {
   "cell_type": "code",
   "execution_count": 13,
   "id": "6d8d6a64-95df-4706-a4da-6d51b495d666",
   "metadata": {
    "tags": []
   },
   "outputs": [],
   "source": [
    "df = df.drop(['ID','Code_ID', 'Comment', 'Source', 'Example_ID' ],axis=1)"
   ]
  },
  {
   "cell_type": "code",
   "execution_count": 14,
   "id": "8f3949ec-0e6c-4e7f-b511-b30141651540",
   "metadata": {
    "tags": []
   },
   "outputs": [
    {
     "data": {
      "text/html": [
       "<div>\n",
       "<style scoped>\n",
       "    .dataframe tbody tr th:only-of-type {\n",
       "        vertical-align: middle;\n",
       "    }\n",
       "\n",
       "    .dataframe tbody tr th {\n",
       "        vertical-align: top;\n",
       "    }\n",
       "\n",
       "    .dataframe thead th {\n",
       "        text-align: right;\n",
       "    }\n",
       "</style>\n",
       "<table border=\"1\" class=\"dataframe\">\n",
       "  <thead>\n",
       "    <tr style=\"text-align: right;\">\n",
       "      <th></th>\n",
       "      <th>Language_ID</th>\n",
       "      <th>Parameter_ID</th>\n",
       "      <th>Value</th>\n",
       "      <th>Name</th>\n",
       "      <th>Family</th>\n",
       "    </tr>\n",
       "  </thead>\n",
       "  <tbody>\n",
       "    <tr>\n",
       "      <th>22</th>\n",
       "      <td>aar</td>\n",
       "      <td>26A</td>\n",
       "      <td>2</td>\n",
       "      <td>Ari</td>\n",
       "      <td>Afro-Asiatic</td>\n",
       "    </tr>\n",
       "    <tr>\n",
       "      <th>23</th>\n",
       "      <td>aar</td>\n",
       "      <td>33A</td>\n",
       "      <td>9</td>\n",
       "      <td>Ari</td>\n",
       "      <td>Afro-Asiatic</td>\n",
       "    </tr>\n",
       "    <tr>\n",
       "      <th>24</th>\n",
       "      <td>aar</td>\n",
       "      <td>37A</td>\n",
       "      <td>3</td>\n",
       "      <td>Ari</td>\n",
       "      <td>Afro-Asiatic</td>\n",
       "    </tr>\n",
       "    <tr>\n",
       "      <th>25</th>\n",
       "      <td>aar</td>\n",
       "      <td>38A</td>\n",
       "      <td>4</td>\n",
       "      <td>Ari</td>\n",
       "      <td>Afro-Asiatic</td>\n",
       "    </tr>\n",
       "    <tr>\n",
       "      <th>26</th>\n",
       "      <td>aar</td>\n",
       "      <td>51A</td>\n",
       "      <td>1</td>\n",
       "      <td>Ari</td>\n",
       "      <td>Afro-Asiatic</td>\n",
       "    </tr>\n",
       "    <tr>\n",
       "      <th>...</th>\n",
       "      <td>...</td>\n",
       "      <td>...</td>\n",
       "      <td>...</td>\n",
       "      <td>...</td>\n",
       "      <td>...</td>\n",
       "    </tr>\n",
       "    <tr>\n",
       "      <th>76470</th>\n",
       "      <td>zzo</td>\n",
       "      <td>144B</td>\n",
       "      <td>3</td>\n",
       "      <td>Zapotec, Zoogocho</td>\n",
       "      <td>Oto-Manguean</td>\n",
       "    </tr>\n",
       "    <tr>\n",
       "      <th>76471</th>\n",
       "      <td>zzo</td>\n",
       "      <td>144T</td>\n",
       "      <td>1</td>\n",
       "      <td>Zapotec, Zoogocho</td>\n",
       "      <td>Oto-Manguean</td>\n",
       "    </tr>\n",
       "    <tr>\n",
       "      <th>76472</th>\n",
       "      <td>zzo</td>\n",
       "      <td>144V</td>\n",
       "      <td>1</td>\n",
       "      <td>Zapotec, Zoogocho</td>\n",
       "      <td>Oto-Manguean</td>\n",
       "    </tr>\n",
       "    <tr>\n",
       "      <th>76473</th>\n",
       "      <td>zzo</td>\n",
       "      <td>144W</td>\n",
       "      <td>6</td>\n",
       "      <td>Zapotec, Zoogocho</td>\n",
       "      <td>Oto-Manguean</td>\n",
       "    </tr>\n",
       "    <tr>\n",
       "      <th>76474</th>\n",
       "      <td>zzo</td>\n",
       "      <td>144X</td>\n",
       "      <td>4</td>\n",
       "      <td>Zapotec, Zoogocho</td>\n",
       "      <td>Oto-Manguean</td>\n",
       "    </tr>\n",
       "  </tbody>\n",
       "</table>\n",
       "<p>70427 rows × 5 columns</p>\n",
       "</div>"
      ],
      "text/plain": [
       "      Language_ID Parameter_ID  Value               Name        Family\n",
       "22            aar          26A      2                Ari  Afro-Asiatic\n",
       "23            aar          33A      9                Ari  Afro-Asiatic\n",
       "24            aar          37A      3                Ari  Afro-Asiatic\n",
       "25            aar          38A      4                Ari  Afro-Asiatic\n",
       "26            aar          51A      1                Ari  Afro-Asiatic\n",
       "...           ...          ...    ...                ...           ...\n",
       "76470         zzo         144B      3  Zapotec, Zoogocho  Oto-Manguean\n",
       "76471         zzo         144T      1  Zapotec, Zoogocho  Oto-Manguean\n",
       "76472         zzo         144V      1  Zapotec, Zoogocho  Oto-Manguean\n",
       "76473         zzo         144W      6  Zapotec, Zoogocho  Oto-Manguean\n",
       "76474         zzo         144X      4  Zapotec, Zoogocho  Oto-Manguean\n",
       "\n",
       "[70427 rows x 5 columns]"
      ]
     },
     "execution_count": 14,
     "metadata": {},
     "output_type": "execute_result"
    }
   ],
   "source": [
    "df.dropna()"
   ]
  },
  {
   "cell_type": "markdown",
   "id": "ba7d5835-992d-4edc-8033-da125d985eea",
   "metadata": {},
   "source": [
    "### Preprocessing for U24\n",
    "\n",
    "90A Order of Relative Clause and Noun, \n",
    "85A Order of Adposition and Noun Phrase, \n",
    "87A Order of Adjective and Noun"
   ]
  },
  {
   "cell_type": "code",
   "execution_count": 15,
   "id": "d259e1f6-a7ed-486d-9397-d5d5f786322c",
   "metadata": {
    "tags": []
   },
   "outputs": [],
   "source": [
    "A90 = df[df['Parameter_ID'] == '90A']\n",
    "A87 = df[df['Parameter_ID'] == '87A']"
   ]
  },
  {
   "cell_type": "code",
   "execution_count": 16,
   "id": "9c9e8136-8ab9-4b28-be86-647899bb6a5c",
   "metadata": {
    "tags": []
   },
   "outputs": [
    {
     "data": {
      "text/html": [
       "<div>\n",
       "<style scoped>\n",
       "    .dataframe tbody tr th:only-of-type {\n",
       "        vertical-align: middle;\n",
       "    }\n",
       "\n",
       "    .dataframe tbody tr th {\n",
       "        vertical-align: top;\n",
       "    }\n",
       "\n",
       "    .dataframe thead th {\n",
       "        text-align: right;\n",
       "    }\n",
       "</style>\n",
       "<table border=\"1\" class=\"dataframe\">\n",
       "  <thead>\n",
       "    <tr style=\"text-align: right;\">\n",
       "      <th></th>\n",
       "      <th>Language_ID</th>\n",
       "      <th>Parameter_ID</th>\n",
       "      <th>Value</th>\n",
       "      <th>Name</th>\n",
       "      <th>Family</th>\n",
       "    </tr>\n",
       "  </thead>\n",
       "  <tbody>\n",
       "    <tr>\n",
       "      <th>36</th>\n",
       "      <td>aar</td>\n",
       "      <td>90A</td>\n",
       "      <td>1</td>\n",
       "      <td>Ari</td>\n",
       "      <td>Afro-Asiatic</td>\n",
       "    </tr>\n",
       "    <tr>\n",
       "      <th>126</th>\n",
       "      <td>abi</td>\n",
       "      <td>90A</td>\n",
       "      <td>1</td>\n",
       "      <td>Abipon</td>\n",
       "      <td>Guaicuruan</td>\n",
       "    </tr>\n",
       "    <tr>\n",
       "      <th>245</th>\n",
       "      <td>abk</td>\n",
       "      <td>90A</td>\n",
       "      <td>2</td>\n",
       "      <td>Abkhaz</td>\n",
       "      <td>Northwest Caucasian</td>\n",
       "    </tr>\n",
       "  </tbody>\n",
       "</table>\n",
       "</div>"
      ],
      "text/plain": [
       "    Language_ID Parameter_ID  Value    Name               Family\n",
       "36          aar          90A      1     Ari         Afro-Asiatic\n",
       "126         abi          90A      1  Abipon           Guaicuruan\n",
       "245         abk          90A      2  Abkhaz  Northwest Caucasian"
      ]
     },
     "execution_count": 16,
     "metadata": {},
     "output_type": "execute_result"
    }
   ],
   "source": [
    "A90.head(3)"
   ]
  },
  {
   "cell_type": "markdown",
   "id": "dbe1be48-e61b-4cba-b758-1425ae36cf5f",
   "metadata": {},
   "source": [
    "90A:\n",
    "- Value 1 = Noun-Relative clause\n",
    "- Value 2 = Relative clause-Noun\n",
    "- Value 3 = Internally headed\n",
    "- Value 4 = Correlative\n",
    "- Value 5 = Adjoined\n",
    "- Value 6 = Doubly headed\n",
    "- Value 7 = Mixed"
   ]
  },
  {
   "cell_type": "code",
   "execution_count": 19,
   "id": "e662b73b-cb46-4dae-806b-400b030694e0",
   "metadata": {
    "tags": []
   },
   "outputs": [
    {
     "name": "stderr",
     "output_type": "stream",
     "text": [
      "C:\\Users\\hannn\\AppData\\Local\\Temp\\ipykernel_14100\\2135639781.py:1: SettingWithCopyWarning: \n",
      "A value is trying to be set on a copy of a slice from a DataFrame.\n",
      "Try using .loc[row_indexer,col_indexer] = value instead\n",
      "\n",
      "See the caveats in the documentation: https://pandas.pydata.org/pandas-docs/stable/user_guide/indexing.html#returning-a-view-versus-a-copy\n",
      "  A90.Value = A90.Value.map({1:'Noun-Relative clause', 2:'Relative clause-Noun', 3:'Internally headed', 4:'Correlative', 5:'Adjoined', 6:'Doubly headed', 7:'Mixed'})\n"
     ]
    }
   ],
   "source": [
    "A90.Value = A90.Value.map({1:'Noun-Relative clause', 2:'Relative clause-Noun', 3:'Internally headed', 4:'Correlative', 5:'Adjoined', 6:'Doubly headed', 7:'Mixed'})"
   ]
  },
  {
   "cell_type": "code",
   "execution_count": 20,
   "id": "66918614-cd2a-4621-9d79-b4598115349c",
   "metadata": {
    "tags": []
   },
   "outputs": [
    {
     "data": {
      "text/plain": [
       "Value\n",
       "Noun-Relative clause    579\n",
       "Relative clause-Noun    141\n",
       "Mixed                    64\n",
       "Internally headed        24\n",
       "Adjoined                  8\n",
       "Correlative               7\n",
       "Doubly headed             1\n",
       "Name: count, dtype: int64"
      ]
     },
     "execution_count": 20,
     "metadata": {},
     "output_type": "execute_result"
    }
   ],
   "source": [
    "A90.Value.value_counts()"
   ]
  },
  {
   "cell_type": "code",
   "execution_count": 21,
   "id": "e78834a2-1575-4859-b45a-dacb6941c42e",
   "metadata": {
    "tags": []
   },
   "outputs": [],
   "source": [
    "A90 = A90.dropna(axis=0)"
   ]
  },
  {
   "cell_type": "code",
   "execution_count": 22,
   "id": "4108f8d0-3756-4051-982c-cb1fa8023af2",
   "metadata": {
    "tags": []
   },
   "outputs": [
    {
     "name": "stdout",
     "output_type": "stream",
     "text": [
      "<class 'pandas.core.frame.DataFrame'>\n",
      "Index: 769 entries, 36 to 76454\n",
      "Data columns (total 5 columns):\n",
      " #   Column        Non-Null Count  Dtype \n",
      "---  ------        --------------  ----- \n",
      " 0   Language_ID   769 non-null    object\n",
      " 1   Parameter_ID  769 non-null    object\n",
      " 2   Value         769 non-null    object\n",
      " 3   Name          769 non-null    object\n",
      " 4   Family        769 non-null    object\n",
      "dtypes: object(5)\n",
      "memory usage: 36.0+ KB\n"
     ]
    }
   ],
   "source": [
    "A90.info()"
   ]
  },
  {
   "cell_type": "code",
   "execution_count": 23,
   "id": "3c76570a-0030-4559-89a3-e7d48ad54c36",
   "metadata": {
    "tags": []
   },
   "outputs": [],
   "source": [
    "import os\n",
    "A90.to_csv('../Processed/90A.csv', index = False)"
   ]
  },
  {
   "cell_type": "code",
   "execution_count": 24,
   "id": "6f951343-1a5f-47d8-973a-925df3ee75e2",
   "metadata": {
    "tags": []
   },
   "outputs": [
    {
     "data": {
      "text/html": [
       "<div>\n",
       "<style scoped>\n",
       "    .dataframe tbody tr th:only-of-type {\n",
       "        vertical-align: middle;\n",
       "    }\n",
       "\n",
       "    .dataframe tbody tr th {\n",
       "        vertical-align: top;\n",
       "    }\n",
       "\n",
       "    .dataframe thead th {\n",
       "        text-align: right;\n",
       "    }\n",
       "</style>\n",
       "<table border=\"1\" class=\"dataframe\">\n",
       "  <thead>\n",
       "    <tr style=\"text-align: right;\">\n",
       "      <th></th>\n",
       "      <th>Language_ID</th>\n",
       "      <th>Parameter_ID</th>\n",
       "      <th>Value</th>\n",
       "      <th>Name</th>\n",
       "      <th>Family</th>\n",
       "    </tr>\n",
       "  </thead>\n",
       "  <tbody>\n",
       "    <tr>\n",
       "      <th>3</th>\n",
       "      <td>aab</td>\n",
       "      <td>87A</td>\n",
       "      <td>2</td>\n",
       "      <td>NaN</td>\n",
       "      <td>Torricelli</td>\n",
       "    </tr>\n",
       "    <tr>\n",
       "      <th>33</th>\n",
       "      <td>aar</td>\n",
       "      <td>87A</td>\n",
       "      <td>2</td>\n",
       "      <td>Ari</td>\n",
       "      <td>Afro-Asiatic</td>\n",
       "    </tr>\n",
       "    <tr>\n",
       "      <th>124</th>\n",
       "      <td>abi</td>\n",
       "      <td>87A</td>\n",
       "      <td>3</td>\n",
       "      <td>Abipon</td>\n",
       "      <td>Guaicuruan</td>\n",
       "    </tr>\n",
       "  </tbody>\n",
       "</table>\n",
       "</div>"
      ],
      "text/plain": [
       "    Language_ID Parameter_ID  Value    Name        Family\n",
       "3           aab          87A      2     NaN    Torricelli\n",
       "33          aar          87A      2     Ari  Afro-Asiatic\n",
       "124         abi          87A      3  Abipon    Guaicuruan"
      ]
     },
     "execution_count": 24,
     "metadata": {},
     "output_type": "execute_result"
    }
   ],
   "source": [
    "A87.head(3)"
   ]
  },
  {
   "cell_type": "markdown",
   "id": "7ca270c4-d9d5-4889-a266-491cef9c7452",
   "metadata": {
    "tags": []
   },
   "source": [
    "87A:\n",
    "- Value 1 = Adjective-Noun\n",
    "- Value 2 = Noun-Adjective\n",
    "- Value 3 = No dominant order\n",
    "- Value 4 = Only internally-headed relative clauses"
   ]
  },
  {
   "cell_type": "code",
   "execution_count": 25,
   "id": "068ffe39-8b31-46f2-9247-f74b913843bb",
   "metadata": {
    "tags": []
   },
   "outputs": [
    {
     "name": "stderr",
     "output_type": "stream",
     "text": [
      "C:\\Users\\hannn\\AppData\\Local\\Temp\\ipykernel_14100\\1174756552.py:1: SettingWithCopyWarning: \n",
      "A value is trying to be set on a copy of a slice from a DataFrame.\n",
      "Try using .loc[row_indexer,col_indexer] = value instead\n",
      "\n",
      "See the caveats in the documentation: https://pandas.pydata.org/pandas-docs/stable/user_guide/indexing.html#returning-a-view-versus-a-copy\n",
      "  A87.Value = A87.Value.map({1:'Adjective-Noun', 2:'Noun-Adjective', 3:'No dominant order', 4:'Only internally-headed relative clauses'})\n"
     ]
    }
   ],
   "source": [
    "A87.Value = A87.Value.map({1:'Adjective-Noun', 2:'Noun-Adjective', 3:'No dominant order', 4:'Only internally-headed relative clauses'})"
   ]
  },
  {
   "cell_type": "code",
   "execution_count": 26,
   "id": "ea9ec81f-8c25-4459-a086-6b639d1ed3cc",
   "metadata": {
    "tags": []
   },
   "outputs": [
    {
     "data": {
      "text/plain": [
       "Value\n",
       "Noun-Adjective                             879\n",
       "Adjective-Noun                             373\n",
       "No dominant order                          110\n",
       "Only internally-headed relative clauses      5\n",
       "Name: count, dtype: int64"
      ]
     },
     "execution_count": 26,
     "metadata": {},
     "output_type": "execute_result"
    }
   ],
   "source": [
    "A87.Value.value_counts()"
   ]
  },
  {
   "cell_type": "code",
   "execution_count": 27,
   "id": "40390d74-16b4-401d-9ec3-d5112875026c",
   "metadata": {
    "tags": []
   },
   "outputs": [],
   "source": [
    "A87 = A87.dropna(axis=0)"
   ]
  },
  {
   "cell_type": "code",
   "execution_count": 28,
   "id": "75800ce4-c39c-4b77-a0f6-6a43b641b75c",
   "metadata": {
    "tags": []
   },
   "outputs": [
    {
     "name": "stdout",
     "output_type": "stream",
     "text": [
      "<class 'pandas.core.frame.DataFrame'>\n",
      "Index: 1264 entries, 33 to 76451\n",
      "Data columns (total 5 columns):\n",
      " #   Column        Non-Null Count  Dtype \n",
      "---  ------        --------------  ----- \n",
      " 0   Language_ID   1264 non-null   object\n",
      " 1   Parameter_ID  1264 non-null   object\n",
      " 2   Value         1264 non-null   object\n",
      " 3   Name          1264 non-null   object\n",
      " 4   Family        1264 non-null   object\n",
      "dtypes: object(5)\n",
      "memory usage: 59.2+ KB\n"
     ]
    }
   ],
   "source": [
    "A87.info()"
   ]
  },
  {
   "cell_type": "code",
   "execution_count": 29,
   "id": "0fc4f420-7bc4-4d96-8cbf-3ced3a446199",
   "metadata": {
    "tags": []
   },
   "outputs": [],
   "source": [
    "import os\n",
    "A87.to_csv('../Processed/87A.csv', index = False)"
   ]
  }
 ],
 "metadata": {
  "kernelspec": {
   "display_name": "Python 3 (ipykernel)",
   "language": "python",
   "name": "python3"
  },
  "language_info": {
   "codemirror_mode": {
    "name": "ipython",
    "version": 3
   },
   "file_extension": ".py",
   "mimetype": "text/x-python",
   "name": "python",
   "nbconvert_exporter": "python",
   "pygments_lexer": "ipython3",
   "version": "3.11.5"
  }
 },
 "nbformat": 4,
 "nbformat_minor": 5
}
