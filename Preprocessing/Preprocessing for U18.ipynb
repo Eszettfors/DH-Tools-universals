{
 "cells": [
  {
   "cell_type": "markdown",
   "id": "d620f904-e662-436a-8152-30040df62c35",
   "metadata": {
    "tags": []
   },
   "source": [
    "# preprocessing"
   ]
  },
  {
   "cell_type": "code",
   "execution_count": 1,
   "id": "aa2833af-1491-448f-9bb1-de49143d71a1",
   "metadata": {
    "tags": []
   },
   "outputs": [],
   "source": [
    "import pandas as pd"
   ]
  },
  {
   "cell_type": "markdown",
   "id": "8231c5ed-6058-4890-97f9-35530a5e8b70",
   "metadata": {},
   "source": [
    "### Lang_ID to Lang name map"
   ]
  },
  {
   "cell_type": "code",
   "execution_count": 2,
   "id": "643ab73b-6625-4d9b-8ac3-2b106a9e3e21",
   "metadata": {
    "tags": []
   },
   "outputs": [],
   "source": [
    "mp = pd.read_csv('../data/language_names.csv')"
   ]
  },
  {
   "cell_type": "code",
   "execution_count": 3,
   "id": "3c09c19f-60de-4fea-9174-78950c00617f",
   "metadata": {
    "tags": []
   },
   "outputs": [
    {
     "data": {
      "text/html": [
       "<div>\n",
       "<style scoped>\n",
       "    .dataframe tbody tr th:only-of-type {\n",
       "        vertical-align: middle;\n",
       "    }\n",
       "\n",
       "    .dataframe tbody tr th {\n",
       "        vertical-align: top;\n",
       "    }\n",
       "\n",
       "    .dataframe thead th {\n",
       "        text-align: right;\n",
       "    }\n",
       "</style>\n",
       "<table border=\"1\" class=\"dataframe\">\n",
       "  <thead>\n",
       "    <tr style=\"text-align: right;\">\n",
       "      <th></th>\n",
       "      <th>ID</th>\n",
       "      <th>Language_ID</th>\n",
       "      <th>Name</th>\n",
       "      <th>Provider</th>\n",
       "    </tr>\n",
       "  </thead>\n",
       "  <tbody>\n",
       "    <tr>\n",
       "      <th>0</th>\n",
       "      <td>1</td>\n",
       "      <td>xoo</td>\n",
       "      <td>!Xóõ</td>\n",
       "      <td>ethnologue</td>\n",
       "    </tr>\n",
       "    <tr>\n",
       "      <th>1</th>\n",
       "      <td>2</td>\n",
       "      <td>arx</td>\n",
       "      <td>'Are'are</td>\n",
       "      <td>ethnologue</td>\n",
       "    </tr>\n",
       "    <tr>\n",
       "      <th>2</th>\n",
       "      <td>3</td>\n",
       "      <td>apk gan</td>\n",
       "      <td>A-Pucikwar</td>\n",
       "      <td>ethnologue</td>\n",
       "    </tr>\n",
       "    <tr>\n",
       "      <th>3</th>\n",
       "      <td>4</td>\n",
       "      <td>aar</td>\n",
       "      <td>Aari</td>\n",
       "      <td>ethnologue</td>\n",
       "    </tr>\n",
       "    <tr>\n",
       "      <th>4</th>\n",
       "      <td>5</td>\n",
       "      <td>aba</td>\n",
       "      <td>Abau</td>\n",
       "      <td>ethnologue</td>\n",
       "    </tr>\n",
       "  </tbody>\n",
       "</table>\n",
       "</div>"
      ],
      "text/plain": [
       "   ID Language_ID        Name    Provider\n",
       "0   1         xoo        !Xóõ  ethnologue\n",
       "1   2         arx    'Are'are  ethnologue\n",
       "2   3     apk gan  A-Pucikwar  ethnologue\n",
       "3   4         aar        Aari  ethnologue\n",
       "4   5         aba        Abau  ethnologue"
      ]
     },
     "execution_count": 3,
     "metadata": {},
     "output_type": "execute_result"
    }
   ],
   "source": [
    "mp.head(5)"
   ]
  },
  {
   "cell_type": "code",
   "execution_count": 4,
   "id": "aeaf4c63-37e1-4fa4-835e-e3cab9773ff4",
   "metadata": {
    "tags": []
   },
   "outputs": [
    {
     "name": "stderr",
     "output_type": "stream",
     "text": [
      "/var/folders/pt/26yk257s5nd579ngn9gyw3k40000gn/T/ipykernel_59682/3939394533.py:5: FutureWarning: Series.__getitem__ treating keys as positions is deprecated. In a future version, integer keys will always be treated as labels (consistent with DataFrame behavior). To access a value by position, use `ser.iloc[pos]`\n",
      "  abbv, name = mp.iloc[i][1], mp.iloc[i][2]\n"
     ]
    }
   ],
   "source": [
    "mp.drop(['ID', 'Provider'], axis = 1)\n",
    "langs = {}\n",
    "i = 0\n",
    "for i in range(len(mp.index)):\n",
    "    abbv, name = mp.iloc[i][1], mp.iloc[i][2]\n",
    "    langs[abbv] = name"
   ]
  },
  {
   "cell_type": "markdown",
   "id": "c2ded7c3-33f5-41c4-a5af-d9807534ee91",
   "metadata": {},
   "source": [
    "### langID to family"
   ]
  },
  {
   "cell_type": "code",
   "execution_count": 5,
   "id": "00da60f8-fe65-45c2-b86d-890a19bc6d42",
   "metadata": {
    "tags": []
   },
   "outputs": [],
   "source": [
    "fam = pd.read_csv('../data/languagesMSD.csv')"
   ]
  },
  {
   "cell_type": "code",
   "execution_count": 6,
   "id": "64e7ee22-da43-4c80-9546-179219af146b",
   "metadata": {
    "tags": []
   },
   "outputs": [],
   "source": [
    "fam = fam.drop(['NameOLD', 'NameNEW', 'MacroareaOLD', 'MacroareaNEW',\n",
    "       'LatitudeOLD', 'LatitudeNEW', 'LongitudeOLD', 'LongitudeNEW',\n",
    "       'GlottocodeOLD', 'GlottocodeNEW', 'ISO639P3code',\n",
    "       'FamilyNEW', 'SubfamilyOLD', 'SubfamilyNEW', 'GenusOLD', 'GenusNEW',\n",
    "       'GenusIcon', 'ISO_codesOLD', 'ISO_codesNEW', 'Samples_100',\n",
    "       'Samples_200', 'Country_IDOLD', 'Country_IDNEW', 'Source'], axis = 1)"
   ]
  },
  {
   "cell_type": "code",
   "execution_count": 7,
   "id": "46385ebd-8179-4139-9015-d767247ca20d",
   "metadata": {
    "tags": []
   },
   "outputs": [],
   "source": [
    "fam.columns = ['Language_ID', 'Familiy']"
   ]
  },
  {
   "cell_type": "code",
   "execution_count": 8,
   "id": "5dbe5ea6-3d2e-4064-86f0-3b7b2d403a56",
   "metadata": {
    "tags": []
   },
   "outputs": [
    {
     "name": "stderr",
     "output_type": "stream",
     "text": [
      "/var/folders/pt/26yk257s5nd579ngn9gyw3k40000gn/T/ipykernel_59682/2108170927.py:4: FutureWarning: Series.__getitem__ treating keys as positions is deprecated. In a future version, integer keys will always be treated as labels (consistent with DataFrame behavior). To access a value by position, use `ser.iloc[pos]`\n",
      "  abbv, family = fam.iloc[i][0], fam.iloc[i][1]\n"
     ]
    }
   ],
   "source": [
    "fams = {}\n",
    "i = 0\n",
    "for i in range(len(fam.index)):\n",
    "    abbv, family = fam.iloc[i][0], fam.iloc[i][1]\n",
    "    fams[abbv] = family"
   ]
  },
  {
   "cell_type": "markdown",
   "id": "96e536c9-86bb-462c-b261-813c6d637f8a",
   "metadata": {},
   "source": [
    "### Loading data set"
   ]
  },
  {
   "cell_type": "code",
   "execution_count": 9,
   "id": "0a2980fa-f3a4-41d7-863f-b3d67f836194",
   "metadata": {
    "tags": []
   },
   "outputs": [],
   "source": [
    "df = pd.read_csv('../data/values.csv')"
   ]
  },
  {
   "cell_type": "code",
   "execution_count": 10,
   "id": "5426fc6b-78f6-47f3-bc7b-8ae3729b7fde",
   "metadata": {
    "tags": []
   },
   "outputs": [],
   "source": [
    "df['Name'] = df['Language_ID']\n",
    "df['Family'] = df['Language_ID']"
   ]
  },
  {
   "cell_type": "code",
   "execution_count": 11,
   "id": "9b64cddf-f942-4ba6-b623-72731504022c",
   "metadata": {
    "tags": []
   },
   "outputs": [],
   "source": [
    "df['Name'] = df['Name'].map(langs)\n",
    "df['Family'] = df['Family'].map(fams)"
   ]
  },
  {
   "cell_type": "code",
   "execution_count": 12,
   "id": "a1bc5249-22d7-400a-9dbf-24c30e285e56",
   "metadata": {
    "tags": []
   },
   "outputs": [],
   "source": [
    "df = df.drop(['ID','Code_ID', 'Comment', 'Source', 'Example_ID' ],axis=1)"
   ]
  },
  {
   "cell_type": "code",
   "execution_count": 13,
   "id": "8a701ceb-979c-4ee6-ab5a-8fd118817948",
   "metadata": {
    "tags": []
   },
   "outputs": [
    {
     "data": {
      "text/html": [
       "<div>\n",
       "<style scoped>\n",
       "    .dataframe tbody tr th:only-of-type {\n",
       "        vertical-align: middle;\n",
       "    }\n",
       "\n",
       "    .dataframe tbody tr th {\n",
       "        vertical-align: top;\n",
       "    }\n",
       "\n",
       "    .dataframe thead th {\n",
       "        text-align: right;\n",
       "    }\n",
       "</style>\n",
       "<table border=\"1\" class=\"dataframe\">\n",
       "  <thead>\n",
       "    <tr style=\"text-align: right;\">\n",
       "      <th></th>\n",
       "      <th>Language_ID</th>\n",
       "      <th>Parameter_ID</th>\n",
       "      <th>Value</th>\n",
       "      <th>Name</th>\n",
       "      <th>Family</th>\n",
       "    </tr>\n",
       "  </thead>\n",
       "  <tbody>\n",
       "    <tr>\n",
       "      <th>22</th>\n",
       "      <td>aar</td>\n",
       "      <td>26A</td>\n",
       "      <td>2</td>\n",
       "      <td>Ari</td>\n",
       "      <td>Afro-Asiatic</td>\n",
       "    </tr>\n",
       "    <tr>\n",
       "      <th>23</th>\n",
       "      <td>aar</td>\n",
       "      <td>33A</td>\n",
       "      <td>9</td>\n",
       "      <td>Ari</td>\n",
       "      <td>Afro-Asiatic</td>\n",
       "    </tr>\n",
       "    <tr>\n",
       "      <th>24</th>\n",
       "      <td>aar</td>\n",
       "      <td>37A</td>\n",
       "      <td>3</td>\n",
       "      <td>Ari</td>\n",
       "      <td>Afro-Asiatic</td>\n",
       "    </tr>\n",
       "    <tr>\n",
       "      <th>25</th>\n",
       "      <td>aar</td>\n",
       "      <td>38A</td>\n",
       "      <td>4</td>\n",
       "      <td>Ari</td>\n",
       "      <td>Afro-Asiatic</td>\n",
       "    </tr>\n",
       "    <tr>\n",
       "      <th>26</th>\n",
       "      <td>aar</td>\n",
       "      <td>51A</td>\n",
       "      <td>1</td>\n",
       "      <td>Ari</td>\n",
       "      <td>Afro-Asiatic</td>\n",
       "    </tr>\n",
       "    <tr>\n",
       "      <th>...</th>\n",
       "      <td>...</td>\n",
       "      <td>...</td>\n",
       "      <td>...</td>\n",
       "      <td>...</td>\n",
       "      <td>...</td>\n",
       "    </tr>\n",
       "    <tr>\n",
       "      <th>76470</th>\n",
       "      <td>zzo</td>\n",
       "      <td>144B</td>\n",
       "      <td>3</td>\n",
       "      <td>Zapotec, Zoogocho</td>\n",
       "      <td>Oto-Manguean</td>\n",
       "    </tr>\n",
       "    <tr>\n",
       "      <th>76471</th>\n",
       "      <td>zzo</td>\n",
       "      <td>144T</td>\n",
       "      <td>1</td>\n",
       "      <td>Zapotec, Zoogocho</td>\n",
       "      <td>Oto-Manguean</td>\n",
       "    </tr>\n",
       "    <tr>\n",
       "      <th>76472</th>\n",
       "      <td>zzo</td>\n",
       "      <td>144V</td>\n",
       "      <td>1</td>\n",
       "      <td>Zapotec, Zoogocho</td>\n",
       "      <td>Oto-Manguean</td>\n",
       "    </tr>\n",
       "    <tr>\n",
       "      <th>76473</th>\n",
       "      <td>zzo</td>\n",
       "      <td>144W</td>\n",
       "      <td>6</td>\n",
       "      <td>Zapotec, Zoogocho</td>\n",
       "      <td>Oto-Manguean</td>\n",
       "    </tr>\n",
       "    <tr>\n",
       "      <th>76474</th>\n",
       "      <td>zzo</td>\n",
       "      <td>144X</td>\n",
       "      <td>4</td>\n",
       "      <td>Zapotec, Zoogocho</td>\n",
       "      <td>Oto-Manguean</td>\n",
       "    </tr>\n",
       "  </tbody>\n",
       "</table>\n",
       "<p>70427 rows × 5 columns</p>\n",
       "</div>"
      ],
      "text/plain": [
       "      Language_ID Parameter_ID  Value               Name        Family\n",
       "22            aar          26A      2                Ari  Afro-Asiatic\n",
       "23            aar          33A      9                Ari  Afro-Asiatic\n",
       "24            aar          37A      3                Ari  Afro-Asiatic\n",
       "25            aar          38A      4                Ari  Afro-Asiatic\n",
       "26            aar          51A      1                Ari  Afro-Asiatic\n",
       "...           ...          ...    ...                ...           ...\n",
       "76470         zzo         144B      3  Zapotec, Zoogocho  Oto-Manguean\n",
       "76471         zzo         144T      1  Zapotec, Zoogocho  Oto-Manguean\n",
       "76472         zzo         144V      1  Zapotec, Zoogocho  Oto-Manguean\n",
       "76473         zzo         144W      6  Zapotec, Zoogocho  Oto-Manguean\n",
       "76474         zzo         144X      4  Zapotec, Zoogocho  Oto-Manguean\n",
       "\n",
       "[70427 rows x 5 columns]"
      ]
     },
     "execution_count": 13,
     "metadata": {},
     "output_type": "execute_result"
    }
   ],
   "source": [
    "df.dropna()"
   ]
  },
  {
   "cell_type": "markdown",
   "id": "ff41a419",
   "metadata": {},
   "source": [
    "### Preprocessingfunction"
   ]
  },
  {
   "cell_type": "code",
   "execution_count": 14,
   "id": "5c5af639",
   "metadata": {},
   "outputs": [],
   "source": [
    "def read_and_write(feature_name, list_of_values):\n",
    "    feature = df[df['Parameter_ID'] == str(feature_name)]\n",
    "\n",
    "    \n",
    "    diction = dict(enumerate(list_of_values))\n",
    "    new_diction = {}\n",
    "    for key in diction:\n",
    "        new_diction[key+1] = diction[key]\n",
    "\n",
    "    feature.Value = feature.Value.map(new_diction)\n",
    "\n",
    "    feature = feature.dropna(axis=0)\n",
    "    \n",
    "    feature.Parameter_ID = str(feature_name)\n",
    "\n",
    "    import os\n",
    "    feature.to_csv('../Processed/'+str(feature_name)+'.csv', index = False)"
   ]
  },
  {
   "cell_type": "markdown",
   "id": "668832a5-1da4-46b4-8559-5e0a3acfc135",
   "metadata": {},
   "source": [
    "### preprocessing for U17"
   ]
  },
  {
   "cell_type": "markdown",
   "id": "a4288686",
   "metadata": {},
   "source": [
    "Feature 88A: Order of Demonstrative and Noun"
   ]
  },
  {
   "cell_type": "code",
   "execution_count": 15,
   "id": "11209d96",
   "metadata": {},
   "outputs": [
    {
     "name": "stderr",
     "output_type": "stream",
     "text": [
      "/var/folders/pt/26yk257s5nd579ngn9gyw3k40000gn/T/ipykernel_59682/3645149375.py:10: SettingWithCopyWarning: \n",
      "A value is trying to be set on a copy of a slice from a DataFrame.\n",
      "Try using .loc[row_indexer,col_indexer] = value instead\n",
      "\n",
      "See the caveats in the documentation: https://pandas.pydata.org/pandas-docs/stable/user_guide/indexing.html#returning-a-view-versus-a-copy\n",
      "  feature.Value = feature.Value.map(new_diction)\n"
     ]
    }
   ],
   "source": [
    "read_and_write(feature_name = '88A', list_of_values= ['Demonstrative-Noun', 'Noun-Demonstrative', 'Demonstrative_prefix\t', 'Demonstrative_suffix', 'Demonstrative_before_and_after_Noun', 'Mixed'])"
   ]
  },
  {
   "cell_type": "markdown",
   "id": "8926fe29",
   "metadata": {},
   "source": [
    "Feature 89A: Order of Numeral and Noun"
   ]
  },
  {
   "cell_type": "code",
   "execution_count": 16,
   "id": "d879db05",
   "metadata": {},
   "outputs": [
    {
     "name": "stderr",
     "output_type": "stream",
     "text": [
      "/var/folders/pt/26yk257s5nd579ngn9gyw3k40000gn/T/ipykernel_59682/3645149375.py:10: SettingWithCopyWarning: \n",
      "A value is trying to be set on a copy of a slice from a DataFrame.\n",
      "Try using .loc[row_indexer,col_indexer] = value instead\n",
      "\n",
      "See the caveats in the documentation: https://pandas.pydata.org/pandas-docs/stable/user_guide/indexing.html#returning-a-view-versus-a-copy\n",
      "  feature.Value = feature.Value.map(new_diction)\n"
     ]
    }
   ],
   "source": [
    "read_and_write(feature_name = '89A', list_of_values= ['Numeral-Noun', 'Noun-Numeral', 'No_dominant_order_numeral_noun', 'Numeral only modifies verb'])"
   ]
  }
 ],
 "metadata": {
  "kernelspec": {
   "display_name": "Python 3 (ipykernel)",
   "language": "python",
   "name": "python3"
  },
  "language_info": {
   "codemirror_mode": {
    "name": "ipython",
    "version": 3
   },
   "file_extension": ".py",
   "mimetype": "text/x-python",
   "name": "python",
   "nbconvert_exporter": "python",
   "pygments_lexer": "ipython3",
   "version": "3.9.13"
  }
 },
 "nbformat": 4,
 "nbformat_minor": 5
}
