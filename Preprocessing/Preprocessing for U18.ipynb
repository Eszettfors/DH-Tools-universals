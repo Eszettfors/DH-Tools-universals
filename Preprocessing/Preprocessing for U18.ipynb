{
 "cells": [
  {
   "cell_type": "markdown",
   "id": "d620f904-e662-436a-8152-30040df62c35",
   "metadata": {
    "tags": []
   },
   "source": [
    "# preprocessing"
   ]
  },
  {
   "cell_type": "code",
   "execution_count": 1,
   "id": "aa2833af-1491-448f-9bb1-de49143d71a1",
   "metadata": {
    "tags": []
   },
   "outputs": [],
   "source": [
    "import pandas as pd"
   ]
  },
  {
   "cell_type": "markdown",
   "id": "14c51241",
   "metadata": {},
   "source": [
    "### Mapping\n"
   ]
  },
  {
   "cell_type": "code",
   "execution_count": 2,
   "id": "536452fe",
   "metadata": {},
   "outputs": [
    {
     "name": "stderr",
     "output_type": "stream",
     "text": [
      "/var/folders/pt/26yk257s5nd579ngn9gyw3k40000gn/T/ipykernel_17697/2320090373.py:15: FutureWarning: Series.__getitem__ treating keys as positions is deprecated. In a future version, integer keys will always be treated as labels (consistent with DataFrame behavior). To access a value by position, use `ser.iloc[pos]`\n",
      "  abbv, family, name = fam.iloc[i][0], fam.iloc[i][2], fam.iloc[i][1]\n"
     ]
    }
   ],
   "source": [
    "fam = pd.read_csv('../data/languagesMSD.csv')\n",
    "\n",
    "fam = fam.drop(['NameOLD', 'MacroareaOLD', 'MacroareaNEW',\n",
    "       'LatitudeOLD', 'LatitudeNEW', 'LongitudeOLD', 'LongitudeNEW',\n",
    "       'GlottocodeOLD', 'GlottocodeNEW', 'ISO639P3code',\n",
    "       'FamilyNEW', 'SubfamilyOLD', 'SubfamilyNEW', 'GenusOLD', 'GenusNEW',\n",
    "       'GenusIcon', 'ISO_codesOLD', 'ISO_codesNEW', 'Samples_100',\n",
    "       'Samples_200', 'Country_IDOLD', 'Country_IDNEW', 'Source'], axis = 1)\n",
    "fam.columns = ['Language_ID','Name', 'Familiy']\n",
    "\n",
    "fams = {}\n",
    "names = {}\n",
    "i = 0\n",
    "for i in range(len(fam.index)):\n",
    "    abbv, family, name = fam.iloc[i][0], fam.iloc[i][2], fam.iloc[i][1]\n",
    "    fams[abbv] = family\n",
    "    names[abbv] = name"
   ]
  },
  {
   "cell_type": "markdown",
   "id": "96e536c9-86bb-462c-b261-813c6d637f8a",
   "metadata": {},
   "source": [
    "### Loading data set"
   ]
  },
  {
   "cell_type": "code",
   "execution_count": 3,
   "id": "0a2980fa-f3a4-41d7-863f-b3d67f836194",
   "metadata": {
    "tags": []
   },
   "outputs": [],
   "source": [
    "df = pd.read_csv('../data/values.csv')"
   ]
  },
  {
   "cell_type": "code",
   "execution_count": 4,
   "id": "5426fc6b-78f6-47f3-bc7b-8ae3729b7fde",
   "metadata": {
    "tags": []
   },
   "outputs": [],
   "source": [
    "df['Name'] = df['Language_ID']\n",
    "df['Family'] = df['Language_ID']"
   ]
  },
  {
   "cell_type": "code",
   "execution_count": 5,
   "id": "9b64cddf-f942-4ba6-b623-72731504022c",
   "metadata": {
    "tags": []
   },
   "outputs": [],
   "source": [
    "df['Name'] = df['Name'].map(names)\n",
    "df['Family'] = df['Family'].map(fams)"
   ]
  },
  {
   "cell_type": "code",
   "execution_count": 6,
   "id": "a1bc5249-22d7-400a-9dbf-24c30e285e56",
   "metadata": {
    "tags": []
   },
   "outputs": [],
   "source": [
    "df = df.drop(['ID','Code_ID', 'Comment', 'Source', 'Example_ID' ],axis=1)"
   ]
  },
  {
   "cell_type": "code",
   "execution_count": 7,
   "id": "8a701ceb-979c-4ee6-ab5a-8fd118817948",
   "metadata": {
    "tags": []
   },
   "outputs": [
    {
     "data": {
      "text/html": [
       "<div>\n",
       "<style scoped>\n",
       "    .dataframe tbody tr th:only-of-type {\n",
       "        vertical-align: middle;\n",
       "    }\n",
       "\n",
       "    .dataframe tbody tr th {\n",
       "        vertical-align: top;\n",
       "    }\n",
       "\n",
       "    .dataframe thead th {\n",
       "        text-align: right;\n",
       "    }\n",
       "</style>\n",
       "<table border=\"1\" class=\"dataframe\">\n",
       "  <thead>\n",
       "    <tr style=\"text-align: right;\">\n",
       "      <th></th>\n",
       "      <th>Language_ID</th>\n",
       "      <th>Parameter_ID</th>\n",
       "      <th>Value</th>\n",
       "      <th>Name</th>\n",
       "      <th>Family</th>\n",
       "    </tr>\n",
       "  </thead>\n",
       "  <tbody>\n",
       "    <tr>\n",
       "      <th>0</th>\n",
       "      <td>aab</td>\n",
       "      <td>81A</td>\n",
       "      <td>2</td>\n",
       "      <td>Arapesh (Abu)</td>\n",
       "      <td>Torricelli</td>\n",
       "    </tr>\n",
       "    <tr>\n",
       "      <th>1</th>\n",
       "      <td>aab</td>\n",
       "      <td>82A</td>\n",
       "      <td>1</td>\n",
       "      <td>Arapesh (Abu)</td>\n",
       "      <td>Torricelli</td>\n",
       "    </tr>\n",
       "    <tr>\n",
       "      <th>2</th>\n",
       "      <td>aab</td>\n",
       "      <td>83A</td>\n",
       "      <td>2</td>\n",
       "      <td>Arapesh (Abu)</td>\n",
       "      <td>Torricelli</td>\n",
       "    </tr>\n",
       "    <tr>\n",
       "      <th>3</th>\n",
       "      <td>aab</td>\n",
       "      <td>87A</td>\n",
       "      <td>2</td>\n",
       "      <td>Arapesh (Abu)</td>\n",
       "      <td>Torricelli</td>\n",
       "    </tr>\n",
       "    <tr>\n",
       "      <th>4</th>\n",
       "      <td>aab</td>\n",
       "      <td>88A</td>\n",
       "      <td>2</td>\n",
       "      <td>Arapesh (Abu)</td>\n",
       "      <td>Torricelli</td>\n",
       "    </tr>\n",
       "    <tr>\n",
       "      <th>...</th>\n",
       "      <td>...</td>\n",
       "      <td>...</td>\n",
       "      <td>...</td>\n",
       "      <td>...</td>\n",
       "      <td>...</td>\n",
       "    </tr>\n",
       "    <tr>\n",
       "      <th>76470</th>\n",
       "      <td>zzo</td>\n",
       "      <td>144B</td>\n",
       "      <td>3</td>\n",
       "      <td>Zapotec (Zoogocho)</td>\n",
       "      <td>Oto-Manguean</td>\n",
       "    </tr>\n",
       "    <tr>\n",
       "      <th>76471</th>\n",
       "      <td>zzo</td>\n",
       "      <td>144T</td>\n",
       "      <td>1</td>\n",
       "      <td>Zapotec (Zoogocho)</td>\n",
       "      <td>Oto-Manguean</td>\n",
       "    </tr>\n",
       "    <tr>\n",
       "      <th>76472</th>\n",
       "      <td>zzo</td>\n",
       "      <td>144V</td>\n",
       "      <td>1</td>\n",
       "      <td>Zapotec (Zoogocho)</td>\n",
       "      <td>Oto-Manguean</td>\n",
       "    </tr>\n",
       "    <tr>\n",
       "      <th>76473</th>\n",
       "      <td>zzo</td>\n",
       "      <td>144W</td>\n",
       "      <td>6</td>\n",
       "      <td>Zapotec (Zoogocho)</td>\n",
       "      <td>Oto-Manguean</td>\n",
       "    </tr>\n",
       "    <tr>\n",
       "      <th>76474</th>\n",
       "      <td>zzo</td>\n",
       "      <td>144X</td>\n",
       "      <td>4</td>\n",
       "      <td>Zapotec (Zoogocho)</td>\n",
       "      <td>Oto-Manguean</td>\n",
       "    </tr>\n",
       "  </tbody>\n",
       "</table>\n",
       "<p>72698 rows × 5 columns</p>\n",
       "</div>"
      ],
      "text/plain": [
       "      Language_ID Parameter_ID  Value                Name        Family\n",
       "0             aab          81A      2       Arapesh (Abu)    Torricelli\n",
       "1             aab          82A      1       Arapesh (Abu)    Torricelli\n",
       "2             aab          83A      2       Arapesh (Abu)    Torricelli\n",
       "3             aab          87A      2       Arapesh (Abu)    Torricelli\n",
       "4             aab          88A      2       Arapesh (Abu)    Torricelli\n",
       "...           ...          ...    ...                 ...           ...\n",
       "76470         zzo         144B      3  Zapotec (Zoogocho)  Oto-Manguean\n",
       "76471         zzo         144T      1  Zapotec (Zoogocho)  Oto-Manguean\n",
       "76472         zzo         144V      1  Zapotec (Zoogocho)  Oto-Manguean\n",
       "76473         zzo         144W      6  Zapotec (Zoogocho)  Oto-Manguean\n",
       "76474         zzo         144X      4  Zapotec (Zoogocho)  Oto-Manguean\n",
       "\n",
       "[72698 rows x 5 columns]"
      ]
     },
     "execution_count": 7,
     "metadata": {},
     "output_type": "execute_result"
    }
   ],
   "source": [
    "df.dropna()"
   ]
  },
  {
   "cell_type": "markdown",
   "id": "ff41a419",
   "metadata": {},
   "source": [
    "### Preprocessingfunction"
   ]
  },
  {
   "cell_type": "code",
   "execution_count": 8,
   "id": "5c5af639",
   "metadata": {},
   "outputs": [],
   "source": [
    "def read_and_write(feature_name, list_of_values):\n",
    "    feature = df[df['Parameter_ID'] == str(feature_name)]\n",
    "\n",
    "    \n",
    "    diction = dict(enumerate(list_of_values))\n",
    "    new_diction = {}\n",
    "    for key in diction:\n",
    "        new_diction[key+1] = diction[key]\n",
    "\n",
    "    feature.Value = feature.Value.map(new_diction)\n",
    "\n",
    "    feature = feature.dropna(axis=0)\n",
    "    \n",
    "    feature.Parameter_ID = str(feature_name)\n",
    "\n",
    "    import os\n",
    "    feature.to_csv('../Processed/'+str(feature_name)+'.csv', index = False)"
   ]
  },
  {
   "cell_type": "markdown",
   "id": "668832a5-1da4-46b4-8559-5e0a3acfc135",
   "metadata": {},
   "source": [
    "### preprocessing for U17"
   ]
  },
  {
   "cell_type": "markdown",
   "id": "a4288686",
   "metadata": {},
   "source": [
    "Feature 88A: Order of Demonstrative and Noun"
   ]
  },
  {
   "cell_type": "code",
   "execution_count": 9,
   "id": "11209d96",
   "metadata": {},
   "outputs": [
    {
     "name": "stderr",
     "output_type": "stream",
     "text": [
      "/var/folders/pt/26yk257s5nd579ngn9gyw3k40000gn/T/ipykernel_17697/3645149375.py:10: SettingWithCopyWarning: \n",
      "A value is trying to be set on a copy of a slice from a DataFrame.\n",
      "Try using .loc[row_indexer,col_indexer] = value instead\n",
      "\n",
      "See the caveats in the documentation: https://pandas.pydata.org/pandas-docs/stable/user_guide/indexing.html#returning-a-view-versus-a-copy\n",
      "  feature.Value = feature.Value.map(new_diction)\n"
     ]
    }
   ],
   "source": [
    "read_and_write(feature_name = '88A', list_of_values= ['Demonstrative-Noun', 'Noun-Demonstrative', 'Demonstrative_prefix\t', 'Demonstrative_suffix', 'Demonstrative_before_and_after_Noun', 'Mixed'])"
   ]
  },
  {
   "cell_type": "markdown",
   "id": "8926fe29",
   "metadata": {},
   "source": [
    "Feature 89A: Order of Numeral and Noun"
   ]
  },
  {
   "cell_type": "code",
   "execution_count": 10,
   "id": "d879db05",
   "metadata": {},
   "outputs": [
    {
     "name": "stderr",
     "output_type": "stream",
     "text": [
      "/var/folders/pt/26yk257s5nd579ngn9gyw3k40000gn/T/ipykernel_17697/3645149375.py:10: SettingWithCopyWarning: \n",
      "A value is trying to be set on a copy of a slice from a DataFrame.\n",
      "Try using .loc[row_indexer,col_indexer] = value instead\n",
      "\n",
      "See the caveats in the documentation: https://pandas.pydata.org/pandas-docs/stable/user_guide/indexing.html#returning-a-view-versus-a-copy\n",
      "  feature.Value = feature.Value.map(new_diction)\n"
     ]
    }
   ],
   "source": [
    "read_and_write(feature_name = '89A', list_of_values= ['Numeral-Noun', 'Noun-Numeral', 'No_dominant_order_numeral_noun', 'Numeral only modifies verb'])"
   ]
  }
 ],
 "metadata": {
  "kernelspec": {
   "display_name": "Python 3 (ipykernel)",
   "language": "python",
   "name": "python3"
  },
  "language_info": {
   "codemirror_mode": {
    "name": "ipython",
    "version": 3
   },
   "file_extension": ".py",
   "mimetype": "text/x-python",
   "name": "python",
   "nbconvert_exporter": "python",
   "pygments_lexer": "ipython3",
   "version": "3.9.13"
  }
 },
 "nbformat": 4,
 "nbformat_minor": 5
}
