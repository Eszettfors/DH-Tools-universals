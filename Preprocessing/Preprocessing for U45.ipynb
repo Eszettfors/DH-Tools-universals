{
 "cells": [
  {
   "cell_type": "markdown",
   "id": "ca8d7eed-1374-4bec-aaa2-c7de7cc177cc",
   "metadata": {
    "tags": []
   },
   "source": [
    "### Preprocessing for U45\n",
    "\n",
    "44A Gender Distinctions in Independent Personal Pronouns"
   ]
  },
  {
   "cell_type": "code",
   "execution_count": 1,
   "id": "95d7cd8b-50c5-43e8-ac76-fd4d1b50b723",
   "metadata": {
    "tags": []
   },
   "outputs": [
    {
     "ename": "NameError",
     "evalue": "name 'df' is not defined",
     "output_type": "error",
     "traceback": [
      "\u001b[1;31m---------------------------------------------------------------------------\u001b[0m",
      "\u001b[1;31mNameError\u001b[0m                                 Traceback (most recent call last)",
      "Cell \u001b[1;32mIn[1], line 1\u001b[0m\n\u001b[1;32m----> 1\u001b[0m A44 \u001b[38;5;241m=\u001b[39m df[df[\u001b[38;5;124m'\u001b[39m\u001b[38;5;124mParameter_ID\u001b[39m\u001b[38;5;124m'\u001b[39m] \u001b[38;5;241m==\u001b[39m \u001b[38;5;124m'\u001b[39m\u001b[38;5;124m44A\u001b[39m\u001b[38;5;124m'\u001b[39m]\n",
      "\u001b[1;31mNameError\u001b[0m: name 'df' is not defined"
     ]
    }
   ],
   "source": [
    "A44 = df[df['Parameter_ID'] == '44A']"
   ]
  },
  {
   "cell_type": "code",
   "execution_count": 21,
   "id": "f3f0ceec-9d3b-4352-ba38-df5b57e9cc17",
   "metadata": {
    "tags": []
   },
   "outputs": [
    {
     "data": {
      "text/html": [
       "<div>\n",
       "<style scoped>\n",
       "    .dataframe tbody tr th:only-of-type {\n",
       "        vertical-align: middle;\n",
       "    }\n",
       "\n",
       "    .dataframe tbody tr th {\n",
       "        vertical-align: top;\n",
       "    }\n",
       "\n",
       "    .dataframe thead th {\n",
       "        text-align: right;\n",
       "    }\n",
       "</style>\n",
       "<table border=\"1\" class=\"dataframe\">\n",
       "  <thead>\n",
       "    <tr style=\"text-align: right;\">\n",
       "      <th></th>\n",
       "      <th>Language_ID</th>\n",
       "      <th>Parameter_ID</th>\n",
       "      <th>Value</th>\n",
       "      <th>Name</th>\n",
       "      <th>Family</th>\n",
       "    </tr>\n",
       "  </thead>\n",
       "  <tbody>\n",
       "    <tr>\n",
       "      <th>32</th>\n",
       "      <td>aar</td>\n",
       "      <td>86A</td>\n",
       "      <td>1</td>\n",
       "      <td>Ari</td>\n",
       "      <td>Afro-Asiatic</td>\n",
       "    </tr>\n",
       "    <tr>\n",
       "      <th>55</th>\n",
       "      <td>aba</td>\n",
       "      <td>86A</td>\n",
       "      <td>1</td>\n",
       "      <td>Abau</td>\n",
       "      <td>Sepik</td>\n",
       "    </tr>\n",
       "    <tr>\n",
       "      <th>123</th>\n",
       "      <td>abi</td>\n",
       "      <td>86A</td>\n",
       "      <td>3</td>\n",
       "      <td>Abipon</td>\n",
       "      <td>Guaicuruan</td>\n",
       "    </tr>\n",
       "    <tr>\n",
       "      <th>241</th>\n",
       "      <td>abk</td>\n",
       "      <td>86A</td>\n",
       "      <td>1</td>\n",
       "      <td>Abkhaz</td>\n",
       "      <td>Northwest Caucasian</td>\n",
       "    </tr>\n",
       "    <tr>\n",
       "      <th>349</th>\n",
       "      <td>abn</td>\n",
       "      <td>86A</td>\n",
       "      <td>3</td>\n",
       "      <td>Arabana</td>\n",
       "      <td>Pama-Nyungan</td>\n",
       "    </tr>\n",
       "    <tr>\n",
       "      <th>372</th>\n",
       "      <td>abo</td>\n",
       "      <td>86A</td>\n",
       "      <td>2</td>\n",
       "      <td>Arbore</td>\n",
       "      <td>Afro-Asiatic</td>\n",
       "    </tr>\n",
       "    <tr>\n",
       "      <th>400</th>\n",
       "      <td>abu</td>\n",
       "      <td>86A</td>\n",
       "      <td>1</td>\n",
       "      <td>Yimbun</td>\n",
       "      <td>West Papuan</td>\n",
       "    </tr>\n",
       "    <tr>\n",
       "      <th>450</th>\n",
       "      <td>abv</td>\n",
       "      <td>86A</td>\n",
       "      <td>1</td>\n",
       "      <td>Abui</td>\n",
       "      <td>Timor-Alor-Pantar</td>\n",
       "    </tr>\n",
       "    <tr>\n",
       "      <th>515</th>\n",
       "      <td>ace</td>\n",
       "      <td>86A</td>\n",
       "      <td>2</td>\n",
       "      <td>Achinese</td>\n",
       "      <td>Austronesian</td>\n",
       "    </tr>\n",
       "    <tr>\n",
       "      <th>570</th>\n",
       "      <td>acg</td>\n",
       "      <td>86A</td>\n",
       "      <td>1</td>\n",
       "      <td>Achagua</td>\n",
       "      <td>Arawakan</td>\n",
       "    </tr>\n",
       "  </tbody>\n",
       "</table>\n",
       "</div>"
      ],
      "text/plain": [
       "    Language_ID Parameter_ID  Value      Name               Family\n",
       "32          aar          86A      1       Ari         Afro-Asiatic\n",
       "55          aba          86A      1      Abau                Sepik\n",
       "123         abi          86A      3    Abipon           Guaicuruan\n",
       "241         abk          86A      1    Abkhaz  Northwest Caucasian\n",
       "349         abn          86A      3   Arabana         Pama-Nyungan\n",
       "372         abo          86A      2    Arbore         Afro-Asiatic\n",
       "400         abu          86A      1    Yimbun          West Papuan\n",
       "450         abv          86A      1      Abui    Timor-Alor-Pantar\n",
       "515         ace          86A      2  Achinese         Austronesian\n",
       "570         acg          86A      1   Achagua             Arawakan"
      ]
     },
     "execution_count": 21,
     "metadata": {},
     "output_type": "execute_result"
    }
   ],
   "source": [
    "A44.head(10)"
   ]
  },
  {
   "cell_type": "markdown",
   "id": "1841c379-d4f4-4144-8197-420f5b6eab6c",
   "metadata": {},
   "source": [
    "44A:\n",
    "- Value 1 = In 3rd person + 1st and/or 2nd person\n",
    "- Value 2 = 3rd person only, but also non-singular\n",
    "- Value 3 = 3rd person singular only\n",
    "- Value 4 = 1st or 2nd person but not 3rd\n",
    "- Value 5 = 3rd person non-singular only\n",
    "- Value 6 = No gender distinctions"
   ]
  },
  {
   "cell_type": "code",
   "execution_count": 22,
   "id": "f180c8b3-8005-48f1-8c26-1e41650c572d",
   "metadata": {
    "tags": []
   },
   "outputs": [
    {
     "name": "stderr",
     "output_type": "stream",
     "text": [
      "C:\\Users\\hannn\\AppData\\Local\\Temp\\ipykernel_9728\\1532996682.py:1: SettingWithCopyWarning: \n",
      "A value is trying to be set on a copy of a slice from a DataFrame.\n",
      "Try using .loc[row_indexer,col_indexer] = value instead\n",
      "\n",
      "See the caveats in the documentation: https://pandas.pydata.org/pandas-docs/stable/user_guide/indexing.html#returning-a-view-versus-a-copy\n",
      "  A86.Value = A86.Value.map({1:'Genetive-Noun', 2:'Noun-Genitive', 3:'No dominant order'})\n"
     ]
    }
   ],
   "source": [
    "A44.Value = A44.Value.map({1:'In 3rd person + 1st and/or 2nd person', 2:'3rd person only, but also non-singular', 3:'3rd person singular only', 4:'1st or 2nd person but not 3rd', 5:'3rd person non-singular only', 6: 'No gender distinctions'})"
   ]
  },
  {
   "cell_type": "code",
   "execution_count": 23,
   "id": "3abbff49-c27c-4bd0-b1b8-86e915b8eaf4",
   "metadata": {
    "tags": []
   },
   "outputs": [
    {
     "data": {
      "text/plain": [
       "Value\n",
       "Genetive-Noun        685\n",
       "Noun-Genitive        468\n",
       "No dominant order     96\n",
       "Name: count, dtype: int64"
      ]
     },
     "execution_count": 23,
     "metadata": {},
     "output_type": "execute_result"
    }
   ],
   "source": [
    "A44.Value.value_counts()"
   ]
  },
  {
   "cell_type": "code",
   "execution_count": 24,
   "id": "03fdda0a-4642-4e23-ab0d-ce6b9fa7f874",
   "metadata": {
    "tags": []
   },
   "outputs": [],
   "source": [
    "A44 = A44.dropna(axis=0)"
   ]
  },
  {
   "cell_type": "code",
   "execution_count": 25,
   "id": "d1c61d64-5b28-4a33-b535-15ba5c727c2c",
   "metadata": {
    "tags": []
   },
   "outputs": [
    {
     "name": "stdout",
     "output_type": "stream",
     "text": [
      "<class 'pandas.core.frame.DataFrame'>\n",
      "Index: 1160 entries, 32 to 76434\n",
      "Data columns (total 5 columns):\n",
      " #   Column        Non-Null Count  Dtype \n",
      "---  ------        --------------  ----- \n",
      " 0   Language_ID   1160 non-null   object\n",
      " 1   Parameter_ID  1160 non-null   object\n",
      " 2   Value         1160 non-null   object\n",
      " 3   Name          1160 non-null   object\n",
      " 4   Family        1160 non-null   object\n",
      "dtypes: object(5)\n",
      "memory usage: 54.4+ KB\n"
     ]
    }
   ],
   "source": [
    "A44.info()"
   ]
  },
  {
   "cell_type": "code",
   "execution_count": 26,
   "id": "f9557c2b-4344-4231-a434-0fa827b14544",
   "metadata": {
    "tags": []
   },
   "outputs": [],
   "source": [
    "import os\n",
    "A44.to_csv('../Processed/44A.csv', index = False)"
   ]
  }
 ],
 "metadata": {
  "kernelspec": {
   "display_name": "Python 3 (ipykernel)",
   "language": "python",
   "name": "python3"
  },
  "language_info": {
   "codemirror_mode": {
    "name": "ipython",
    "version": 3
   },
   "file_extension": ".py",
   "mimetype": "text/x-python",
   "name": "python",
   "nbconvert_exporter": "python",
   "pygments_lexer": "ipython3",
   "version": "3.11.5"
  }
 },
 "nbformat": 4,
 "nbformat_minor": 5
}
