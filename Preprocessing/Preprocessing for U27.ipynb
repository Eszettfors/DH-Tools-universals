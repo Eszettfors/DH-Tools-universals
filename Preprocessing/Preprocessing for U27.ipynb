{
 "cells": [
  {
   "cell_type": "markdown",
   "id": "b23175f0-3f00-4b19-b346-e3c62f65a301",
   "metadata": {
    "tags": []
   },
   "source": [
    "# preprocessing"
   ]
  },
  {
   "cell_type": "code",
   "execution_count": 1,
   "id": "799545c8-5c54-4b87-ae0e-cd72bf738bca",
   "metadata": {
    "tags": []
   },
   "outputs": [],
   "source": [
    "import pandas as pd"
   ]
  },
  {
   "cell_type": "markdown",
   "id": "79397edf",
   "metadata": {},
   "source": [
    "### Mapping"
   ]
  },
  {
   "cell_type": "code",
   "execution_count": 2,
   "id": "a8e59790",
   "metadata": {},
   "outputs": [
    {
     "name": "stderr",
     "output_type": "stream",
     "text": [
      "/var/folders/pt/26yk257s5nd579ngn9gyw3k40000gn/T/ipykernel_17849/2320090373.py:15: FutureWarning: Series.__getitem__ treating keys as positions is deprecated. In a future version, integer keys will always be treated as labels (consistent with DataFrame behavior). To access a value by position, use `ser.iloc[pos]`\n",
      "  abbv, family, name = fam.iloc[i][0], fam.iloc[i][2], fam.iloc[i][1]\n"
     ]
    }
   ],
   "source": [
    "fam = pd.read_csv('../data/languagesMSD.csv')\n",
    "\n",
    "fam = fam.drop(['NameOLD', 'MacroareaOLD', 'MacroareaNEW',\n",
    "       'LatitudeOLD', 'LatitudeNEW', 'LongitudeOLD', 'LongitudeNEW',\n",
    "       'GlottocodeOLD', 'GlottocodeNEW', 'ISO639P3code',\n",
    "       'FamilyNEW', 'SubfamilyOLD', 'SubfamilyNEW', 'GenusOLD', 'GenusNEW',\n",
    "       'GenusIcon', 'ISO_codesOLD', 'ISO_codesNEW', 'Samples_100',\n",
    "       'Samples_200', 'Country_IDOLD', 'Country_IDNEW', 'Source'], axis = 1)\n",
    "fam.columns = ['Language_ID','Name', 'Familiy']\n",
    "\n",
    "fams = {}\n",
    "names = {}\n",
    "i = 0\n",
    "for i in range(len(fam.index)):\n",
    "    abbv, family, name = fam.iloc[i][0], fam.iloc[i][2], fam.iloc[i][1]\n",
    "    fams[abbv] = family\n",
    "    names[abbv] = name"
   ]
  },
  {
   "cell_type": "markdown",
   "id": "f893103e-71b9-42ef-a35b-549e39e281f8",
   "metadata": {},
   "source": [
    "### Loading data set"
   ]
  },
  {
   "cell_type": "code",
   "execution_count": 3,
   "id": "563f4425-15f8-447e-83f9-98bb5506af46",
   "metadata": {
    "tags": []
   },
   "outputs": [],
   "source": [
    "df = pd.read_csv('../data/values.csv')"
   ]
  },
  {
   "cell_type": "code",
   "execution_count": 4,
   "id": "518769d4-05b4-4c75-b013-1e6f01d421b0",
   "metadata": {
    "tags": []
   },
   "outputs": [],
   "source": [
    "df['Name'] = df['Language_ID']\n",
    "df['Family'] = df['Language_ID']"
   ]
  },
  {
   "cell_type": "code",
   "execution_count": 5,
   "id": "623825fc-84e9-41e1-b0e1-947119f2e6d9",
   "metadata": {
    "tags": []
   },
   "outputs": [],
   "source": [
    "df['Name'] = df['Name'].map(names)\n",
    "df['Family'] = df['Family'].map(fams)"
   ]
  },
  {
   "cell_type": "code",
   "execution_count": 6,
   "id": "231c0012-2735-4c62-a8e1-a0659aee0c1c",
   "metadata": {
    "tags": []
   },
   "outputs": [],
   "source": [
    "df = df.drop(['ID','Code_ID', 'Comment', 'Source', 'Example_ID' ],axis=1)"
   ]
  },
  {
   "cell_type": "code",
   "execution_count": 7,
   "id": "8bfea188-1324-46f3-8908-532a52619e57",
   "metadata": {
    "tags": []
   },
   "outputs": [
    {
     "data": {
      "text/html": [
       "<div>\n",
       "<style scoped>\n",
       "    .dataframe tbody tr th:only-of-type {\n",
       "        vertical-align: middle;\n",
       "    }\n",
       "\n",
       "    .dataframe tbody tr th {\n",
       "        vertical-align: top;\n",
       "    }\n",
       "\n",
       "    .dataframe thead th {\n",
       "        text-align: right;\n",
       "    }\n",
       "</style>\n",
       "<table border=\"1\" class=\"dataframe\">\n",
       "  <thead>\n",
       "    <tr style=\"text-align: right;\">\n",
       "      <th></th>\n",
       "      <th>Language_ID</th>\n",
       "      <th>Parameter_ID</th>\n",
       "      <th>Value</th>\n",
       "      <th>Name</th>\n",
       "      <th>Family</th>\n",
       "    </tr>\n",
       "  </thead>\n",
       "  <tbody>\n",
       "    <tr>\n",
       "      <th>0</th>\n",
       "      <td>aab</td>\n",
       "      <td>81A</td>\n",
       "      <td>2</td>\n",
       "      <td>Arapesh (Abu)</td>\n",
       "      <td>Torricelli</td>\n",
       "    </tr>\n",
       "    <tr>\n",
       "      <th>1</th>\n",
       "      <td>aab</td>\n",
       "      <td>82A</td>\n",
       "      <td>1</td>\n",
       "      <td>Arapesh (Abu)</td>\n",
       "      <td>Torricelli</td>\n",
       "    </tr>\n",
       "    <tr>\n",
       "      <th>2</th>\n",
       "      <td>aab</td>\n",
       "      <td>83A</td>\n",
       "      <td>2</td>\n",
       "      <td>Arapesh (Abu)</td>\n",
       "      <td>Torricelli</td>\n",
       "    </tr>\n",
       "    <tr>\n",
       "      <th>3</th>\n",
       "      <td>aab</td>\n",
       "      <td>87A</td>\n",
       "      <td>2</td>\n",
       "      <td>Arapesh (Abu)</td>\n",
       "      <td>Torricelli</td>\n",
       "    </tr>\n",
       "    <tr>\n",
       "      <th>4</th>\n",
       "      <td>aab</td>\n",
       "      <td>88A</td>\n",
       "      <td>2</td>\n",
       "      <td>Arapesh (Abu)</td>\n",
       "      <td>Torricelli</td>\n",
       "    </tr>\n",
       "    <tr>\n",
       "      <th>...</th>\n",
       "      <td>...</td>\n",
       "      <td>...</td>\n",
       "      <td>...</td>\n",
       "      <td>...</td>\n",
       "      <td>...</td>\n",
       "    </tr>\n",
       "    <tr>\n",
       "      <th>76470</th>\n",
       "      <td>zzo</td>\n",
       "      <td>144B</td>\n",
       "      <td>3</td>\n",
       "      <td>Zapotec (Zoogocho)</td>\n",
       "      <td>Oto-Manguean</td>\n",
       "    </tr>\n",
       "    <tr>\n",
       "      <th>76471</th>\n",
       "      <td>zzo</td>\n",
       "      <td>144T</td>\n",
       "      <td>1</td>\n",
       "      <td>Zapotec (Zoogocho)</td>\n",
       "      <td>Oto-Manguean</td>\n",
       "    </tr>\n",
       "    <tr>\n",
       "      <th>76472</th>\n",
       "      <td>zzo</td>\n",
       "      <td>144V</td>\n",
       "      <td>1</td>\n",
       "      <td>Zapotec (Zoogocho)</td>\n",
       "      <td>Oto-Manguean</td>\n",
       "    </tr>\n",
       "    <tr>\n",
       "      <th>76473</th>\n",
       "      <td>zzo</td>\n",
       "      <td>144W</td>\n",
       "      <td>6</td>\n",
       "      <td>Zapotec (Zoogocho)</td>\n",
       "      <td>Oto-Manguean</td>\n",
       "    </tr>\n",
       "    <tr>\n",
       "      <th>76474</th>\n",
       "      <td>zzo</td>\n",
       "      <td>144X</td>\n",
       "      <td>4</td>\n",
       "      <td>Zapotec (Zoogocho)</td>\n",
       "      <td>Oto-Manguean</td>\n",
       "    </tr>\n",
       "  </tbody>\n",
       "</table>\n",
       "<p>72698 rows × 5 columns</p>\n",
       "</div>"
      ],
      "text/plain": [
       "      Language_ID Parameter_ID  Value                Name        Family\n",
       "0             aab          81A      2       Arapesh (Abu)    Torricelli\n",
       "1             aab          82A      1       Arapesh (Abu)    Torricelli\n",
       "2             aab          83A      2       Arapesh (Abu)    Torricelli\n",
       "3             aab          87A      2       Arapesh (Abu)    Torricelli\n",
       "4             aab          88A      2       Arapesh (Abu)    Torricelli\n",
       "...           ...          ...    ...                 ...           ...\n",
       "76470         zzo         144B      3  Zapotec (Zoogocho)  Oto-Manguean\n",
       "76471         zzo         144T      1  Zapotec (Zoogocho)  Oto-Manguean\n",
       "76472         zzo         144V      1  Zapotec (Zoogocho)  Oto-Manguean\n",
       "76473         zzo         144W      6  Zapotec (Zoogocho)  Oto-Manguean\n",
       "76474         zzo         144X      4  Zapotec (Zoogocho)  Oto-Manguean\n",
       "\n",
       "[72698 rows x 5 columns]"
      ]
     },
     "execution_count": 7,
     "metadata": {},
     "output_type": "execute_result"
    }
   ],
   "source": [
    "df.dropna()"
   ]
  },
  {
   "cell_type": "markdown",
   "id": "241d3803-c3a5-4d3c-afaf-870e8483e0b6",
   "metadata": {},
   "source": [
    "### Preprocessing for U28\n",
    "\n",
    "26A Prefixing vs. Suffixing in Inflectional Morphology, 85A Order of Adposition and Noun Phrase"
   ]
  },
  {
   "cell_type": "code",
   "execution_count": 8,
   "id": "d2ac5c8c-3cf8-41cb-813c-933bc2c22947",
   "metadata": {
    "tags": []
   },
   "outputs": [],
   "source": [
    "A26 = df[df['Parameter_ID'] == '26A']"
   ]
  },
  {
   "cell_type": "code",
   "execution_count": 9,
   "id": "44f3e72b-fcb4-4bbe-8a30-5d0f8eb385f8",
   "metadata": {
    "tags": []
   },
   "outputs": [
    {
     "data": {
      "text/html": [
       "<div>\n",
       "<style scoped>\n",
       "    .dataframe tbody tr th:only-of-type {\n",
       "        vertical-align: middle;\n",
       "    }\n",
       "\n",
       "    .dataframe tbody tr th {\n",
       "        vertical-align: top;\n",
       "    }\n",
       "\n",
       "    .dataframe thead th {\n",
       "        text-align: right;\n",
       "    }\n",
       "</style>\n",
       "<table border=\"1\" class=\"dataframe\">\n",
       "  <thead>\n",
       "    <tr style=\"text-align: right;\">\n",
       "      <th></th>\n",
       "      <th>Language_ID</th>\n",
       "      <th>Parameter_ID</th>\n",
       "      <th>Value</th>\n",
       "      <th>Name</th>\n",
       "      <th>Family</th>\n",
       "    </tr>\n",
       "  </thead>\n",
       "  <tbody>\n",
       "    <tr>\n",
       "      <th>22</th>\n",
       "      <td>aar</td>\n",
       "      <td>26A</td>\n",
       "      <td>2</td>\n",
       "      <td>Aari</td>\n",
       "      <td>Afro-Asiatic</td>\n",
       "    </tr>\n",
       "    <tr>\n",
       "      <th>98</th>\n",
       "      <td>abi</td>\n",
       "      <td>26A</td>\n",
       "      <td>2</td>\n",
       "      <td>Abipón</td>\n",
       "      <td>Guaicuruan</td>\n",
       "    </tr>\n",
       "    <tr>\n",
       "      <th>182</th>\n",
       "      <td>abk</td>\n",
       "      <td>26A</td>\n",
       "      <td>4</td>\n",
       "      <td>Abkhaz</td>\n",
       "      <td>Northwest Caucasian</td>\n",
       "    </tr>\n",
       "    <tr>\n",
       "      <th>329</th>\n",
       "      <td>abn</td>\n",
       "      <td>26A</td>\n",
       "      <td>2</td>\n",
       "      <td>Arabana</td>\n",
       "      <td>Pama-Nyungan</td>\n",
       "    </tr>\n",
       "    <tr>\n",
       "      <th>379</th>\n",
       "      <td>abu</td>\n",
       "      <td>26A</td>\n",
       "      <td>1</td>\n",
       "      <td>Abun</td>\n",
       "      <td>West Papuan</td>\n",
       "    </tr>\n",
       "    <tr>\n",
       "      <th>441</th>\n",
       "      <td>abv</td>\n",
       "      <td>26A</td>\n",
       "      <td>4</td>\n",
       "      <td>Abui</td>\n",
       "      <td>Timor-Alor-Pantar</td>\n",
       "    </tr>\n",
       "    <tr>\n",
       "      <th>490</th>\n",
       "      <td>ace</td>\n",
       "      <td>26A</td>\n",
       "      <td>1</td>\n",
       "      <td>Acehnese</td>\n",
       "      <td>Austronesian</td>\n",
       "    </tr>\n",
       "    <tr>\n",
       "      <th>560</th>\n",
       "      <td>acg</td>\n",
       "      <td>26A</td>\n",
       "      <td>4</td>\n",
       "      <td>Achagua</td>\n",
       "      <td>Arawakan</td>\n",
       "    </tr>\n",
       "    <tr>\n",
       "      <th>607</th>\n",
       "      <td>acl</td>\n",
       "      <td>26A</td>\n",
       "      <td>4</td>\n",
       "      <td>Acholi</td>\n",
       "      <td>Eastern Sudanic</td>\n",
       "    </tr>\n",
       "    <tr>\n",
       "      <th>726</th>\n",
       "      <td>aco</td>\n",
       "      <td>26A</td>\n",
       "      <td>4</td>\n",
       "      <td>Acoma</td>\n",
       "      <td>Keresan</td>\n",
       "    </tr>\n",
       "  </tbody>\n",
       "</table>\n",
       "</div>"
      ],
      "text/plain": [
       "    Language_ID Parameter_ID  Value      Name               Family\n",
       "22          aar          26A      2      Aari         Afro-Asiatic\n",
       "98          abi          26A      2    Abipón           Guaicuruan\n",
       "182         abk          26A      4    Abkhaz  Northwest Caucasian\n",
       "329         abn          26A      2   Arabana         Pama-Nyungan\n",
       "379         abu          26A      1      Abun          West Papuan\n",
       "441         abv          26A      4      Abui    Timor-Alor-Pantar\n",
       "490         ace          26A      1  Acehnese         Austronesian\n",
       "560         acg          26A      4   Achagua             Arawakan\n",
       "607         acl          26A      4    Acholi      Eastern Sudanic\n",
       "726         aco          26A      4     Acoma              Keresan"
      ]
     },
     "execution_count": 9,
     "metadata": {},
     "output_type": "execute_result"
    }
   ],
   "source": [
    "A26.head(10)"
   ]
  },
  {
   "cell_type": "markdown",
   "id": "849114cb-5fa6-4254-ad7f-cdb6e0c98427",
   "metadata": {},
   "source": [
    "26A:\n",
    "- Value 1 = Little affixation\n",
    "- Value 2 = Strongly suffixing\n",
    "- Value 3 = Weakly suffixing\n",
    "- Value 4 = Equal prefixing and suffixing\n",
    "- Value 5 = Weakly prefixing\n",
    "- Value 6 = Strong prefixing"
   ]
  },
  {
   "cell_type": "code",
   "execution_count": 10,
   "id": "0bd6b65b-fab9-44d4-adcc-4d2c98c5b546",
   "metadata": {
    "tags": []
   },
   "outputs": [
    {
     "name": "stderr",
     "output_type": "stream",
     "text": [
      "/var/folders/pt/26yk257s5nd579ngn9gyw3k40000gn/T/ipykernel_17849/1293340083.py:1: SettingWithCopyWarning: \n",
      "A value is trying to be set on a copy of a slice from a DataFrame.\n",
      "Try using .loc[row_indexer,col_indexer] = value instead\n",
      "\n",
      "See the caveats in the documentation: https://pandas.pydata.org/pandas-docs/stable/user_guide/indexing.html#returning-a-view-versus-a-copy\n",
      "  A26.Value = A26.Value.map({1:'Little affixation', 2:'Strongly suffixing', 3:'Weakly suffixing', 4:'Equal prefixing and suffixing', 5:'Weakly prefixing', 6:'Strong prefixing'})\n"
     ]
    }
   ],
   "source": [
    "A26.Value = A26.Value.map({1:'Little affixation', 2:'Strongly suffixing', 3:'Weakly suffixing', 4:'Equal prefixing and suffixing', 5:'Weakly prefixing', 6:'Strong prefixing'})"
   ]
  },
  {
   "cell_type": "code",
   "execution_count": 11,
   "id": "eb9e472f-c093-476f-9c17-5295619488fa",
   "metadata": {
    "tags": []
   },
   "outputs": [
    {
     "data": {
      "text/plain": [
       "Value\n",
       "Strongly suffixing               406\n",
       "Equal prefixing and suffixing    147\n",
       "Little affixation                141\n",
       "Weakly suffixing                 123\n",
       "Weakly prefixing                  94\n",
       "Strong prefixing                  58\n",
       "Name: count, dtype: int64"
      ]
     },
     "execution_count": 11,
     "metadata": {},
     "output_type": "execute_result"
    }
   ],
   "source": [
    "A26.Value.value_counts()"
   ]
  },
  {
   "cell_type": "code",
   "execution_count": 12,
   "id": "5af8f546-bdda-4d95-b664-d96301221583",
   "metadata": {
    "tags": []
   },
   "outputs": [],
   "source": [
    "A26 = A26.dropna(axis=0)"
   ]
  },
  {
   "cell_type": "code",
   "execution_count": 13,
   "id": "a7a52239-092a-4d30-b36c-090326a5a5ef",
   "metadata": {
    "tags": []
   },
   "outputs": [
    {
     "name": "stdout",
     "output_type": "stream",
     "text": [
      "<class 'pandas.core.frame.DataFrame'>\n",
      "Index: 929 entries, 22 to 76444\n",
      "Data columns (total 5 columns):\n",
      " #   Column        Non-Null Count  Dtype \n",
      "---  ------        --------------  ----- \n",
      " 0   Language_ID   929 non-null    object\n",
      " 1   Parameter_ID  929 non-null    object\n",
      " 2   Value         929 non-null    object\n",
      " 3   Name          929 non-null    object\n",
      " 4   Family        929 non-null    object\n",
      "dtypes: object(5)\n",
      "memory usage: 43.5+ KB\n"
     ]
    }
   ],
   "source": [
    "A26.info()"
   ]
  },
  {
   "cell_type": "code",
   "execution_count": 14,
   "id": "e8d6a3f0-12d7-49d7-9155-2b547c7460ec",
   "metadata": {
    "tags": []
   },
   "outputs": [],
   "source": [
    "import os\n",
    "A26.to_csv('../Processed/26A.csv', index = False)"
   ]
  }
 ],
 "metadata": {
  "kernelspec": {
   "display_name": "Python 3 (ipykernel)",
   "language": "python",
   "name": "python3"
  },
  "language_info": {
   "codemirror_mode": {
    "name": "ipython",
    "version": 3
   },
   "file_extension": ".py",
   "mimetype": "text/x-python",
   "name": "python",
   "nbconvert_exporter": "python",
   "pygments_lexer": "ipython3",
   "version": "3.9.13"
  }
 },
 "nbformat": 4,
 "nbformat_minor": 5
}
