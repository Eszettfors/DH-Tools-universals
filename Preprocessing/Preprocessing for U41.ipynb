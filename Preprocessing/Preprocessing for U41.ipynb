{
 "cells": [
  {
   "cell_type": "markdown",
   "id": "f180ab51-7fe3-42b8-9def-d1d445e9f7a4",
   "metadata": {
    "tags": []
   },
   "source": [
    "# preprocessing"
   ]
  },
  {
   "cell_type": "code",
   "execution_count": 1,
   "id": "9086c243-a39d-4b9e-91c6-c5f623cf1fac",
   "metadata": {
    "tags": []
   },
   "outputs": [],
   "source": [
    "import pandas as pd"
   ]
  },
  {
   "cell_type": "markdown",
   "id": "11526784",
   "metadata": {},
   "source": [
    "### Mapping"
   ]
  },
  {
   "cell_type": "code",
   "execution_count": 2,
   "id": "b72b955b",
   "metadata": {},
   "outputs": [
    {
     "name": "stderr",
     "output_type": "stream",
     "text": [
      "/var/folders/pt/26yk257s5nd579ngn9gyw3k40000gn/T/ipykernel_17993/2320090373.py:15: FutureWarning: Series.__getitem__ treating keys as positions is deprecated. In a future version, integer keys will always be treated as labels (consistent with DataFrame behavior). To access a value by position, use `ser.iloc[pos]`\n",
      "  abbv, family, name = fam.iloc[i][0], fam.iloc[i][2], fam.iloc[i][1]\n"
     ]
    }
   ],
   "source": [
    "fam = pd.read_csv('../data/languagesMSD.csv')\n",
    "\n",
    "fam = fam.drop(['NameOLD', 'MacroareaOLD', 'MacroareaNEW',\n",
    "       'LatitudeOLD', 'LatitudeNEW', 'LongitudeOLD', 'LongitudeNEW',\n",
    "       'GlottocodeOLD', 'GlottocodeNEW', 'ISO639P3code',\n",
    "       'FamilyNEW', 'SubfamilyOLD', 'SubfamilyNEW', 'GenusOLD', 'GenusNEW',\n",
    "       'GenusIcon', 'ISO_codesOLD', 'ISO_codesNEW', 'Samples_100',\n",
    "       'Samples_200', 'Country_IDOLD', 'Country_IDNEW', 'Source'], axis = 1)\n",
    "fam.columns = ['Language_ID','Name', 'Familiy']\n",
    "\n",
    "fams = {}\n",
    "names = {}\n",
    "i = 0\n",
    "for i in range(len(fam.index)):\n",
    "    abbv, family, name = fam.iloc[i][0], fam.iloc[i][2], fam.iloc[i][1]\n",
    "    fams[abbv] = family\n",
    "    names[abbv] = name"
   ]
  },
  {
   "cell_type": "markdown",
   "id": "329936bc-b5b2-4a5a-b289-f6e4f5b77cb4",
   "metadata": {},
   "source": [
    "### Loading data set"
   ]
  },
  {
   "cell_type": "code",
   "execution_count": 3,
   "id": "7c121c58-22b4-4407-a1b3-a2e1d66aad72",
   "metadata": {
    "tags": []
   },
   "outputs": [],
   "source": [
    "df = pd.read_csv('../data/values.csv')"
   ]
  },
  {
   "cell_type": "code",
   "execution_count": 4,
   "id": "5b631634-df6d-45e0-9685-a8bfebdaaf29",
   "metadata": {
    "tags": []
   },
   "outputs": [],
   "source": [
    "df['Name'] = df['Language_ID']\n",
    "df['Family'] = df['Language_ID']"
   ]
  },
  {
   "cell_type": "code",
   "execution_count": 5,
   "id": "ce38e733-d8d4-4019-95e2-20bd8ccd4127",
   "metadata": {
    "tags": []
   },
   "outputs": [],
   "source": [
    "df['Name'] = df['Name'].map(names)\n",
    "df['Family'] = df['Family'].map(fams)"
   ]
  },
  {
   "cell_type": "code",
   "execution_count": 6,
   "id": "4397b6d7-5899-47d6-b0dc-c754d8ca643c",
   "metadata": {
    "tags": []
   },
   "outputs": [],
   "source": [
    "df = df.drop(['ID','Code_ID', 'Comment', 'Source', 'Example_ID' ],axis=1)"
   ]
  },
  {
   "cell_type": "code",
   "execution_count": 7,
   "id": "d42fc63c-e84b-4b68-b442-d40cdca8728b",
   "metadata": {
    "tags": []
   },
   "outputs": [
    {
     "data": {
      "text/html": [
       "<div>\n",
       "<style scoped>\n",
       "    .dataframe tbody tr th:only-of-type {\n",
       "        vertical-align: middle;\n",
       "    }\n",
       "\n",
       "    .dataframe tbody tr th {\n",
       "        vertical-align: top;\n",
       "    }\n",
       "\n",
       "    .dataframe thead th {\n",
       "        text-align: right;\n",
       "    }\n",
       "</style>\n",
       "<table border=\"1\" class=\"dataframe\">\n",
       "  <thead>\n",
       "    <tr style=\"text-align: right;\">\n",
       "      <th></th>\n",
       "      <th>Language_ID</th>\n",
       "      <th>Parameter_ID</th>\n",
       "      <th>Value</th>\n",
       "      <th>Name</th>\n",
       "      <th>Family</th>\n",
       "    </tr>\n",
       "  </thead>\n",
       "  <tbody>\n",
       "    <tr>\n",
       "      <th>0</th>\n",
       "      <td>aab</td>\n",
       "      <td>81A</td>\n",
       "      <td>2</td>\n",
       "      <td>Arapesh (Abu)</td>\n",
       "      <td>Torricelli</td>\n",
       "    </tr>\n",
       "    <tr>\n",
       "      <th>1</th>\n",
       "      <td>aab</td>\n",
       "      <td>82A</td>\n",
       "      <td>1</td>\n",
       "      <td>Arapesh (Abu)</td>\n",
       "      <td>Torricelli</td>\n",
       "    </tr>\n",
       "    <tr>\n",
       "      <th>2</th>\n",
       "      <td>aab</td>\n",
       "      <td>83A</td>\n",
       "      <td>2</td>\n",
       "      <td>Arapesh (Abu)</td>\n",
       "      <td>Torricelli</td>\n",
       "    </tr>\n",
       "    <tr>\n",
       "      <th>3</th>\n",
       "      <td>aab</td>\n",
       "      <td>87A</td>\n",
       "      <td>2</td>\n",
       "      <td>Arapesh (Abu)</td>\n",
       "      <td>Torricelli</td>\n",
       "    </tr>\n",
       "    <tr>\n",
       "      <th>4</th>\n",
       "      <td>aab</td>\n",
       "      <td>88A</td>\n",
       "      <td>2</td>\n",
       "      <td>Arapesh (Abu)</td>\n",
       "      <td>Torricelli</td>\n",
       "    </tr>\n",
       "    <tr>\n",
       "      <th>...</th>\n",
       "      <td>...</td>\n",
       "      <td>...</td>\n",
       "      <td>...</td>\n",
       "      <td>...</td>\n",
       "      <td>...</td>\n",
       "    </tr>\n",
       "    <tr>\n",
       "      <th>76470</th>\n",
       "      <td>zzo</td>\n",
       "      <td>144B</td>\n",
       "      <td>3</td>\n",
       "      <td>Zapotec (Zoogocho)</td>\n",
       "      <td>Oto-Manguean</td>\n",
       "    </tr>\n",
       "    <tr>\n",
       "      <th>76471</th>\n",
       "      <td>zzo</td>\n",
       "      <td>144T</td>\n",
       "      <td>1</td>\n",
       "      <td>Zapotec (Zoogocho)</td>\n",
       "      <td>Oto-Manguean</td>\n",
       "    </tr>\n",
       "    <tr>\n",
       "      <th>76472</th>\n",
       "      <td>zzo</td>\n",
       "      <td>144V</td>\n",
       "      <td>1</td>\n",
       "      <td>Zapotec (Zoogocho)</td>\n",
       "      <td>Oto-Manguean</td>\n",
       "    </tr>\n",
       "    <tr>\n",
       "      <th>76473</th>\n",
       "      <td>zzo</td>\n",
       "      <td>144W</td>\n",
       "      <td>6</td>\n",
       "      <td>Zapotec (Zoogocho)</td>\n",
       "      <td>Oto-Manguean</td>\n",
       "    </tr>\n",
       "    <tr>\n",
       "      <th>76474</th>\n",
       "      <td>zzo</td>\n",
       "      <td>144X</td>\n",
       "      <td>4</td>\n",
       "      <td>Zapotec (Zoogocho)</td>\n",
       "      <td>Oto-Manguean</td>\n",
       "    </tr>\n",
       "  </tbody>\n",
       "</table>\n",
       "<p>72698 rows × 5 columns</p>\n",
       "</div>"
      ],
      "text/plain": [
       "      Language_ID Parameter_ID  Value                Name        Family\n",
       "0             aab          81A      2       Arapesh (Abu)    Torricelli\n",
       "1             aab          82A      1       Arapesh (Abu)    Torricelli\n",
       "2             aab          83A      2       Arapesh (Abu)    Torricelli\n",
       "3             aab          87A      2       Arapesh (Abu)    Torricelli\n",
       "4             aab          88A      2       Arapesh (Abu)    Torricelli\n",
       "...           ...          ...    ...                 ...           ...\n",
       "76470         zzo         144B      3  Zapotec (Zoogocho)  Oto-Manguean\n",
       "76471         zzo         144T      1  Zapotec (Zoogocho)  Oto-Manguean\n",
       "76472         zzo         144V      1  Zapotec (Zoogocho)  Oto-Manguean\n",
       "76473         zzo         144W      6  Zapotec (Zoogocho)  Oto-Manguean\n",
       "76474         zzo         144X      4  Zapotec (Zoogocho)  Oto-Manguean\n",
       "\n",
       "[72698 rows x 5 columns]"
      ]
     },
     "execution_count": 7,
     "metadata": {},
     "output_type": "execute_result"
    }
   ],
   "source": [
    "df.dropna()"
   ]
  },
  {
   "cell_type": "markdown",
   "id": "26aa3bcf-c6a5-4270-8254-a91087d1f4ae",
   "metadata": {},
   "source": [
    "### Preprocessing for U41\n",
    "\n",
    "81A Order of Subject, Object and Verb,\n",
    "49A Number of Cases"
   ]
  },
  {
   "cell_type": "code",
   "execution_count": 8,
   "id": "028a82b8-844d-4581-a282-2041ffb75ab2",
   "metadata": {
    "tags": []
   },
   "outputs": [],
   "source": [
    "A81 = df[df['Parameter_ID'] == '81A']\n",
    "A49 = df[df['Parameter_ID'] == '49A']"
   ]
  },
  {
   "cell_type": "code",
   "execution_count": 9,
   "id": "5cd2963d-b5c2-4269-9beb-4528df61a396",
   "metadata": {
    "tags": []
   },
   "outputs": [
    {
     "data": {
      "text/html": [
       "<div>\n",
       "<style scoped>\n",
       "    .dataframe tbody tr th:only-of-type {\n",
       "        vertical-align: middle;\n",
       "    }\n",
       "\n",
       "    .dataframe tbody tr th {\n",
       "        vertical-align: top;\n",
       "    }\n",
       "\n",
       "    .dataframe thead th {\n",
       "        text-align: right;\n",
       "    }\n",
       "</style>\n",
       "<table border=\"1\" class=\"dataframe\">\n",
       "  <thead>\n",
       "    <tr style=\"text-align: right;\">\n",
       "      <th></th>\n",
       "      <th>Language_ID</th>\n",
       "      <th>Parameter_ID</th>\n",
       "      <th>Value</th>\n",
       "      <th>Name</th>\n",
       "      <th>Family</th>\n",
       "    </tr>\n",
       "  </thead>\n",
       "  <tbody>\n",
       "    <tr>\n",
       "      <th>0</th>\n",
       "      <td>aab</td>\n",
       "      <td>81A</td>\n",
       "      <td>2</td>\n",
       "      <td>Arapesh (Abu)</td>\n",
       "      <td>Torricelli</td>\n",
       "    </tr>\n",
       "    <tr>\n",
       "      <th>51</th>\n",
       "      <td>aba</td>\n",
       "      <td>81A</td>\n",
       "      <td>1</td>\n",
       "      <td>Abau</td>\n",
       "      <td>Sepik</td>\n",
       "    </tr>\n",
       "    <tr>\n",
       "      <th>118</th>\n",
       "      <td>abi</td>\n",
       "      <td>81A</td>\n",
       "      <td>2</td>\n",
       "      <td>Abipón</td>\n",
       "      <td>Guaicuruan</td>\n",
       "    </tr>\n",
       "    <tr>\n",
       "      <th>236</th>\n",
       "      <td>abk</td>\n",
       "      <td>81A</td>\n",
       "      <td>1</td>\n",
       "      <td>Abkhaz</td>\n",
       "      <td>Northwest Caucasian</td>\n",
       "    </tr>\n",
       "    <tr>\n",
       "      <th>346</th>\n",
       "      <td>abn</td>\n",
       "      <td>81A</td>\n",
       "      <td>1</td>\n",
       "      <td>Arabana</td>\n",
       "      <td>Pama-Nyungan</td>\n",
       "    </tr>\n",
       "    <tr>\n",
       "      <th>369</th>\n",
       "      <td>abo</td>\n",
       "      <td>81A</td>\n",
       "      <td>1</td>\n",
       "      <td>Arbore</td>\n",
       "      <td>Afro-Asiatic</td>\n",
       "    </tr>\n",
       "    <tr>\n",
       "      <th>395</th>\n",
       "      <td>abu</td>\n",
       "      <td>81A</td>\n",
       "      <td>2</td>\n",
       "      <td>Abun</td>\n",
       "      <td>West Papuan</td>\n",
       "    </tr>\n",
       "    <tr>\n",
       "      <th>446</th>\n",
       "      <td>abv</td>\n",
       "      <td>81A</td>\n",
       "      <td>1</td>\n",
       "      <td>Abui</td>\n",
       "      <td>Timor-Alor-Pantar</td>\n",
       "    </tr>\n",
       "    <tr>\n",
       "      <th>510</th>\n",
       "      <td>ace</td>\n",
       "      <td>81A</td>\n",
       "      <td>7</td>\n",
       "      <td>Acehnese</td>\n",
       "      <td>Austronesian</td>\n",
       "    </tr>\n",
       "    <tr>\n",
       "      <th>566</th>\n",
       "      <td>acg</td>\n",
       "      <td>81A</td>\n",
       "      <td>2</td>\n",
       "      <td>Achagua</td>\n",
       "      <td>Arawakan</td>\n",
       "    </tr>\n",
       "  </tbody>\n",
       "</table>\n",
       "</div>"
      ],
      "text/plain": [
       "    Language_ID Parameter_ID  Value           Name               Family\n",
       "0           aab          81A      2  Arapesh (Abu)           Torricelli\n",
       "51          aba          81A      1           Abau                Sepik\n",
       "118         abi          81A      2         Abipón           Guaicuruan\n",
       "236         abk          81A      1         Abkhaz  Northwest Caucasian\n",
       "346         abn          81A      1        Arabana         Pama-Nyungan\n",
       "369         abo          81A      1         Arbore         Afro-Asiatic\n",
       "395         abu          81A      2           Abun          West Papuan\n",
       "446         abv          81A      1           Abui    Timor-Alor-Pantar\n",
       "510         ace          81A      7       Acehnese         Austronesian\n",
       "566         acg          81A      2        Achagua             Arawakan"
      ]
     },
     "execution_count": 9,
     "metadata": {},
     "output_type": "execute_result"
    }
   ],
   "source": [
    "A81.head(10)"
   ]
  },
  {
   "cell_type": "markdown",
   "id": "29d9ca52-2baf-484e-b311-414de915a5cb",
   "metadata": {},
   "source": [
    "81A:\n",
    "- Value 1 = SOV\n",
    "- Value 2 = SVO\n",
    "- Value 3 = VSO\n",
    "- Value 4 = VOS\n",
    "- Value 5 = OVS\n",
    "- Value 6 = OSV\n",
    "- Value 7 = No dominant order"
   ]
  },
  {
   "cell_type": "code",
   "execution_count": 10,
   "id": "91da1397-3255-4e64-a95f-c8a09c280097",
   "metadata": {
    "tags": []
   },
   "outputs": [
    {
     "name": "stderr",
     "output_type": "stream",
     "text": [
      "/var/folders/pt/26yk257s5nd579ngn9gyw3k40000gn/T/ipykernel_17993/472330152.py:1: SettingWithCopyWarning: \n",
      "A value is trying to be set on a copy of a slice from a DataFrame.\n",
      "Try using .loc[row_indexer,col_indexer] = value instead\n",
      "\n",
      "See the caveats in the documentation: https://pandas.pydata.org/pandas-docs/stable/user_guide/indexing.html#returning-a-view-versus-a-copy\n",
      "  A81.Value = A81.Value.map({1:'SOV', 2:'SVO', 3:'VSO', 4:'VOS', 5: 'OVS', 6: 'OSV', 7:'No dominant order'})\n"
     ]
    }
   ],
   "source": [
    "A81.Value = A81.Value.map({1:'SOV', 2:'SVO', 3:'VSO', 4:'VOS', 5: 'OVS', 6: 'OSV', 7:'No dominant order'})"
   ]
  },
  {
   "cell_type": "code",
   "execution_count": 11,
   "id": "51b68245-97eb-4ba1-87b9-9433c6146ec3",
   "metadata": {
    "tags": []
   },
   "outputs": [
    {
     "data": {
      "text/plain": [
       "Value\n",
       "SOV                  564\n",
       "SVO                  488\n",
       "No dominant order    189\n",
       "VSO                   95\n",
       "VOS                   25\n",
       "OVS                   11\n",
       "OSV                    4\n",
       "Name: count, dtype: int64"
      ]
     },
     "execution_count": 11,
     "metadata": {},
     "output_type": "execute_result"
    }
   ],
   "source": [
    "A81.Value.value_counts()"
   ]
  },
  {
   "cell_type": "code",
   "execution_count": 12,
   "id": "ec2efcc8-e2dd-41e7-905c-08eb5e643cc5",
   "metadata": {
    "tags": []
   },
   "outputs": [],
   "source": [
    "A81 = A81.dropna(axis=0)"
   ]
  },
  {
   "cell_type": "code",
   "execution_count": 13,
   "id": "48e8e309-2053-4a1b-9e30-32eeb0d2dac4",
   "metadata": {
    "tags": []
   },
   "outputs": [
    {
     "name": "stdout",
     "output_type": "stream",
     "text": [
      "<class 'pandas.core.frame.DataFrame'>\n",
      "Index: 1320 entries, 0 to 76448\n",
      "Data columns (total 5 columns):\n",
      " #   Column        Non-Null Count  Dtype \n",
      "---  ------        --------------  ----- \n",
      " 0   Language_ID   1320 non-null   object\n",
      " 1   Parameter_ID  1320 non-null   object\n",
      " 2   Value         1320 non-null   object\n",
      " 3   Name          1320 non-null   object\n",
      " 4   Family        1320 non-null   object\n",
      "dtypes: object(5)\n",
      "memory usage: 61.9+ KB\n"
     ]
    }
   ],
   "source": [
    "A81.info()"
   ]
  },
  {
   "cell_type": "code",
   "execution_count": 14,
   "id": "a02e79e5-7ac0-468b-8fe0-ca3aba3352b4",
   "metadata": {
    "tags": []
   },
   "outputs": [],
   "source": [
    "import os\n",
    "A81.to_csv('../Processed/81A.csv', index = False)"
   ]
  },
  {
   "cell_type": "code",
   "execution_count": 15,
   "id": "3715a46d-f65d-4488-89c2-14b9eb0c110a",
   "metadata": {
    "tags": []
   },
   "outputs": [
    {
     "data": {
      "text/html": [
       "<div>\n",
       "<style scoped>\n",
       "    .dataframe tbody tr th:only-of-type {\n",
       "        vertical-align: middle;\n",
       "    }\n",
       "\n",
       "    .dataframe tbody tr th {\n",
       "        vertical-align: top;\n",
       "    }\n",
       "\n",
       "    .dataframe thead th {\n",
       "        text-align: right;\n",
       "    }\n",
       "</style>\n",
       "<table border=\"1\" class=\"dataframe\">\n",
       "  <thead>\n",
       "    <tr style=\"text-align: right;\">\n",
       "      <th></th>\n",
       "      <th>Language_ID</th>\n",
       "      <th>Parameter_ID</th>\n",
       "      <th>Value</th>\n",
       "      <th>Name</th>\n",
       "      <th>Family</th>\n",
       "    </tr>\n",
       "  </thead>\n",
       "  <tbody>\n",
       "    <tr>\n",
       "      <th>107</th>\n",
       "      <td>abi</td>\n",
       "      <td>49A</td>\n",
       "      <td>1</td>\n",
       "      <td>Abipón</td>\n",
       "      <td>Guaicuruan</td>\n",
       "    </tr>\n",
       "    <tr>\n",
       "      <th>203</th>\n",
       "      <td>abk</td>\n",
       "      <td>49A</td>\n",
       "      <td>2</td>\n",
       "      <td>Abkhaz</td>\n",
       "      <td>Northwest Caucasian</td>\n",
       "    </tr>\n",
       "    <tr>\n",
       "      <th>745</th>\n",
       "      <td>aco</td>\n",
       "      <td>49A</td>\n",
       "      <td>1</td>\n",
       "      <td>Acoma</td>\n",
       "      <td>Keresan</td>\n",
       "    </tr>\n",
       "    <tr>\n",
       "      <th>1077</th>\n",
       "      <td>aeg</td>\n",
       "      <td>49A</td>\n",
       "      <td>1</td>\n",
       "      <td>Arabic (Egyptian)</td>\n",
       "      <td>Afro-Asiatic</td>\n",
       "    </tr>\n",
       "    <tr>\n",
       "      <th>1505</th>\n",
       "      <td>ain</td>\n",
       "      <td>49A</td>\n",
       "      <td>9</td>\n",
       "      <td>Ainu</td>\n",
       "      <td>NaN</td>\n",
       "    </tr>\n",
       "    <tr>\n",
       "      <th>1849</th>\n",
       "      <td>ala</td>\n",
       "      <td>49A</td>\n",
       "      <td>7</td>\n",
       "      <td>Alamblak</td>\n",
       "      <td>Sepik</td>\n",
       "    </tr>\n",
       "    <tr>\n",
       "      <th>1957</th>\n",
       "      <td>alb</td>\n",
       "      <td>49A</td>\n",
       "      <td>4</td>\n",
       "      <td>Albanian</td>\n",
       "      <td>Indo-European</td>\n",
       "    </tr>\n",
       "    <tr>\n",
       "      <th>2048</th>\n",
       "      <td>ale</td>\n",
       "      <td>49A</td>\n",
       "      <td>2</td>\n",
       "      <td>Aleut</td>\n",
       "      <td>Eskimo-Aleut</td>\n",
       "    </tr>\n",
       "    <tr>\n",
       "      <th>2433</th>\n",
       "      <td>ame</td>\n",
       "      <td>49A</td>\n",
       "      <td>1</td>\n",
       "      <td>Amele</td>\n",
       "      <td>Trans-New Guinea</td>\n",
       "    </tr>\n",
       "    <tr>\n",
       "      <th>2560</th>\n",
       "      <td>amh</td>\n",
       "      <td>49A</td>\n",
       "      <td>2</td>\n",
       "      <td>Amharic</td>\n",
       "      <td>Afro-Asiatic</td>\n",
       "    </tr>\n",
       "  </tbody>\n",
       "</table>\n",
       "</div>"
      ],
      "text/plain": [
       "     Language_ID Parameter_ID  Value               Name               Family\n",
       "107          abi          49A      1             Abipón           Guaicuruan\n",
       "203          abk          49A      2             Abkhaz  Northwest Caucasian\n",
       "745          aco          49A      1              Acoma              Keresan\n",
       "1077         aeg          49A      1  Arabic (Egyptian)         Afro-Asiatic\n",
       "1505         ain          49A      9               Ainu                  NaN\n",
       "1849         ala          49A      7           Alamblak                Sepik\n",
       "1957         alb          49A      4           Albanian        Indo-European\n",
       "2048         ale          49A      2              Aleut         Eskimo-Aleut\n",
       "2433         ame          49A      1              Amele     Trans-New Guinea\n",
       "2560         amh          49A      2            Amharic         Afro-Asiatic"
      ]
     },
     "execution_count": 15,
     "metadata": {},
     "output_type": "execute_result"
    }
   ],
   "source": [
    "A49.head(10)"
   ]
  },
  {
   "cell_type": "markdown",
   "id": "efcbaa23-af15-4c4b-9810-e623cb7a3428",
   "metadata": {},
   "source": [
    "49A:\n",
    "- Value 1 = No morphological case-marking\n",
    "- Value 2 = 2 cases\n",
    "- Value 3 = 3 cases\n",
    "- Value 4 = 4 cases\n",
    "- Value 5 = 5 cases\n",
    "- Value 6 = 6-7 cases\n",
    "- Value 7 = 8-9 cases\n",
    "- Value 8 = 10 or more cases\n",
    "- Value 9 = Exclusively borderline case-marking"
   ]
  },
  {
   "cell_type": "code",
   "execution_count": 16,
   "id": "403339da-9d65-4a9d-9196-2c26377325a8",
   "metadata": {
    "tags": []
   },
   "outputs": [
    {
     "name": "stderr",
     "output_type": "stream",
     "text": [
      "/var/folders/pt/26yk257s5nd579ngn9gyw3k40000gn/T/ipykernel_17993/789494174.py:1: SettingWithCopyWarning: \n",
      "A value is trying to be set on a copy of a slice from a DataFrame.\n",
      "Try using .loc[row_indexer,col_indexer] = value instead\n",
      "\n",
      "See the caveats in the documentation: https://pandas.pydata.org/pandas-docs/stable/user_guide/indexing.html#returning-a-view-versus-a-copy\n",
      "  A49.Value = A49.Value.map({1:'No morphological case-marking', 2:'2 cases', 3:'3 cases', 4:'4 cases', 5: '5 cases', 6: '6-7 cases', 7:'8-9 cases', 8:'10 or more cases', 9:'Exclusively borderline case-marking'})\n"
     ]
    }
   ],
   "source": [
    "A49.Value = A49.Value.map({1:'No morphological case-marking', 2:'2 cases', 3:'3 cases', 4:'4 cases', 5: '5 cases', 6: '6-7 cases', 7:'8-9 cases', 8:'10 or more cases', 9:'Exclusively borderline case-marking'})"
   ]
  },
  {
   "cell_type": "code",
   "execution_count": 17,
   "id": "5f9a7bd2-fdd4-4a48-8a6a-25e303149e98",
   "metadata": {
    "tags": []
   },
   "outputs": [
    {
     "data": {
      "text/plain": [
       "Value\n",
       "No morphological case-marking          100\n",
       "6-7 cases                               37\n",
       "Exclusively borderline case-marking     24\n",
       "10 or more cases                        24\n",
       "2 cases                                 23\n",
       "8-9 cases                               23\n",
       "5 cases                                 12\n",
       "4 cases                                  9\n",
       "3 cases                                  9\n",
       "Name: count, dtype: int64"
      ]
     },
     "execution_count": 17,
     "metadata": {},
     "output_type": "execute_result"
    }
   ],
   "source": [
    "A49.Value.value_counts()"
   ]
  },
  {
   "cell_type": "code",
   "execution_count": 18,
   "id": "aae2aefd-f5fa-4f5f-a6c4-ba045dca840b",
   "metadata": {
    "tags": []
   },
   "outputs": [],
   "source": [
    "A49 = A49.dropna(axis=0)"
   ]
  },
  {
   "cell_type": "code",
   "execution_count": 19,
   "id": "aaa47f1b-f867-44e0-9504-3a5aa42a6330",
   "metadata": {
    "tags": []
   },
   "outputs": [
    {
     "name": "stdout",
     "output_type": "stream",
     "text": [
      "<class 'pandas.core.frame.DataFrame'>\n",
      "Index: 242 entries, 107 to 76239\n",
      "Data columns (total 5 columns):\n",
      " #   Column        Non-Null Count  Dtype \n",
      "---  ------        --------------  ----- \n",
      " 0   Language_ID   242 non-null    object\n",
      " 1   Parameter_ID  242 non-null    object\n",
      " 2   Value         242 non-null    object\n",
      " 3   Name          242 non-null    object\n",
      " 4   Family        242 non-null    object\n",
      "dtypes: object(5)\n",
      "memory usage: 11.3+ KB\n"
     ]
    }
   ],
   "source": [
    "A49.info()"
   ]
  },
  {
   "cell_type": "code",
   "execution_count": 20,
   "id": "85170099-5f8c-41d9-a118-b5eb25f72ebe",
   "metadata": {
    "tags": []
   },
   "outputs": [],
   "source": [
    "import os\n",
    "A49.to_csv('../Processed/49A.csv', index = False)"
   ]
  }
 ],
 "metadata": {
  "kernelspec": {
   "display_name": "Python 3 (ipykernel)",
   "language": "python",
   "name": "python3"
  },
  "language_info": {
   "codemirror_mode": {
    "name": "ipython",
    "version": 3
   },
   "file_extension": ".py",
   "mimetype": "text/x-python",
   "name": "python",
   "nbconvert_exporter": "python",
   "pygments_lexer": "ipython3",
   "version": "3.9.13"
  }
 },
 "nbformat": 4,
 "nbformat_minor": 5
}
