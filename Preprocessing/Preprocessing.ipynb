{
 "cells": [
  {
   "cell_type": "markdown",
   "metadata": {
    "tags": []
   },
   "source": [
    "# preprocessing"
   ]
  },
  {
   "cell_type": "code",
   "execution_count": 14,
   "metadata": {
    "tags": []
   },
   "outputs": [],
   "source": [
    "import pandas as pd"
   ]
  },
  {
   "cell_type": "markdown",
   "metadata": {},
   "source": [
    "### Lang_ID to Lang name map"
   ]
  },
  {
   "cell_type": "code",
   "execution_count": 15,
   "metadata": {
    "tags": []
   },
   "outputs": [],
   "source": [
    "mp = pd.read_csv('../data/language_names.csv')"
   ]
  },
  {
   "cell_type": "code",
   "execution_count": 16,
   "metadata": {
    "tags": []
   },
   "outputs": [
    {
     "data": {
      "text/html": [
       "<div>\n",
       "<style scoped>\n",
       "    .dataframe tbody tr th:only-of-type {\n",
       "        vertical-align: middle;\n",
       "    }\n",
       "\n",
       "    .dataframe tbody tr th {\n",
       "        vertical-align: top;\n",
       "    }\n",
       "\n",
       "    .dataframe thead th {\n",
       "        text-align: right;\n",
       "    }\n",
       "</style>\n",
       "<table border=\"1\" class=\"dataframe\">\n",
       "  <thead>\n",
       "    <tr style=\"text-align: right;\">\n",
       "      <th></th>\n",
       "      <th>ID</th>\n",
       "      <th>Language_ID</th>\n",
       "      <th>Name</th>\n",
       "      <th>Provider</th>\n",
       "    </tr>\n",
       "  </thead>\n",
       "  <tbody>\n",
       "    <tr>\n",
       "      <th>0</th>\n",
       "      <td>1</td>\n",
       "      <td>xoo</td>\n",
       "      <td>!Xóõ</td>\n",
       "      <td>ethnologue</td>\n",
       "    </tr>\n",
       "    <tr>\n",
       "      <th>1</th>\n",
       "      <td>2</td>\n",
       "      <td>arx</td>\n",
       "      <td>'Are'are</td>\n",
       "      <td>ethnologue</td>\n",
       "    </tr>\n",
       "    <tr>\n",
       "      <th>2</th>\n",
       "      <td>3</td>\n",
       "      <td>apk gan</td>\n",
       "      <td>A-Pucikwar</td>\n",
       "      <td>ethnologue</td>\n",
       "    </tr>\n",
       "    <tr>\n",
       "      <th>3</th>\n",
       "      <td>4</td>\n",
       "      <td>aar</td>\n",
       "      <td>Aari</td>\n",
       "      <td>ethnologue</td>\n",
       "    </tr>\n",
       "    <tr>\n",
       "      <th>4</th>\n",
       "      <td>5</td>\n",
       "      <td>aba</td>\n",
       "      <td>Abau</td>\n",
       "      <td>ethnologue</td>\n",
       "    </tr>\n",
       "  </tbody>\n",
       "</table>\n",
       "</div>"
      ],
      "text/plain": [
       "   ID Language_ID        Name    Provider\n",
       "0   1         xoo        !Xóõ  ethnologue\n",
       "1   2         arx    'Are'are  ethnologue\n",
       "2   3     apk gan  A-Pucikwar  ethnologue\n",
       "3   4         aar        Aari  ethnologue\n",
       "4   5         aba        Abau  ethnologue"
      ]
     },
     "execution_count": 16,
     "metadata": {},
     "output_type": "execute_result"
    }
   ],
   "source": [
    "mp.head(5)"
   ]
  },
  {
   "cell_type": "code",
   "execution_count": 17,
   "metadata": {
    "tags": []
   },
   "outputs": [],
   "source": [
    "mp.drop(['ID', 'Provider'], axis = 1)\n",
    "langs = {}\n",
    "i = 0\n",
    "for i in range(len(mp.index)):\n",
    "    abbv, name = mp.iloc[i][1], mp.iloc[i][2]\n",
    "    langs[abbv] = name"
   ]
  },
  {
   "cell_type": "markdown",
   "metadata": {},
   "source": [
    "### langID to family"
   ]
  },
  {
   "cell_type": "code",
   "execution_count": 18,
   "metadata": {
    "tags": []
   },
   "outputs": [],
   "source": [
    "fam = pd.read_csv('../data/languagesMSD.csv')"
   ]
  },
  {
   "cell_type": "code",
   "execution_count": 19,
   "metadata": {
    "tags": []
   },
   "outputs": [],
   "source": [
    "fam = fam.drop(['NameOLD', 'NameNEW', 'MacroareaOLD', 'MacroareaNEW',\n",
    "       'LatitudeOLD', 'LatitudeNEW', 'LongitudeOLD', 'LongitudeNEW',\n",
    "       'GlottocodeOLD', 'GlottocodeNEW', 'ISO639P3code',\n",
    "       'FamilyNEW', 'SubfamilyOLD', 'SubfamilyNEW', 'GenusOLD', 'GenusNEW',\n",
    "       'GenusIcon', 'ISO_codesOLD', 'ISO_codesNEW', 'Samples_100',\n",
    "       'Samples_200', 'Country_IDOLD', 'Country_IDNEW', 'Source'], axis = 1)"
   ]
  },
  {
   "cell_type": "code",
   "execution_count": 20,
   "metadata": {
    "tags": []
   },
   "outputs": [],
   "source": [
    "fam.columns = ['Language_ID', 'Familiy']"
   ]
  },
  {
   "cell_type": "code",
   "execution_count": 21,
   "metadata": {
    "tags": []
   },
   "outputs": [],
   "source": [
    "fams = {}\n",
    "i = 0\n",
    "for i in range(len(fam.index)):\n",
    "    abbv, family = fam.iloc[i][0], fam.iloc[i][1]\n",
    "    fams[abbv] = family"
   ]
  },
  {
   "cell_type": "markdown",
   "metadata": {},
   "source": [
    "### Loading data set"
   ]
  },
  {
   "cell_type": "code",
   "execution_count": 22,
   "metadata": {
    "tags": []
   },
   "outputs": [],
   "source": [
    "df = pd.read_csv('../data/values.csv')"
   ]
  },
  {
   "cell_type": "code",
   "execution_count": 23,
   "metadata": {
    "tags": []
   },
   "outputs": [],
   "source": [
    "df['Name'] = df['Language_ID']\n",
    "df['Family'] = df['Language_ID']"
   ]
  },
  {
   "cell_type": "code",
   "execution_count": 24,
   "metadata": {
    "tags": []
   },
   "outputs": [],
   "source": [
    "df['Name'] = df['Name'].map(langs)\n",
    "df['Family'] = df['Family'].map(fams)"
   ]
  },
  {
   "cell_type": "code",
   "execution_count": 25,
   "metadata": {
    "tags": []
   },
   "outputs": [],
   "source": [
    "df = df.drop(['ID','Code_ID', 'Comment', 'Source', 'Example_ID' ],axis=1)"
   ]
  },
  {
   "cell_type": "code",
   "execution_count": 26,
   "metadata": {
    "tags": []
   },
   "outputs": [
    {
     "data": {
      "text/html": [
       "<div>\n",
       "<style scoped>\n",
       "    .dataframe tbody tr th:only-of-type {\n",
       "        vertical-align: middle;\n",
       "    }\n",
       "\n",
       "    .dataframe tbody tr th {\n",
       "        vertical-align: top;\n",
       "    }\n",
       "\n",
       "    .dataframe thead th {\n",
       "        text-align: right;\n",
       "    }\n",
       "</style>\n",
       "<table border=\"1\" class=\"dataframe\">\n",
       "  <thead>\n",
       "    <tr style=\"text-align: right;\">\n",
       "      <th></th>\n",
       "      <th>Language_ID</th>\n",
       "      <th>Parameter_ID</th>\n",
       "      <th>Value</th>\n",
       "      <th>Name</th>\n",
       "      <th>Family</th>\n",
       "    </tr>\n",
       "  </thead>\n",
       "  <tbody>\n",
       "    <tr>\n",
       "      <th>22</th>\n",
       "      <td>aar</td>\n",
       "      <td>26A</td>\n",
       "      <td>2</td>\n",
       "      <td>Ari</td>\n",
       "      <td>Afro-Asiatic</td>\n",
       "    </tr>\n",
       "    <tr>\n",
       "      <th>23</th>\n",
       "      <td>aar</td>\n",
       "      <td>33A</td>\n",
       "      <td>9</td>\n",
       "      <td>Ari</td>\n",
       "      <td>Afro-Asiatic</td>\n",
       "    </tr>\n",
       "    <tr>\n",
       "      <th>24</th>\n",
       "      <td>aar</td>\n",
       "      <td>37A</td>\n",
       "      <td>3</td>\n",
       "      <td>Ari</td>\n",
       "      <td>Afro-Asiatic</td>\n",
       "    </tr>\n",
       "    <tr>\n",
       "      <th>25</th>\n",
       "      <td>aar</td>\n",
       "      <td>38A</td>\n",
       "      <td>4</td>\n",
       "      <td>Ari</td>\n",
       "      <td>Afro-Asiatic</td>\n",
       "    </tr>\n",
       "    <tr>\n",
       "      <th>26</th>\n",
       "      <td>aar</td>\n",
       "      <td>51A</td>\n",
       "      <td>1</td>\n",
       "      <td>Ari</td>\n",
       "      <td>Afro-Asiatic</td>\n",
       "    </tr>\n",
       "    <tr>\n",
       "      <th>...</th>\n",
       "      <td>...</td>\n",
       "      <td>...</td>\n",
       "      <td>...</td>\n",
       "      <td>...</td>\n",
       "      <td>...</td>\n",
       "    </tr>\n",
       "    <tr>\n",
       "      <th>76470</th>\n",
       "      <td>zzo</td>\n",
       "      <td>144B</td>\n",
       "      <td>3</td>\n",
       "      <td>Zapotec, Zoogocho</td>\n",
       "      <td>Oto-Manguean</td>\n",
       "    </tr>\n",
       "    <tr>\n",
       "      <th>76471</th>\n",
       "      <td>zzo</td>\n",
       "      <td>144T</td>\n",
       "      <td>1</td>\n",
       "      <td>Zapotec, Zoogocho</td>\n",
       "      <td>Oto-Manguean</td>\n",
       "    </tr>\n",
       "    <tr>\n",
       "      <th>76472</th>\n",
       "      <td>zzo</td>\n",
       "      <td>144V</td>\n",
       "      <td>1</td>\n",
       "      <td>Zapotec, Zoogocho</td>\n",
       "      <td>Oto-Manguean</td>\n",
       "    </tr>\n",
       "    <tr>\n",
       "      <th>76473</th>\n",
       "      <td>zzo</td>\n",
       "      <td>144W</td>\n",
       "      <td>6</td>\n",
       "      <td>Zapotec, Zoogocho</td>\n",
       "      <td>Oto-Manguean</td>\n",
       "    </tr>\n",
       "    <tr>\n",
       "      <th>76474</th>\n",
       "      <td>zzo</td>\n",
       "      <td>144X</td>\n",
       "      <td>4</td>\n",
       "      <td>Zapotec, Zoogocho</td>\n",
       "      <td>Oto-Manguean</td>\n",
       "    </tr>\n",
       "  </tbody>\n",
       "</table>\n",
       "<p>70427 rows × 5 columns</p>\n",
       "</div>"
      ],
      "text/plain": [
       "      Language_ID Parameter_ID  Value               Name        Family\n",
       "22            aar          26A      2                Ari  Afro-Asiatic\n",
       "23            aar          33A      9                Ari  Afro-Asiatic\n",
       "24            aar          37A      3                Ari  Afro-Asiatic\n",
       "25            aar          38A      4                Ari  Afro-Asiatic\n",
       "26            aar          51A      1                Ari  Afro-Asiatic\n",
       "...           ...          ...    ...                ...           ...\n",
       "76470         zzo         144B      3  Zapotec, Zoogocho  Oto-Manguean\n",
       "76471         zzo         144T      1  Zapotec, Zoogocho  Oto-Manguean\n",
       "76472         zzo         144V      1  Zapotec, Zoogocho  Oto-Manguean\n",
       "76473         zzo         144W      6  Zapotec, Zoogocho  Oto-Manguean\n",
       "76474         zzo         144X      4  Zapotec, Zoogocho  Oto-Manguean\n",
       "\n",
       "[70427 rows x 5 columns]"
      ]
     },
     "execution_count": 26,
     "metadata": {},
     "output_type": "execute_result"
    }
   ],
   "source": [
    "df.dropna()"
   ]
  },
  {
   "cell_type": "markdown",
   "metadata": {},
   "source": [
    "### preprocessing for U2 (see new notebook \"Preprocessing for U2\")\n",
    "\n",
    "86A Order of Genitive and Noun\n",
    "85A Order of Adposition and Noun Phrase"
   ]
  },
  {
   "cell_type": "code",
   "execution_count": 28,
   "metadata": {
    "tags": []
   },
   "outputs": [],
   "source": [
    "A86 = df[df['Parameter_ID'] == '86A']\n",
    "A85 = df[df['Parameter_ID'] == '85A']"
   ]
  },
  {
   "cell_type": "code",
   "execution_count": 29,
   "metadata": {
    "tags": []
   },
   "outputs": [
    {
     "data": {
      "text/html": [
       "<div>\n",
       "<style scoped>\n",
       "    .dataframe tbody tr th:only-of-type {\n",
       "        vertical-align: middle;\n",
       "    }\n",
       "\n",
       "    .dataframe tbody tr th {\n",
       "        vertical-align: top;\n",
       "    }\n",
       "\n",
       "    .dataframe thead th {\n",
       "        text-align: right;\n",
       "    }\n",
       "</style>\n",
       "<table border=\"1\" class=\"dataframe\">\n",
       "  <thead>\n",
       "    <tr style=\"text-align: right;\">\n",
       "      <th></th>\n",
       "      <th>Language_ID</th>\n",
       "      <th>Parameter_ID</th>\n",
       "      <th>Value</th>\n",
       "      <th>Name</th>\n",
       "      <th>Family</th>\n",
       "    </tr>\n",
       "  </thead>\n",
       "  <tbody>\n",
       "    <tr>\n",
       "      <th>32</th>\n",
       "      <td>aar</td>\n",
       "      <td>86A</td>\n",
       "      <td>1</td>\n",
       "      <td>Ari</td>\n",
       "      <td>Afro-Asiatic</td>\n",
       "    </tr>\n",
       "    <tr>\n",
       "      <th>55</th>\n",
       "      <td>aba</td>\n",
       "      <td>86A</td>\n",
       "      <td>1</td>\n",
       "      <td>Abau</td>\n",
       "      <td>Sepik</td>\n",
       "    </tr>\n",
       "    <tr>\n",
       "      <th>123</th>\n",
       "      <td>abi</td>\n",
       "      <td>86A</td>\n",
       "      <td>3</td>\n",
       "      <td>Abipon</td>\n",
       "      <td>Guaicuruan</td>\n",
       "    </tr>\n",
       "    <tr>\n",
       "      <th>241</th>\n",
       "      <td>abk</td>\n",
       "      <td>86A</td>\n",
       "      <td>1</td>\n",
       "      <td>Abkhaz</td>\n",
       "      <td>Northwest Caucasian</td>\n",
       "    </tr>\n",
       "    <tr>\n",
       "      <th>349</th>\n",
       "      <td>abn</td>\n",
       "      <td>86A</td>\n",
       "      <td>3</td>\n",
       "      <td>Arabana</td>\n",
       "      <td>Pama-Nyungan</td>\n",
       "    </tr>\n",
       "    <tr>\n",
       "      <th>372</th>\n",
       "      <td>abo</td>\n",
       "      <td>86A</td>\n",
       "      <td>2</td>\n",
       "      <td>Arbore</td>\n",
       "      <td>Afro-Asiatic</td>\n",
       "    </tr>\n",
       "    <tr>\n",
       "      <th>400</th>\n",
       "      <td>abu</td>\n",
       "      <td>86A</td>\n",
       "      <td>1</td>\n",
       "      <td>Yimbun</td>\n",
       "      <td>West Papuan</td>\n",
       "    </tr>\n",
       "    <tr>\n",
       "      <th>450</th>\n",
       "      <td>abv</td>\n",
       "      <td>86A</td>\n",
       "      <td>1</td>\n",
       "      <td>Abui</td>\n",
       "      <td>Timor-Alor-Pantar</td>\n",
       "    </tr>\n",
       "    <tr>\n",
       "      <th>515</th>\n",
       "      <td>ace</td>\n",
       "      <td>86A</td>\n",
       "      <td>2</td>\n",
       "      <td>Achinese</td>\n",
       "      <td>Austronesian</td>\n",
       "    </tr>\n",
       "    <tr>\n",
       "      <th>570</th>\n",
       "      <td>acg</td>\n",
       "      <td>86A</td>\n",
       "      <td>1</td>\n",
       "      <td>Achagua</td>\n",
       "      <td>Arawakan</td>\n",
       "    </tr>\n",
       "  </tbody>\n",
       "</table>\n",
       "</div>"
      ],
      "text/plain": [
       "    Language_ID Parameter_ID  Value      Name               Family\n",
       "32          aar          86A      1       Ari         Afro-Asiatic\n",
       "55          aba          86A      1      Abau                Sepik\n",
       "123         abi          86A      3    Abipon           Guaicuruan\n",
       "241         abk          86A      1    Abkhaz  Northwest Caucasian\n",
       "349         abn          86A      3   Arabana         Pama-Nyungan\n",
       "372         abo          86A      2    Arbore         Afro-Asiatic\n",
       "400         abu          86A      1    Yimbun          West Papuan\n",
       "450         abv          86A      1      Abui    Timor-Alor-Pantar\n",
       "515         ace          86A      2  Achinese         Austronesian\n",
       "570         acg          86A      1   Achagua             Arawakan"
      ]
     },
     "execution_count": 29,
     "metadata": {},
     "output_type": "execute_result"
    }
   ],
   "source": [
    "A86.head(10)"
   ]
  },
  {
   "cell_type": "markdown",
   "metadata": {},
   "source": [
    "#### 86A:\n",
    "- Value 1 = Genitive-Noun\n",
    "- Value 2 = Noun-Genitive\n",
    "- value 3 = No dominant order"
   ]
  },
  {
   "cell_type": "code",
   "execution_count": 30,
   "metadata": {
    "tags": []
   },
   "outputs": [
    {
     "name": "stderr",
     "output_type": "stream",
     "text": [
      "C:\\Users\\hannn\\AppData\\Local\\Temp\\ipykernel_16292\\3200160139.py:1: SettingWithCopyWarning: \n",
      "A value is trying to be set on a copy of a slice from a DataFrame.\n",
      "Try using .loc[row_indexer,col_indexer] = value instead\n",
      "\n",
      "See the caveats in the documentation: https://pandas.pydata.org/pandas-docs/stable/user_guide/indexing.html#returning-a-view-versus-a-copy\n",
      "  A86.Value = A86.Value.map({1:'Genetive-Noun', 2:'Noun_Genitive', 3:'No dominant genitive noun order'})\n"
     ]
    }
   ],
   "source": [
    "A86.Value = A86.Value.map({1:'Genetive-Noun', 2:'Noun_Genitive', 3:'No dominant genitive noun order'})"
   ]
  },
  {
   "cell_type": "code",
   "execution_count": 31,
   "metadata": {
    "tags": []
   },
   "outputs": [
    {
     "data": {
      "text/plain": [
       "Value\n",
       "Genetive-Noun                      685\n",
       "Noun_Genitive                      468\n",
       "No dominant genitive noun order     96\n",
       "Name: count, dtype: int64"
      ]
     },
     "execution_count": 31,
     "metadata": {},
     "output_type": "execute_result"
    }
   ],
   "source": [
    "A86.Value.value_counts()"
   ]
  },
  {
   "cell_type": "code",
   "execution_count": 32,
   "metadata": {
    "tags": []
   },
   "outputs": [],
   "source": [
    "A86 = A86.dropna(axis=0)"
   ]
  },
  {
   "cell_type": "code",
   "execution_count": 33,
   "metadata": {
    "tags": []
   },
   "outputs": [
    {
     "data": {
      "text/plain": [
       "Value\n",
       "Genetive-Noun                      627\n",
       "Noun_Genitive                      444\n",
       "No dominant genitive noun order     89\n",
       "Name: count, dtype: int64"
      ]
     },
     "execution_count": 33,
     "metadata": {},
     "output_type": "execute_result"
    }
   ],
   "source": [
    "A86.Value.value_counts()"
   ]
  },
  {
   "cell_type": "code",
   "execution_count": 34,
   "metadata": {
    "tags": []
   },
   "outputs": [
    {
     "name": "stdout",
     "output_type": "stream",
     "text": [
      "<class 'pandas.core.frame.DataFrame'>\n",
      "Index: 1160 entries, 32 to 76434\n",
      "Data columns (total 5 columns):\n",
      " #   Column        Non-Null Count  Dtype \n",
      "---  ------        --------------  ----- \n",
      " 0   Language_ID   1160 non-null   object\n",
      " 1   Parameter_ID  1160 non-null   object\n",
      " 2   Value         1160 non-null   object\n",
      " 3   Name          1160 non-null   object\n",
      " 4   Family        1160 non-null   object\n",
      "dtypes: object(5)\n",
      "memory usage: 54.4+ KB\n"
     ]
    }
   ],
   "source": [
    "A86.info()"
   ]
  },
  {
   "cell_type": "code",
   "execution_count": 35,
   "metadata": {
    "tags": []
   },
   "outputs": [],
   "source": [
    "A86.Parameter_ID = 'A86'\n"
   ]
  },
  {
   "cell_type": "code",
   "execution_count": 36,
   "metadata": {
    "tags": []
   },
   "outputs": [],
   "source": [
    "import os\n",
    "A86.to_csv('../Processed/86A.csv', index = False)"
   ]
  },
  {
   "cell_type": "markdown",
   "metadata": {},
   "source": [
    "#### A85\n"
   ]
  },
  {
   "cell_type": "markdown",
   "metadata": {},
   "source": [
    "value 1 = postpositions\n",
    "value 2 = prepositions\n",
    "value 3 = inpositions\n",
    "value 4 = no dominant order\n",
    "value 5 = no adpositions"
   ]
  },
  {
   "cell_type": "code",
   "execution_count": 37,
   "metadata": {
    "tags": []
   },
   "outputs": [
    {
     "data": {
      "text/html": [
       "<div>\n",
       "<style scoped>\n",
       "    .dataframe tbody tr th:only-of-type {\n",
       "        vertical-align: middle;\n",
       "    }\n",
       "\n",
       "    .dataframe tbody tr th {\n",
       "        vertical-align: top;\n",
       "    }\n",
       "\n",
       "    .dataframe thead th {\n",
       "        text-align: right;\n",
       "    }\n",
       "</style>\n",
       "<table border=\"1\" class=\"dataframe\">\n",
       "  <thead>\n",
       "    <tr style=\"text-align: right;\">\n",
       "      <th></th>\n",
       "      <th>Language_ID</th>\n",
       "      <th>Parameter_ID</th>\n",
       "      <th>Value</th>\n",
       "      <th>Name</th>\n",
       "      <th>Family</th>\n",
       "    </tr>\n",
       "  </thead>\n",
       "  <tbody>\n",
       "    <tr>\n",
       "      <th>31</th>\n",
       "      <td>aar</td>\n",
       "      <td>85A</td>\n",
       "      <td>1</td>\n",
       "      <td>Ari</td>\n",
       "      <td>Afro-Asiatic</td>\n",
       "    </tr>\n",
       "    <tr>\n",
       "      <th>54</th>\n",
       "      <td>aba</td>\n",
       "      <td>85A</td>\n",
       "      <td>1</td>\n",
       "      <td>Abau</td>\n",
       "      <td>Sepik</td>\n",
       "    </tr>\n",
       "    <tr>\n",
       "      <th>122</th>\n",
       "      <td>abi</td>\n",
       "      <td>85A</td>\n",
       "      <td>2</td>\n",
       "      <td>Abipon</td>\n",
       "      <td>Guaicuruan</td>\n",
       "    </tr>\n",
       "    <tr>\n",
       "      <th>240</th>\n",
       "      <td>abk</td>\n",
       "      <td>85A</td>\n",
       "      <td>1</td>\n",
       "      <td>Abkhaz</td>\n",
       "      <td>Northwest Caucasian</td>\n",
       "    </tr>\n",
       "    <tr>\n",
       "      <th>399</th>\n",
       "      <td>abu</td>\n",
       "      <td>85A</td>\n",
       "      <td>2</td>\n",
       "      <td>Yimbun</td>\n",
       "      <td>West Papuan</td>\n",
       "    </tr>\n",
       "    <tr>\n",
       "      <th>449</th>\n",
       "      <td>abv</td>\n",
       "      <td>85A</td>\n",
       "      <td>5</td>\n",
       "      <td>Abui</td>\n",
       "      <td>Timor-Alor-Pantar</td>\n",
       "    </tr>\n",
       "    <tr>\n",
       "      <th>514</th>\n",
       "      <td>ace</td>\n",
       "      <td>85A</td>\n",
       "      <td>2</td>\n",
       "      <td>Achinese</td>\n",
       "      <td>Austronesian</td>\n",
       "    </tr>\n",
       "    <tr>\n",
       "      <th>569</th>\n",
       "      <td>acg</td>\n",
       "      <td>85A</td>\n",
       "      <td>1</td>\n",
       "      <td>Achagua</td>\n",
       "      <td>Arawakan</td>\n",
       "    </tr>\n",
       "    <tr>\n",
       "      <th>620</th>\n",
       "      <td>acl</td>\n",
       "      <td>85A</td>\n",
       "      <td>2</td>\n",
       "      <td>Acholi</td>\n",
       "      <td>Eastern Sudanic</td>\n",
       "    </tr>\n",
       "    <tr>\n",
       "      <th>665</th>\n",
       "      <td>acm</td>\n",
       "      <td>85A</td>\n",
       "      <td>2</td>\n",
       "      <td>Achumawi</td>\n",
       "      <td>Hokan</td>\n",
       "    </tr>\n",
       "  </tbody>\n",
       "</table>\n",
       "</div>"
      ],
      "text/plain": [
       "    Language_ID Parameter_ID  Value      Name               Family\n",
       "31          aar          85A      1       Ari         Afro-Asiatic\n",
       "54          aba          85A      1      Abau                Sepik\n",
       "122         abi          85A      2    Abipon           Guaicuruan\n",
       "240         abk          85A      1    Abkhaz  Northwest Caucasian\n",
       "399         abu          85A      2    Yimbun          West Papuan\n",
       "449         abv          85A      5      Abui    Timor-Alor-Pantar\n",
       "514         ace          85A      2  Achinese         Austronesian\n",
       "569         acg          85A      1   Achagua             Arawakan\n",
       "620         acl          85A      2    Acholi      Eastern Sudanic\n",
       "665         acm          85A      2  Achumawi                Hokan"
      ]
     },
     "execution_count": 37,
     "metadata": {},
     "output_type": "execute_result"
    }
   ],
   "source": [
    "A85.head(10)"
   ]
  },
  {
   "cell_type": "code",
   "execution_count": 38,
   "metadata": {
    "tags": []
   },
   "outputs": [
    {
     "data": {
      "text/plain": [
       "Value\n",
       "1    577\n",
       "2    511\n",
       "4     58\n",
       "5     30\n",
       "3      8\n",
       "Name: count, dtype: int64"
      ]
     },
     "execution_count": 38,
     "metadata": {},
     "output_type": "execute_result"
    }
   ],
   "source": [
    "A85.Value.value_counts()"
   ]
  },
  {
   "cell_type": "code",
   "execution_count": 39,
   "metadata": {
    "tags": []
   },
   "outputs": [
    {
     "name": "stderr",
     "output_type": "stream",
     "text": [
      "C:\\Users\\hannn\\AppData\\Local\\Temp\\ipykernel_16292\\2895767538.py:1: SettingWithCopyWarning: \n",
      "A value is trying to be set on a copy of a slice from a DataFrame.\n",
      "Try using .loc[row_indexer,col_indexer] = value instead\n",
      "\n",
      "See the caveats in the documentation: https://pandas.pydata.org/pandas-docs/stable/user_guide/indexing.html#returning-a-view-versus-a-copy\n",
      "  A85.Value = A85.Value.map({1:'Postpositions', 2:'Prepositions', 3:'Inpositions', 4: 'No dominant adposition order', 5:'No adpositions'})\n"
     ]
    }
   ],
   "source": [
    "A85.Value = A85.Value.map({1:'Postpositions', 2:'Prepositions', 3:'Inpositions', 4: 'No dominant adposition order', 5:'No adpositions'})"
   ]
  },
  {
   "cell_type": "code",
   "execution_count": 40,
   "metadata": {
    "tags": []
   },
   "outputs": [
    {
     "data": {
      "text/plain": [
       "Value\n",
       "Postpositions                   577\n",
       "Prepositions                    511\n",
       "No dominant adposition order     58\n",
       "No adpositions                   30\n",
       "Inpositions                       8\n",
       "Name: count, dtype: int64"
      ]
     },
     "execution_count": 40,
     "metadata": {},
     "output_type": "execute_result"
    }
   ],
   "source": [
    "A85.Value.value_counts()"
   ]
  },
  {
   "cell_type": "code",
   "execution_count": 41,
   "metadata": {
    "tags": []
   },
   "outputs": [],
   "source": [
    "A85 = A85.dropna(axis=0)"
   ]
  },
  {
   "cell_type": "code",
   "execution_count": 42,
   "metadata": {
    "tags": []
   },
   "outputs": [],
   "source": [
    "A85.Parameter_ID = 'A85'"
   ]
  },
  {
   "cell_type": "code",
   "execution_count": 43,
   "metadata": {
    "tags": []
   },
   "outputs": [],
   "source": [
    "A85.to_csv('../Processed/85A.csv', index = False)"
   ]
  },
  {
   "cell_type": "markdown",
   "metadata": {},
   "source": [
    "### pre processing for U3"
   ]
  },
  {
   "cell_type": "markdown",
   "metadata": {},
   "source": [
    "### pre processing for U4"
   ]
  }
 ],
 "metadata": {
  "kernelspec": {
   "display_name": "Python 3 (ipykernel)",
   "language": "python",
   "name": "python3"
  },
  "language_info": {
   "codemirror_mode": {
    "name": "ipython",
    "version": 3
   },
   "file_extension": ".py",
   "mimetype": "text/x-python",
   "name": "python",
   "nbconvert_exporter": "python",
   "pygments_lexer": "ipython3",
   "version": "3.9.13"
  }
 },
 "nbformat": 4,
 "nbformat_minor": 4
}
