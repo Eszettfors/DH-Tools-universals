{
 "cells": [
  {
   "cell_type": "code",
   "execution_count": 1,
   "id": "becf1283-14b0-4bbe-8310-faeace4c3d1a",
   "metadata": {},
   "outputs": [],
   "source": [
    "# notebook to ensure github collab is working"
   ]
  },
  {
   "cell_type": "code",
   "execution_count": 2,
   "id": "ba302588-eeaf-4467-837d-9d8e5f98473a",
   "metadata": {},
   "outputs": [
    {
     "data": {
      "text/plain": [
       "66"
      ]
     },
     "execution_count": 2,
     "metadata": {},
     "output_type": "execute_result"
    }
   ],
   "source": [
    "34+32"
   ]
  },
  {
   "cell_type": "code",
   "execution_count": null,
   "id": "44ce1e52-2c2b-43ed-b39e-bd421f2985dc",
   "metadata": {},
   "outputs": [],
   "source": []
  }
 ],
 "metadata": {
  "kernelspec": {
   "display_name": "Python 3 (ipykernel)",
   "language": "python",
   "name": "python3"
  },
  "language_info": {
   "codemirror_mode": {
    "name": "ipython",
    "version": 3
   },
   "file_extension": ".py",
   "mimetype": "text/x-python",
   "name": "python",
   "nbconvert_exporter": "python",
   "pygments_lexer": "ipython3",
   "version": "3.11.5"
  }
 },
 "nbformat": 4,
 "nbformat_minor": 5
}
